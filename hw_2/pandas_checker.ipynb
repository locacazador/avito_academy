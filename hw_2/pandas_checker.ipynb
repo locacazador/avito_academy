{
 "cells": [
  {
   "cell_type": "code",
   "execution_count": 1,
   "metadata": {
    "ExecuteTime": {
     "end_time": "2021-09-26T15:57:20.176899Z",
     "start_time": "2021-09-26T15:57:18.572713Z"
    }
   },
   "outputs": [],
   "source": [
    "import pandas as pd "
   ]
  },
  {
   "cell_type": "code",
   "execution_count": 9,
   "metadata": {
    "ExecuteTime": {
     "end_time": "2021-09-26T16:00:22.349261Z",
     "start_time": "2021-09-26T16:00:22.338294Z"
    }
   },
   "outputs": [],
   "source": [
    "import numpy as np"
   ]
  },
  {
   "cell_type": "code",
   "execution_count": 5,
   "metadata": {
    "ExecuteTime": {
     "end_time": "2021-09-26T15:59:20.978335Z",
     "start_time": "2021-09-26T15:59:20.962378Z"
    }
   },
   "outputs": [],
   "source": [
    "data = pd.read_csv('test.csv.csv', encoding='windows-1251', delimiter=';')"
   ]
  },
  {
   "cell_type": "code",
   "execution_count": 8,
   "metadata": {
    "ExecuteTime": {
     "end_time": "2021-09-26T16:00:01.462187Z",
     "start_time": "2021-09-26T16:00:01.442212Z"
    }
   },
   "outputs": [
    {
     "data": {
      "text/html": [
       "<div>\n",
       "<style scoped>\n",
       "    .dataframe tbody tr th:only-of-type {\n",
       "        vertical-align: middle;\n",
       "    }\n",
       "\n",
       "    .dataframe tbody tr th {\n",
       "        vertical-align: top;\n",
       "    }\n",
       "\n",
       "    .dataframe thead th {\n",
       "        text-align: right;\n",
       "    }\n",
       "</style>\n",
       "<table border=\"1\" class=\"dataframe\">\n",
       "  <thead>\n",
       "    <tr style=\"text-align: right;\">\n",
       "      <th></th>\n",
       "      <th>ФИО полностью</th>\n",
       "      <th>Департамент</th>\n",
       "      <th>Отдел</th>\n",
       "      <th>Должность</th>\n",
       "      <th>Оценка</th>\n",
       "      <th>Оклад</th>\n",
       "    </tr>\n",
       "  </thead>\n",
       "  <tbody>\n",
       "    <tr>\n",
       "      <th>0</th>\n",
       "      <td>Баранов Трофим Васильевич</td>\n",
       "      <td>Продажи</td>\n",
       "      <td>B2B</td>\n",
       "      <td>Sales manager</td>\n",
       "      <td>3.8</td>\n",
       "      <td>106600</td>\n",
       "    </tr>\n",
       "    <tr>\n",
       "      <th>1</th>\n",
       "      <td>Творимир Давыдович Суханов</td>\n",
       "      <td>Маркетинг</td>\n",
       "      <td>Performance</td>\n",
       "      <td>Маркетинг-менеджер</td>\n",
       "      <td>4.0</td>\n",
       "      <td>65900</td>\n",
       "    </tr>\n",
       "    <tr>\n",
       "      <th>2</th>\n",
       "      <td>Евлампий Валерианович Карпов</td>\n",
       "      <td>Бухгалтерия</td>\n",
       "      <td>Зарплата</td>\n",
       "      <td>Бухгалтер</td>\n",
       "      <td>3.5</td>\n",
       "      <td>87400</td>\n",
       "    </tr>\n",
       "    <tr>\n",
       "      <th>3</th>\n",
       "      <td>Филатов Тихон Устинович</td>\n",
       "      <td>Продажи</td>\n",
       "      <td>B2B</td>\n",
       "      <td>Key account manager</td>\n",
       "      <td>4.4</td>\n",
       "      <td>78300</td>\n",
       "    </tr>\n",
       "    <tr>\n",
       "      <th>4</th>\n",
       "      <td>Алла Максимовна Лаврентьева</td>\n",
       "      <td>Разработка</td>\n",
       "      <td>Внутренний портал</td>\n",
       "      <td>Backend-инженер</td>\n",
       "      <td>4.0</td>\n",
       "      <td>103200</td>\n",
       "    </tr>\n",
       "    <tr>\n",
       "      <th>...</th>\n",
       "      <td>...</td>\n",
       "      <td>...</td>\n",
       "      <td>...</td>\n",
       "      <td>...</td>\n",
       "      <td>...</td>\n",
       "      <td>...</td>\n",
       "    </tr>\n",
       "    <tr>\n",
       "      <th>195</th>\n",
       "      <td>Виктор Арсенович Русаков</td>\n",
       "      <td>Продажи</td>\n",
       "      <td>B2C</td>\n",
       "      <td>Key account manager</td>\n",
       "      <td>4.6</td>\n",
       "      <td>59900</td>\n",
       "    </tr>\n",
       "    <tr>\n",
       "      <th>196</th>\n",
       "      <td>Ювеналий Ефремович Блохин</td>\n",
       "      <td>Бухгалтерия</td>\n",
       "      <td>Компенсации и льготы</td>\n",
       "      <td>Бухгалтер</td>\n",
       "      <td>3.7</td>\n",
       "      <td>122300</td>\n",
       "    </tr>\n",
       "    <tr>\n",
       "      <th>197</th>\n",
       "      <td>Тетерина Лора Максимовна</td>\n",
       "      <td>Аналитика</td>\n",
       "      <td>Product</td>\n",
       "      <td>Data Science инженер</td>\n",
       "      <td>3.8</td>\n",
       "      <td>109900</td>\n",
       "    </tr>\n",
       "    <tr>\n",
       "      <th>198</th>\n",
       "      <td>Григорьев Рюрик Авдеевич</td>\n",
       "      <td>Разработка</td>\n",
       "      <td>Платформа</td>\n",
       "      <td>Android-инженер</td>\n",
       "      <td>4.3</td>\n",
       "      <td>71600</td>\n",
       "    </tr>\n",
       "    <tr>\n",
       "      <th>199</th>\n",
       "      <td>Лобанов Парфен Зиновьевич</td>\n",
       "      <td>Продажи</td>\n",
       "      <td>B2B</td>\n",
       "      <td>Sales manager</td>\n",
       "      <td>3.8</td>\n",
       "      <td>117500</td>\n",
       "    </tr>\n",
       "  </tbody>\n",
       "</table>\n",
       "<p>200 rows × 6 columns</p>\n",
       "</div>"
      ],
      "text/plain": [
       "                    ФИО полностью  Департамент                 Отдел  \\\n",
       "0       Баранов Трофим Васильевич      Продажи                   B2B   \n",
       "1      Творимир Давыдович Суханов    Маркетинг           Performance   \n",
       "2    Евлампий Валерианович Карпов  Бухгалтерия              Зарплата   \n",
       "3         Филатов Тихон Устинович      Продажи                   B2B   \n",
       "4     Алла Максимовна Лаврентьева   Разработка     Внутренний портал   \n",
       "..                            ...          ...                   ...   \n",
       "195      Виктор Арсенович Русаков      Продажи                   B2C   \n",
       "196     Ювеналий Ефремович Блохин  Бухгалтерия  Компенсации и льготы   \n",
       "197      Тетерина Лора Максимовна    Аналитика               Product   \n",
       "198      Григорьев Рюрик Авдеевич   Разработка             Платформа   \n",
       "199     Лобанов Парфен Зиновьевич      Продажи                   B2B   \n",
       "\n",
       "                Должность  Оценка   Оклад  \n",
       "0           Sales manager     3.8  106600  \n",
       "1      Маркетинг-менеджер     4.0   65900  \n",
       "2               Бухгалтер     3.5   87400  \n",
       "3     Key account manager     4.4   78300  \n",
       "4         Backend-инженер     4.0  103200  \n",
       "..                    ...     ...     ...  \n",
       "195   Key account manager     4.6   59900  \n",
       "196             Бухгалтер     3.7  122300  \n",
       "197  Data Science инженер     3.8  109900  \n",
       "198       Android-инженер     4.3   71600  \n",
       "199         Sales manager     3.8  117500  \n",
       "\n",
       "[200 rows x 6 columns]"
      ]
     },
     "execution_count": 8,
     "metadata": {},
     "output_type": "execute_result"
    }
   ],
   "source": [
    "data"
   ]
  },
  {
   "cell_type": "code",
   "execution_count": 13,
   "metadata": {
    "ExecuteTime": {
     "end_time": "2021-09-26T16:15:38.621121Z",
     "start_time": "2021-09-26T16:15:38.594569Z"
    }
   },
   "outputs": [
    {
     "data": {
      "text/html": [
       "<div>\n",
       "<style scoped>\n",
       "    .dataframe tbody tr th:only-of-type {\n",
       "        vertical-align: middle;\n",
       "    }\n",
       "\n",
       "    .dataframe tbody tr th {\n",
       "        vertical-align: top;\n",
       "    }\n",
       "\n",
       "    .dataframe thead tr th {\n",
       "        text-align: left;\n",
       "    }\n",
       "\n",
       "    .dataframe thead tr:last-of-type th {\n",
       "        text-align: right;\n",
       "    }\n",
       "</style>\n",
       "<table border=\"1\" class=\"dataframe\">\n",
       "  <thead>\n",
       "    <tr>\n",
       "      <th></th>\n",
       "      <th colspan=\"3\" halign=\"left\">Оклад</th>\n",
       "      <th>ФИО полностью</th>\n",
       "    </tr>\n",
       "    <tr>\n",
       "      <th></th>\n",
       "      <th>mean</th>\n",
       "      <th>min</th>\n",
       "      <th>max</th>\n",
       "      <th>count</th>\n",
       "    </tr>\n",
       "    <tr>\n",
       "      <th>Департамент</th>\n",
       "      <th></th>\n",
       "      <th></th>\n",
       "      <th></th>\n",
       "      <th></th>\n",
       "    </tr>\n",
       "  </thead>\n",
       "  <tbody>\n",
       "    <tr>\n",
       "      <th>Аналитика</th>\n",
       "      <td>88036.170213</td>\n",
       "      <td>55700</td>\n",
       "      <td>122900</td>\n",
       "      <td>47</td>\n",
       "    </tr>\n",
       "    <tr>\n",
       "      <th>Бухгалтерия</th>\n",
       "      <td>84702.857143</td>\n",
       "      <td>55800</td>\n",
       "      <td>122300</td>\n",
       "      <td>35</td>\n",
       "    </tr>\n",
       "    <tr>\n",
       "      <th>Маркетинг</th>\n",
       "      <td>88491.176471</td>\n",
       "      <td>61500</td>\n",
       "      <td>119400</td>\n",
       "      <td>34</td>\n",
       "    </tr>\n",
       "    <tr>\n",
       "      <th>Продажи</th>\n",
       "      <td>90914.285714</td>\n",
       "      <td>56100</td>\n",
       "      <td>124500</td>\n",
       "      <td>42</td>\n",
       "    </tr>\n",
       "    <tr>\n",
       "      <th>Разработка</th>\n",
       "      <td>92714.285714</td>\n",
       "      <td>59700</td>\n",
       "      <td>124900</td>\n",
       "      <td>42</td>\n",
       "    </tr>\n",
       "  </tbody>\n",
       "</table>\n",
       "</div>"
      ],
      "text/plain": [
       "                    Оклад                ФИО полностью\n",
       "                     mean    min     max         count\n",
       "Департамент                                           \n",
       "Аналитика    88036.170213  55700  122900            47\n",
       "Бухгалтерия  84702.857143  55800  122300            35\n",
       "Маркетинг    88491.176471  61500  119400            34\n",
       "Продажи      90914.285714  56100  124500            42\n",
       "Разработка   92714.285714  59700  124900            42"
      ]
     },
     "execution_count": 13,
     "metadata": {},
     "output_type": "execute_result"
    }
   ],
   "source": [
    "data.groupby(by='Департамент').agg({'Оклад': [np.mean, min, max],\n",
    "                                   'ФИО полностью': 'count'})"
   ]
  }
 ],
 "metadata": {
  "kernelspec": {
   "display_name": "Python 3",
   "language": "python",
   "name": "python3"
  },
  "language_info": {
   "codemirror_mode": {
    "name": "ipython",
    "version": 3
   },
   "file_extension": ".py",
   "mimetype": "text/x-python",
   "name": "python",
   "nbconvert_exporter": "python",
   "pygments_lexer": "ipython3",
   "version": "3.7.9"
  },
  "latex_envs": {
   "LaTeX_envs_menu_present": true,
   "autoclose": false,
   "autocomplete": true,
   "bibliofile": "biblio.bib",
   "cite_by": "apalike",
   "current_citInitial": 1,
   "eqLabelWithNumbers": true,
   "eqNumInitial": 1,
   "hotkeys": {
    "equation": "ctrl-l"
   },
   "labels_anchors": false,
   "latex_user_defs": false,
   "report_style_numbering": false,
   "user_envs_cfg": false
  }
 },
 "nbformat": 4,
 "nbformat_minor": 4
}
