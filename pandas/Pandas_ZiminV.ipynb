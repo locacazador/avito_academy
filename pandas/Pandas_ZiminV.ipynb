{
 "cells": [
  {
   "cell_type": "markdown",
   "metadata": {},
   "source": [
    "### Задание\n",
    "Нужно составить EDA-ноутбук в котором:\n",
    "\n",
    "1. Найти в открытых источниках или составить самостоятельно таблицу среднего дохода (PPP) в зависимости от страны\n",
    "2. Построить график корреляции между средним доходом (PPP) и ценой подписки\n",
    "3. Ответить на следующие вопросы:\n",
    "    1. Какая средняя цена подписки, (базовой, стандартной, премиум) в зависимости от валюты страны. \n",
    "    2. Какая средняя цена подписки, (базовой, стандартной, премиум) в зависимости от континента\n",
    "    3. Сколько стоит подписка относительно среднего дохода (базовая, стандартная, премиум) в Чехии?\n",
    "    4. Какие топ-5 стран имеют самую большую доступную коллекцию сериалов?\n",
    "    5. Какой процент среднего дохода россиянина будет составлять подписка Netflix?\n",
    "    6. На каком месте будет Россия, если отсортировать страны по эффективности подписки (Cost Per Title)\n",
    "    7. В какой стране лучше всего брать VPN для того, чтобы платить за Netflix меньше всего?"
   ]
  },
  {
   "cell_type": "code",
   "execution_count": null,
   "metadata": {},
   "outputs": [],
   "source": [
    "# !pip install pycountry_convert"
   ]
  },
  {
   "cell_type": "code",
   "execution_count": 191,
   "metadata": {
    "ExecuteTime": {
     "end_time": "2022-02-01T13:56:58.715449Z",
     "start_time": "2022-02-01T13:56:58.687517Z"
    }
   },
   "outputs": [],
   "source": [
    "import json\n",
    "\n",
    "import pandas as pd\n",
    "from bs4 import BeautifulSoup\n",
    "import numpy as np\n",
    "import requests\n",
    "import pycountry_convert as pc"
   ]
  },
  {
   "cell_type": "markdown",
   "metadata": {},
   "source": [
    "### Obtaining & preprocess data"
   ]
  },
  {
   "cell_type": "markdown",
   "metadata": {},
   "source": [
    "2 datasets from kaggle"
   ]
  },
  {
   "cell_type": "code",
   "execution_count": 20,
   "metadata": {
    "ExecuteTime": {
     "end_time": "2022-02-01T09:13:25.146749Z",
     "start_time": "2022-02-01T09:13:25.131790Z"
    }
   },
   "outputs": [],
   "source": [
    "sub_subscript_csv = 'https://storage.googleapis.com/kagglesdsdata/datasets/1865113/3045769/Netflix%20'\\\n",
    "                    'subscription%20fee%20Dec-2021.csv?X-Goog-Algorithm=GOOG4-RSA-SHA256&X-Goog-Crede'\\\n",
    "                    'ntial=gcp-kaggle-com%40kaggle-161607.iam.gserviceaccount.com%2F20220201%2Fauto%2'\\\n",
    "                    'Fstorage%2Fgoog4_request&X-Goog-Date=20220201T090507Z&X-Goog-Expires=259199&X-Goog'\\\n",
    "                    '-SignedHeaders=host&X-Goog-Signature=14c457727846bc56915e5bde5f09fe6765bc908ff4afb'\\\n",
    "                    'c0e26e71ace0b1d0fdc3e813b42e3b7df65f3bf33da81dc83cd04bd3b748d419ccf04a96b544dbde207'\\\n",
    "                    '18fae6afae9f65b3130c8bfe01f780a342d41b3015d1a9a617a4d07e9c891c227d444c0ce9895ab0207de'\\\n",
    "                    'ca8f13fda947eb0a7c430950b7dc8c4d288a463a8274e0cbc5984bab58bd19195aa45e62024a30770fb7e90490'\\\n",
    "                    '494fbd32cb2f3237e049344998f1071ceffd3cf08f753960373657b4e4d0908a1a950d8daf0522d7f7436e6ba'\\\n",
    "                    '409f11af016ef5879f3f83d87d5e2fe74c69c7f349e4ef26ba8f40e66464eeafb049276f048e31b2d778c80b5'\\\n",
    "                    'c0d8b7440071d4aa3ec86192ad8fb16'"
   ]
  },
  {
   "cell_type": "code",
   "execution_count": 21,
   "metadata": {
    "ExecuteTime": {
     "end_time": "2022-02-01T09:14:07.833331Z",
     "start_time": "2022-02-01T09:14:07.822390Z"
    }
   },
   "outputs": [],
   "source": [
    "price_diff_countries = ''\\\n",
    "    'https://storage.googleapis.com/kagglesdsdata/datasets/1865113/3045769/netflix'\\\n",
    "    '%20price%20in%20different%20countries.csv?X-Goog-Algorithm=GOOG4-RSA-SHA256&X'\\\n",
    "    '-Goog-Credential=gcp-kaggle-com%40kaggle-161607.iam.gserviceaccount.com%2F202'\\\n",
    "    '20201%2Fauto%2Fstorage%2Fgoog4_request&X-Goog-Date=20220201T090857Z&X-Goog-Ex'\\\n",
    "    'pires=259199&X-Goog-SignedHeaders=host&X-Goog-Signature=71d772e6605cd24e3f986'\\\n",
    "    '0193a847af73126cde01547fa9d96d4d4e666233e2035de53d8ab8bf9164f1a307c6851b9cc73'\\\n",
    "    '9329bb20fb5c326f155dc25fcc39e3292430f28a5de00912a7ab6b531403f164429544e8cd0a1'\\\n",
    "    '064c0e2d312863ae12c6f514dd7156b160c12b752aa12f08603762c0408910f9216f8de306024'\\\n",
    "    'd2b51dd54f224437770b7a112a3bd17d0f8664ba21feabbf00e6cb25e349a5f3b4891fb7df064'\\\n",
    "    '1a41d6d3334170b0c4cb9fbd9fa8d2240697f7180bfee387236630ef291b9e494615b59908f79'\\\n",
    "    '31e3d67965d22d0687038e5c61e26497aa42e129db05b1e54f31117efae9f7d41229eb6ab385f'\\\n",
    "    '0b310c9562780f5a7bc8ecd2dfeb8'"
   ]
  },
  {
   "cell_type": "code",
   "execution_count": 194,
   "metadata": {
    "ExecuteTime": {
     "end_time": "2022-02-01T15:02:34.957180Z",
     "start_time": "2022-02-01T15:02:34.434249Z"
    }
   },
   "outputs": [],
   "source": [
    "df_subscriptions = pd.read_csv(sub_subscript_csv)"
   ]
  },
  {
   "cell_type": "code",
   "execution_count": 195,
   "metadata": {
    "ExecuteTime": {
     "end_time": "2022-02-01T15:02:35.518663Z",
     "start_time": "2022-02-01T15:02:34.959065Z"
    }
   },
   "outputs": [],
   "source": [
    "df_prices = pd.read_csv(price_diff_countries)"
   ]
  },
  {
   "cell_type": "code",
   "execution_count": 196,
   "metadata": {
    "ExecuteTime": {
     "end_time": "2022-02-01T15:02:35.534621Z",
     "start_time": "2022-02-01T15:02:35.520658Z"
    }
   },
   "outputs": [
    {
     "data": {
      "text/html": [
       "<div>\n",
       "<style scoped>\n",
       "    .dataframe tbody tr th:only-of-type {\n",
       "        vertical-align: middle;\n",
       "    }\n",
       "\n",
       "    .dataframe tbody tr th {\n",
       "        vertical-align: top;\n",
       "    }\n",
       "\n",
       "    .dataframe thead th {\n",
       "        text-align: right;\n",
       "    }\n",
       "</style>\n",
       "<table border=\"1\" class=\"dataframe\">\n",
       "  <thead>\n",
       "    <tr style=\"text-align: right;\">\n",
       "      <th></th>\n",
       "      <th>Country</th>\n",
       "      <th>Total Library Size</th>\n",
       "      <th>No. of TV Shows</th>\n",
       "      <th>No. of Movies</th>\n",
       "      <th>Cost Per Month - Basic ($)</th>\n",
       "      <th>Cost Per Month - Standard ($)</th>\n",
       "      <th>Cost Per Month - Premium ($)</th>\n",
       "    </tr>\n",
       "  </thead>\n",
       "  <tbody>\n",
       "    <tr>\n",
       "      <th>0</th>\n",
       "      <td>Argentina</td>\n",
       "      <td>4760</td>\n",
       "      <td>3154</td>\n",
       "      <td>1606</td>\n",
       "      <td>3.74</td>\n",
       "      <td>6.30</td>\n",
       "      <td>9.26</td>\n",
       "    </tr>\n",
       "    <tr>\n",
       "      <th>1</th>\n",
       "      <td>Austria</td>\n",
       "      <td>5640</td>\n",
       "      <td>3779</td>\n",
       "      <td>1861</td>\n",
       "      <td>9.03</td>\n",
       "      <td>14.67</td>\n",
       "      <td>20.32</td>\n",
       "    </tr>\n",
       "    <tr>\n",
       "      <th>2</th>\n",
       "      <td>Bolivia</td>\n",
       "      <td>4991</td>\n",
       "      <td>3155</td>\n",
       "      <td>1836</td>\n",
       "      <td>7.99</td>\n",
       "      <td>10.99</td>\n",
       "      <td>13.99</td>\n",
       "    </tr>\n",
       "    <tr>\n",
       "      <th>3</th>\n",
       "      <td>Bulgaria</td>\n",
       "      <td>6797</td>\n",
       "      <td>4819</td>\n",
       "      <td>1978</td>\n",
       "      <td>9.03</td>\n",
       "      <td>11.29</td>\n",
       "      <td>13.54</td>\n",
       "    </tr>\n",
       "    <tr>\n",
       "      <th>4</th>\n",
       "      <td>Chile</td>\n",
       "      <td>4994</td>\n",
       "      <td>3156</td>\n",
       "      <td>1838</td>\n",
       "      <td>7.07</td>\n",
       "      <td>9.91</td>\n",
       "      <td>12.74</td>\n",
       "    </tr>\n",
       "  </tbody>\n",
       "</table>\n",
       "</div>"
      ],
      "text/plain": [
       "     Country  Total Library Size  No. of TV Shows  No. of Movies  \\\n",
       "0  Argentina                4760             3154           1606   \n",
       "1    Austria                5640             3779           1861   \n",
       "2    Bolivia                4991             3155           1836   \n",
       "3   Bulgaria                6797             4819           1978   \n",
       "4      Chile                4994             3156           1838   \n",
       "\n",
       "   Cost Per Month - Basic ($)  Cost Per Month - Standard ($)  \\\n",
       "0                        3.74                           6.30   \n",
       "1                        9.03                          14.67   \n",
       "2                        7.99                          10.99   \n",
       "3                        9.03                          11.29   \n",
       "4                        7.07                           9.91   \n",
       "\n",
       "   Cost Per Month - Premium ($)  \n",
       "0                          9.26  \n",
       "1                         20.32  \n",
       "2                         13.99  \n",
       "3                         13.54  \n",
       "4                         12.74  "
      ]
     },
     "execution_count": 196,
     "metadata": {},
     "output_type": "execute_result"
    }
   ],
   "source": [
    "df_prices.head()"
   ]
  },
  {
   "cell_type": "code",
   "execution_count": 197,
   "metadata": {
    "ExecuteTime": {
     "end_time": "2022-02-01T15:02:35.597618Z",
     "start_time": "2022-02-01T15:02:35.585614Z"
    }
   },
   "outputs": [
    {
     "data": {
      "text/html": [
       "<div>\n",
       "<style scoped>\n",
       "    .dataframe tbody tr th:only-of-type {\n",
       "        vertical-align: middle;\n",
       "    }\n",
       "\n",
       "    .dataframe tbody tr th {\n",
       "        vertical-align: top;\n",
       "    }\n",
       "\n",
       "    .dataframe thead th {\n",
       "        text-align: right;\n",
       "    }\n",
       "</style>\n",
       "<table border=\"1\" class=\"dataframe\">\n",
       "  <thead>\n",
       "    <tr style=\"text-align: right;\">\n",
       "      <th></th>\n",
       "      <th>Country_code</th>\n",
       "      <th>Country</th>\n",
       "      <th>Total Library Size</th>\n",
       "      <th>No. of TV Shows</th>\n",
       "      <th>No. of Movies</th>\n",
       "      <th>Cost Per Month - Basic ($)</th>\n",
       "      <th>Cost Per Month - Standard ($)</th>\n",
       "      <th>Cost Per Month - Premium ($)</th>\n",
       "    </tr>\n",
       "  </thead>\n",
       "  <tbody>\n",
       "    <tr>\n",
       "      <th>0</th>\n",
       "      <td>ar</td>\n",
       "      <td>Argentina</td>\n",
       "      <td>4760</td>\n",
       "      <td>3154</td>\n",
       "      <td>1606</td>\n",
       "      <td>3.74</td>\n",
       "      <td>6.30</td>\n",
       "      <td>9.26</td>\n",
       "    </tr>\n",
       "    <tr>\n",
       "      <th>1</th>\n",
       "      <td>au</td>\n",
       "      <td>Australia</td>\n",
       "      <td>6114</td>\n",
       "      <td>4050</td>\n",
       "      <td>2064</td>\n",
       "      <td>7.84</td>\n",
       "      <td>12.12</td>\n",
       "      <td>16.39</td>\n",
       "    </tr>\n",
       "    <tr>\n",
       "      <th>2</th>\n",
       "      <td>at</td>\n",
       "      <td>Austria</td>\n",
       "      <td>5640</td>\n",
       "      <td>3779</td>\n",
       "      <td>1861</td>\n",
       "      <td>9.03</td>\n",
       "      <td>14.67</td>\n",
       "      <td>20.32</td>\n",
       "    </tr>\n",
       "    <tr>\n",
       "      <th>3</th>\n",
       "      <td>be</td>\n",
       "      <td>Belgium</td>\n",
       "      <td>4990</td>\n",
       "      <td>3374</td>\n",
       "      <td>1616</td>\n",
       "      <td>10.16</td>\n",
       "      <td>15.24</td>\n",
       "      <td>20.32</td>\n",
       "    </tr>\n",
       "    <tr>\n",
       "      <th>4</th>\n",
       "      <td>bo</td>\n",
       "      <td>Bolivia</td>\n",
       "      <td>4991</td>\n",
       "      <td>3155</td>\n",
       "      <td>1836</td>\n",
       "      <td>7.99</td>\n",
       "      <td>10.99</td>\n",
       "      <td>13.99</td>\n",
       "    </tr>\n",
       "  </tbody>\n",
       "</table>\n",
       "</div>"
      ],
      "text/plain": [
       "  Country_code    Country  Total Library Size  No. of TV Shows  No. of Movies  \\\n",
       "0           ar  Argentina                4760             3154           1606   \n",
       "1           au  Australia                6114             4050           2064   \n",
       "2           at    Austria                5640             3779           1861   \n",
       "3           be    Belgium                4990             3374           1616   \n",
       "4           bo    Bolivia                4991             3155           1836   \n",
       "\n",
       "   Cost Per Month - Basic ($)  Cost Per Month - Standard ($)  \\\n",
       "0                        3.74                           6.30   \n",
       "1                        7.84                          12.12   \n",
       "2                        9.03                          14.67   \n",
       "3                       10.16                          15.24   \n",
       "4                        7.99                          10.99   \n",
       "\n",
       "   Cost Per Month - Premium ($)  \n",
       "0                          9.26  \n",
       "1                         16.39  \n",
       "2                         20.32  \n",
       "3                         20.32  \n",
       "4                         13.99  "
      ]
     },
     "execution_count": 197,
     "metadata": {},
     "output_type": "execute_result"
    }
   ],
   "source": [
    "df_subscriptions.head()"
   ]
  },
  {
   "cell_type": "code",
   "execution_count": 198,
   "metadata": {
    "ExecuteTime": {
     "end_time": "2022-02-01T15:02:35.753416Z",
     "start_time": "2022-02-01T15:02:35.745466Z"
    }
   },
   "outputs": [
    {
     "data": {
      "text/plain": [
       "65"
      ]
     },
     "execution_count": 198,
     "metadata": {},
     "output_type": "execute_result"
    }
   ],
   "source": [
    "df_subscriptions.Country.nunique()"
   ]
  },
  {
   "cell_type": "markdown",
   "metadata": {},
   "source": [
    "#### Get information of incomes by countries from url"
   ]
  },
  {
   "cell_type": "markdown",
   "metadata": {},
   "source": [
    "Возьмем данные с https://www.worlddata.info/average-income.php"
   ]
  },
  {
   "cell_type": "code",
   "execution_count": 288,
   "metadata": {
    "ExecuteTime": {
     "end_time": "2022-02-01T17:51:21.539629Z",
     "start_time": "2022-02-01T17:51:21.534645Z"
    }
   },
   "outputs": [],
   "source": [
    "df_income = pd.read_clipboard(thousands=',')"
   ]
  },
  {
   "cell_type": "code",
   "execution_count": 289,
   "metadata": {
    "ExecuteTime": {
     "end_time": "2022-02-01T17:51:21.712268Z",
     "start_time": "2022-02-01T17:51:21.702313Z"
    }
   },
   "outputs": [
    {
     "data": {
      "text/html": [
       "<div>\n",
       "<style scoped>\n",
       "    .dataframe tbody tr th:only-of-type {\n",
       "        vertical-align: middle;\n",
       "    }\n",
       "\n",
       "    .dataframe tbody tr th {\n",
       "        vertical-align: top;\n",
       "    }\n",
       "\n",
       "    .dataframe thead th {\n",
       "        text-align: right;\n",
       "    }\n",
       "</style>\n",
       "<table border=\"1\" class=\"dataframe\">\n",
       "  <thead>\n",
       "    <tr style=\"text-align: right;\">\n",
       "      <th></th>\n",
       "      <th>Rank</th>\n",
       "      <th>Country</th>\n",
       "      <th>Avg. income per year</th>\n",
       "      <th>Avg. income per month</th>\n",
       "    </tr>\n",
       "  </thead>\n",
       "  <tbody>\n",
       "    <tr>\n",
       "      <th>0</th>\n",
       "      <td>1</td>\n",
       "      <td>Monaco</td>\n",
       "      <td>186,080 $</td>\n",
       "      <td>15,507 $</td>\n",
       "    </tr>\n",
       "    <tr>\n",
       "      <th>1</th>\n",
       "      <td>2</td>\n",
       "      <td>Bermuda</td>\n",
       "      <td>112,240 $</td>\n",
       "      <td>9,353 $</td>\n",
       "    </tr>\n",
       "    <tr>\n",
       "      <th>2</th>\n",
       "      <td>3</td>\n",
       "      <td>Switzerland</td>\n",
       "      <td>82,620 $</td>\n",
       "      <td>6,885 $</td>\n",
       "    </tr>\n",
       "    <tr>\n",
       "      <th>3</th>\n",
       "      <td>4</td>\n",
       "      <td>Luxembourg</td>\n",
       "      <td>80,860 $</td>\n",
       "      <td>6,738 $</td>\n",
       "    </tr>\n",
       "    <tr>\n",
       "      <th>4</th>\n",
       "      <td>5</td>\n",
       "      <td>Norway</td>\n",
       "      <td>78,290 $</td>\n",
       "      <td>6,524 $</td>\n",
       "    </tr>\n",
       "  </tbody>\n",
       "</table>\n",
       "</div>"
      ],
      "text/plain": [
       "   Rank      Country Avg. income per year Avg. income per month\n",
       "0     1       Monaco            186,080 $              15,507 $\n",
       "1     2      Bermuda            112,240 $               9,353 $\n",
       "2     3  Switzerland             82,620 $               6,885 $\n",
       "3     4   Luxembourg             80,860 $               6,738 $\n",
       "4     5       Norway             78,290 $               6,524 $"
      ]
     },
     "execution_count": 289,
     "metadata": {},
     "output_type": "execute_result"
    }
   ],
   "source": [
    "df_income.head()"
   ]
  },
  {
   "cell_type": "code",
   "execution_count": 290,
   "metadata": {
    "ExecuteTime": {
     "end_time": "2022-02-01T17:51:22.206849Z",
     "start_time": "2022-02-01T17:51:22.197843Z"
    }
   },
   "outputs": [],
   "source": [
    "df_income[['Avg. income per year', 'Avg. income per month']] = \\\n",
    "df_income[['Avg. income per year', 'Avg. income per month']].apply(lambda x: x.str.replace(',', '', regex=False)\n",
    "                                                                              .str.replace('$', '', regex=False)\\\n",
    "                                                                   .astype(int))"
   ]
  },
  {
   "cell_type": "code",
   "execution_count": 292,
   "metadata": {
    "ExecuteTime": {
     "end_time": "2022-02-01T17:51:39.159015Z",
     "start_time": "2022-02-01T17:51:39.142061Z"
    }
   },
   "outputs": [
    {
     "data": {
      "text/html": [
       "<div>\n",
       "<style scoped>\n",
       "    .dataframe tbody tr th:only-of-type {\n",
       "        vertical-align: middle;\n",
       "    }\n",
       "\n",
       "    .dataframe tbody tr th {\n",
       "        vertical-align: top;\n",
       "    }\n",
       "\n",
       "    .dataframe thead th {\n",
       "        text-align: right;\n",
       "    }\n",
       "</style>\n",
       "<table border=\"1\" class=\"dataframe\">\n",
       "  <thead>\n",
       "    <tr style=\"text-align: right;\">\n",
       "      <th></th>\n",
       "      <th>Rank</th>\n",
       "      <th>Country</th>\n",
       "      <th>Avg. income per year</th>\n",
       "      <th>Avg. income per month</th>\n",
       "    </tr>\n",
       "  </thead>\n",
       "  <tbody>\n",
       "    <tr>\n",
       "      <th>0</th>\n",
       "      <td>1</td>\n",
       "      <td>Monaco</td>\n",
       "      <td>186080</td>\n",
       "      <td>15507</td>\n",
       "    </tr>\n",
       "    <tr>\n",
       "      <th>1</th>\n",
       "      <td>2</td>\n",
       "      <td>Bermuda</td>\n",
       "      <td>112240</td>\n",
       "      <td>9353</td>\n",
       "    </tr>\n",
       "    <tr>\n",
       "      <th>2</th>\n",
       "      <td>3</td>\n",
       "      <td>Switzerland</td>\n",
       "      <td>82620</td>\n",
       "      <td>6885</td>\n",
       "    </tr>\n",
       "    <tr>\n",
       "      <th>3</th>\n",
       "      <td>4</td>\n",
       "      <td>Luxembourg</td>\n",
       "      <td>80860</td>\n",
       "      <td>6738</td>\n",
       "    </tr>\n",
       "    <tr>\n",
       "      <th>4</th>\n",
       "      <td>5</td>\n",
       "      <td>Norway</td>\n",
       "      <td>78290</td>\n",
       "      <td>6524</td>\n",
       "    </tr>\n",
       "  </tbody>\n",
       "</table>\n",
       "</div>"
      ],
      "text/plain": [
       "   Rank      Country  Avg. income per year  Avg. income per month\n",
       "0     1       Monaco                186080                  15507\n",
       "1     2      Bermuda                112240                   9353\n",
       "2     3  Switzerland                 82620                   6885\n",
       "3     4   Luxembourg                 80860                   6738\n",
       "4     5       Norway                 78290                   6524"
      ]
     },
     "execution_count": 292,
     "metadata": {},
     "output_type": "execute_result"
    }
   ],
   "source": [
    "df_income.head()"
   ]
  },
  {
   "cell_type": "code",
   "execution_count": 293,
   "metadata": {
    "ExecuteTime": {
     "end_time": "2022-02-01T17:51:42.697616Z",
     "start_time": "2022-02-01T17:51:42.685619Z"
    }
   },
   "outputs": [
    {
     "data": {
      "text/plain": [
       "{'Argentina',\n",
       " 'Chile',\n",
       " 'Croatia',\n",
       " 'Czechia',\n",
       " 'Estonia',\n",
       " 'Gibraltar',\n",
       " 'Guatemala',\n",
       " 'Honduras',\n",
       " 'Latvia',\n",
       " 'Liechtenstein',\n",
       " 'Lithuania',\n",
       " 'Moldova',\n",
       " 'Paraguay',\n",
       " 'Peru',\n",
       " 'San Marino',\n",
       " 'Slovakia',\n",
       " 'Taiwan',\n",
       " 'Uruguay',\n",
       " 'Venezuela'}"
      ]
     },
     "execution_count": 293,
     "metadata": {},
     "output_type": "execute_result"
    }
   ],
   "source": [
    "set(df_subscriptions.Country) - set(df_income.Country)"
   ]
  },
  {
   "cell_type": "code",
   "execution_count": null,
   "metadata": {},
   "outputs": [],
   "source": [
    "fill_dict_missing_countries = {\n",
    "    'Argentina': 842,\n",
    "    'Chile': 1286,\n",
    "    'Czechia': ,\n",
    "    'Estonia': ,\n",
    "    'Gibraltar': ,\n",
    "    'Honduras':,\n",
    "    'Latvia': ,\n",
    "    'Liechtenstein': ,\n",
    "    'Lithuania': ,\n",
    "    'Moldova': ,\n",
    "    'Paraguay': ,\n",
    "    'Peru': ,\n",
    "    'San Marino':,\n",
    "    'Slovakia': ,\n",
    "    'Taiwan': ,\n",
    "    'Uruguay': ,\n",
    "    'Venezuela',\n",
    "}"
   ]
  },
  {
   "cell_type": "code",
   "execution_count": 303,
   "metadata": {
    "ExecuteTime": {
     "end_time": "2022-02-01T18:30:00.024116Z",
     "start_time": "2022-02-01T18:30:00.015140Z"
    }
   },
   "outputs": [],
   "source": [
    "data_wages = pd.read_csv('data_wages.csv')"
   ]
  },
  {
   "cell_type": "code",
   "execution_count": 304,
   "metadata": {
    "ExecuteTime": {
     "end_time": "2022-02-01T18:30:00.196302Z",
     "start_time": "2022-02-01T18:30:00.176328Z"
    }
   },
   "outputs": [
    {
     "data": {
      "text/plain": [
       "{'Canada',\n",
       " 'Gibraltar',\n",
       " 'Hong Kong',\n",
       " 'Liechtenstein',\n",
       " 'Moldova',\n",
       " 'Monaco',\n",
       " 'Peru',\n",
       " 'Russia',\n",
       " 'South Korea',\n",
       " 'Switzerland',\n",
       " 'Taiwan',\n",
       " 'Venezuela'}"
      ]
     },
     "execution_count": 304,
     "metadata": {},
     "output_type": "execute_result"
    }
   ],
   "source": [
    "set(df_subscriptions.Country) - set(data_wages['ref_area.label'].unique())"
   ]
  },
  {
   "cell_type": "code",
   "execution_count": 305,
   "metadata": {
    "ExecuteTime": {
     "end_time": "2022-02-01T18:30:00.723088Z",
     "start_time": "2022-02-01T18:30:00.711117Z"
    }
   },
   "outputs": [
    {
     "data": {
      "text/html": [
       "<div>\n",
       "<style scoped>\n",
       "    .dataframe tbody tr th:only-of-type {\n",
       "        vertical-align: middle;\n",
       "    }\n",
       "\n",
       "    .dataframe tbody tr th {\n",
       "        vertical-align: top;\n",
       "    }\n",
       "\n",
       "    .dataframe thead th {\n",
       "        text-align: right;\n",
       "    }\n",
       "</style>\n",
       "<table border=\"1\" class=\"dataframe\">\n",
       "  <thead>\n",
       "    <tr style=\"text-align: right;\">\n",
       "      <th></th>\n",
       "      <th>ref_area.label</th>\n",
       "      <th>indicator.label</th>\n",
       "      <th>source.label</th>\n",
       "      <th>sex.label</th>\n",
       "      <th>classif1.label</th>\n",
       "      <th>classif2.label</th>\n",
       "      <th>time</th>\n",
       "      <th>obs_value</th>\n",
       "      <th>note_classif.label</th>\n",
       "      <th>note_indicator.label</th>\n",
       "      <th>note_source.label</th>\n",
       "    </tr>\n",
       "  </thead>\n",
       "  <tbody>\n",
       "    <tr>\n",
       "      <th>0</th>\n",
       "      <td>Afghanistan</td>\n",
       "      <td>Mean nominal monthly earnings of employees by ...</td>\n",
       "      <td>LFS - Labour Force Survey</td>\n",
       "      <td>Sex: Total</td>\n",
       "      <td>Economic activity (Aggregate): Total</td>\n",
       "      <td>Currency: U.S. dollars</td>\n",
       "      <td>2020</td>\n",
       "      <td>172.00</td>\n",
       "      <td>NaN</td>\n",
       "      <td>Currency: AFG - Afghani (AFN)</td>\n",
       "      <td>Repository: ILO-STATISTICS - Micro data proces...</td>\n",
       "    </tr>\n",
       "    <tr>\n",
       "      <th>1</th>\n",
       "      <td>Albania</td>\n",
       "      <td>Mean nominal monthly earnings of employees by ...</td>\n",
       "      <td>ADM-IR - General Directorate of Taxation</td>\n",
       "      <td>Sex: Total</td>\n",
       "      <td>Economic activity (Aggregate): Total</td>\n",
       "      <td>Currency: U.S. dollars</td>\n",
       "      <td>2020</td>\n",
       "      <td>493.90</td>\n",
       "      <td>NaN</td>\n",
       "      <td>Currency: ALB - Lek (ALL) | Working time arran...</td>\n",
       "      <td>Reference group coverage: Insured persons</td>\n",
       "    </tr>\n",
       "    <tr>\n",
       "      <th>2</th>\n",
       "      <td>Argentina</td>\n",
       "      <td>Mean nominal monthly earnings of employees by ...</td>\n",
       "      <td>LFS - Encuesta Permanente de Hogares (Urbano)</td>\n",
       "      <td>Sex: Total</td>\n",
       "      <td>Economic activity (Aggregate): Total</td>\n",
       "      <td>Currency: U.S. dollars</td>\n",
       "      <td>2020</td>\n",
       "      <td>514.35</td>\n",
       "      <td>NaN</td>\n",
       "      <td>Currency: ARG - Argentine peso (ARS)</td>\n",
       "      <td>Repository: ILO-STATISTICS - Micro data proces...</td>\n",
       "    </tr>\n",
       "    <tr>\n",
       "      <th>3</th>\n",
       "      <td>Armenia</td>\n",
       "      <td>Mean nominal monthly earnings of employees by ...</td>\n",
       "      <td>LFS - Household Labour Force Survey</td>\n",
       "      <td>Sex: Total</td>\n",
       "      <td>Economic activity (Aggregate): Total</td>\n",
       "      <td>Currency: U.S. dollars</td>\n",
       "      <td>2020</td>\n",
       "      <td>238.32</td>\n",
       "      <td>NaN</td>\n",
       "      <td>Currency: ARM - Dram (AMD)</td>\n",
       "      <td>Repository: ILO-STATISTICS - Micro data proces...</td>\n",
       "    </tr>\n",
       "    <tr>\n",
       "      <th>4</th>\n",
       "      <td>Australia</td>\n",
       "      <td>Mean nominal monthly earnings of employees by ...</td>\n",
       "      <td>ES - Survey of Employee Earnings</td>\n",
       "      <td>Sex: Total</td>\n",
       "      <td>Economic activity (Aggregate): Total</td>\n",
       "      <td>Currency: U.S. dollars</td>\n",
       "      <td>2018</td>\n",
       "      <td>4467.33</td>\n",
       "      <td>NaN</td>\n",
       "      <td>Currency: AUS - Australian dollar (AUD) | Job ...</td>\n",
       "      <td>Data reference period: May | Reference group c...</td>\n",
       "    </tr>\n",
       "  </tbody>\n",
       "</table>\n",
       "</div>"
      ],
      "text/plain": [
       "  ref_area.label                                    indicator.label  \\\n",
       "0    Afghanistan  Mean nominal monthly earnings of employees by ...   \n",
       "1        Albania  Mean nominal monthly earnings of employees by ...   \n",
       "2      Argentina  Mean nominal monthly earnings of employees by ...   \n",
       "3        Armenia  Mean nominal monthly earnings of employees by ...   \n",
       "4      Australia  Mean nominal monthly earnings of employees by ...   \n",
       "\n",
       "                                    source.label   sex.label  \\\n",
       "0                      LFS - Labour Force Survey  Sex: Total   \n",
       "1       ADM-IR - General Directorate of Taxation  Sex: Total   \n",
       "2  LFS - Encuesta Permanente de Hogares (Urbano)  Sex: Total   \n",
       "3            LFS - Household Labour Force Survey  Sex: Total   \n",
       "4               ES - Survey of Employee Earnings  Sex: Total   \n",
       "\n",
       "                         classif1.label          classif2.label  time  \\\n",
       "0  Economic activity (Aggregate): Total  Currency: U.S. dollars  2020   \n",
       "1  Economic activity (Aggregate): Total  Currency: U.S. dollars  2020   \n",
       "2  Economic activity (Aggregate): Total  Currency: U.S. dollars  2020   \n",
       "3  Economic activity (Aggregate): Total  Currency: U.S. dollars  2020   \n",
       "4  Economic activity (Aggregate): Total  Currency: U.S. dollars  2018   \n",
       "\n",
       "   obs_value  note_classif.label  \\\n",
       "0     172.00                 NaN   \n",
       "1     493.90                 NaN   \n",
       "2     514.35                 NaN   \n",
       "3     238.32                 NaN   \n",
       "4    4467.33                 NaN   \n",
       "\n",
       "                                note_indicator.label  \\\n",
       "0                      Currency: AFG - Afghani (AFN)   \n",
       "1  Currency: ALB - Lek (ALL) | Working time arran...   \n",
       "2               Currency: ARG - Argentine peso (ARS)   \n",
       "3                         Currency: ARM - Dram (AMD)   \n",
       "4  Currency: AUS - Australian dollar (AUD) | Job ...   \n",
       "\n",
       "                                   note_source.label  \n",
       "0  Repository: ILO-STATISTICS - Micro data proces...  \n",
       "1          Reference group coverage: Insured persons  \n",
       "2  Repository: ILO-STATISTICS - Micro data proces...  \n",
       "3  Repository: ILO-STATISTICS - Micro data proces...  \n",
       "4  Data reference period: May | Reference group c...  "
      ]
     },
     "execution_count": 305,
     "metadata": {},
     "output_type": "execute_result"
    }
   ],
   "source": [
    "data_wages.head()"
   ]
  },
  {
   "cell_type": "code",
   "execution_count": 324,
   "metadata": {
    "ExecuteTime": {
     "end_time": "2022-02-01T18:35:21.174004Z",
     "start_time": "2022-02-01T18:35:21.159029Z"
    }
   },
   "outputs": [],
   "source": [
    "data_wages.drop(columns=[x for x in data_wages.columns\n",
    "                         if x not in ['ref_area.label', 'obs_value']],\n",
    "                inplace=True)"
   ]
  },
  {
   "cell_type": "code",
   "execution_count": 326,
   "metadata": {
    "ExecuteTime": {
     "end_time": "2022-02-01T18:35:53.594714Z",
     "start_time": "2022-02-01T18:35:53.575759Z"
    }
   },
   "outputs": [
    {
     "data": {
      "text/html": [
       "<div>\n",
       "<style scoped>\n",
       "    .dataframe tbody tr th:only-of-type {\n",
       "        vertical-align: middle;\n",
       "    }\n",
       "\n",
       "    .dataframe tbody tr th {\n",
       "        vertical-align: top;\n",
       "    }\n",
       "\n",
       "    .dataframe thead th {\n",
       "        text-align: right;\n",
       "    }\n",
       "</style>\n",
       "<table border=\"1\" class=\"dataframe\">\n",
       "  <thead>\n",
       "    <tr style=\"text-align: right;\">\n",
       "      <th></th>\n",
       "      <th>Country</th>\n",
       "      <th>avg_wage</th>\n",
       "    </tr>\n",
       "  </thead>\n",
       "  <tbody>\n",
       "    <tr>\n",
       "      <th>0</th>\n",
       "      <td>Afghanistan</td>\n",
       "      <td>172.00</td>\n",
       "    </tr>\n",
       "    <tr>\n",
       "      <th>1</th>\n",
       "      <td>Albania</td>\n",
       "      <td>493.90</td>\n",
       "    </tr>\n",
       "    <tr>\n",
       "      <th>2</th>\n",
       "      <td>Argentina</td>\n",
       "      <td>514.35</td>\n",
       "    </tr>\n",
       "    <tr>\n",
       "      <th>3</th>\n",
       "      <td>Armenia</td>\n",
       "      <td>238.32</td>\n",
       "    </tr>\n",
       "    <tr>\n",
       "      <th>4</th>\n",
       "      <td>Australia</td>\n",
       "      <td>4467.33</td>\n",
       "    </tr>\n",
       "  </tbody>\n",
       "</table>\n",
       "</div>"
      ],
      "text/plain": [
       "       Country  avg_wage\n",
       "0  Afghanistan    172.00\n",
       "1      Albania    493.90\n",
       "2    Argentina    514.35\n",
       "3      Armenia    238.32\n",
       "4    Australia   4467.33"
      ]
     },
     "execution_count": 326,
     "metadata": {},
     "output_type": "execute_result"
    }
   ],
   "source": [
    "data_wages.columns = ['Country', 'avg_wage']\n",
    "data_wages.head()"
   ]
  },
  {
   "cell_type": "code",
   "execution_count": 335,
   "metadata": {
    "ExecuteTime": {
     "end_time": "2022-02-01T18:37:51.082840Z",
     "start_time": "2022-02-01T18:37:51.072843Z"
    }
   },
   "outputs": [
    {
     "data": {
      "text/html": [
       "<div>\n",
       "<style scoped>\n",
       "    .dataframe tbody tr th:only-of-type {\n",
       "        vertical-align: middle;\n",
       "    }\n",
       "\n",
       "    .dataframe tbody tr th {\n",
       "        vertical-align: top;\n",
       "    }\n",
       "\n",
       "    .dataframe thead th {\n",
       "        text-align: right;\n",
       "    }\n",
       "</style>\n",
       "<table border=\"1\" class=\"dataframe\">\n",
       "  <thead>\n",
       "    <tr style=\"text-align: right;\">\n",
       "      <th></th>\n",
       "      <th>Country</th>\n",
       "      <th>avg_wage</th>\n",
       "    </tr>\n",
       "  </thead>\n",
       "  <tbody>\n",
       "    <tr>\n",
       "      <th>55</th>\n",
       "      <td>Korea, Republic of</td>\n",
       "      <td>3183.18</td>\n",
       "    </tr>\n",
       "  </tbody>\n",
       "</table>\n",
       "</div>"
      ],
      "text/plain": [
       "               Country  avg_wage\n",
       "55  Korea, Republic of   3183.18"
      ]
     },
     "execution_count": 335,
     "metadata": {},
     "output_type": "execute_result"
    }
   ],
   "source": [
    "data_wages[data_wages.Country.str.startswith('Korea')]"
   ]
  },
  {
   "cell_type": "code",
   "execution_count": 337,
   "metadata": {
    "ExecuteTime": {
     "end_time": "2022-02-01T18:39:07.163133Z",
     "start_time": "2022-02-01T18:39:07.151165Z"
    }
   },
   "outputs": [],
   "source": [
    "def map_wrong_countries(country_name: str) -> str:\n",
    "    mapper = {\n",
    "        'Russian Federation': 'Russia',\n",
    "        'Korea, Republic of': 'South Korea'\n",
    "    }\n",
    "    mapped_country_name = mapper.get(country_name, 0)\n",
    "    if not mapped_country_name:\n",
    "        mapped_country_name = country_name\n",
    "    return mapped_country_name"
   ]
  },
  {
   "cell_type": "code",
   "execution_count": 338,
   "metadata": {
    "ExecuteTime": {
     "end_time": "2022-02-01T18:39:36.343444Z",
     "start_time": "2022-02-01T18:39:36.326489Z"
    }
   },
   "outputs": [],
   "source": [
    "data_wages.Country = data_wages.Country.apply(map_wrong_countries)"
   ]
  },
  {
   "cell_type": "code",
   "execution_count": 339,
   "metadata": {
    "ExecuteTime": {
     "end_time": "2022-02-01T18:39:40.255908Z",
     "start_time": "2022-02-01T18:39:40.238953Z"
    }
   },
   "outputs": [
    {
     "data": {
      "text/html": [
       "<div>\n",
       "<style scoped>\n",
       "    .dataframe tbody tr th:only-of-type {\n",
       "        vertical-align: middle;\n",
       "    }\n",
       "\n",
       "    .dataframe tbody tr th {\n",
       "        vertical-align: top;\n",
       "    }\n",
       "\n",
       "    .dataframe thead th {\n",
       "        text-align: right;\n",
       "    }\n",
       "</style>\n",
       "<table border=\"1\" class=\"dataframe\">\n",
       "  <thead>\n",
       "    <tr style=\"text-align: right;\">\n",
       "      <th></th>\n",
       "      <th>Country</th>\n",
       "      <th>avg_wage</th>\n",
       "    </tr>\n",
       "  </thead>\n",
       "  <tbody>\n",
       "    <tr>\n",
       "      <th>0</th>\n",
       "      <td>Afghanistan</td>\n",
       "      <td>172.00</td>\n",
       "    </tr>\n",
       "    <tr>\n",
       "      <th>1</th>\n",
       "      <td>Albania</td>\n",
       "      <td>493.90</td>\n",
       "    </tr>\n",
       "    <tr>\n",
       "      <th>2</th>\n",
       "      <td>Argentina</td>\n",
       "      <td>514.35</td>\n",
       "    </tr>\n",
       "    <tr>\n",
       "      <th>3</th>\n",
       "      <td>Armenia</td>\n",
       "      <td>238.32</td>\n",
       "    </tr>\n",
       "    <tr>\n",
       "      <th>4</th>\n",
       "      <td>Australia</td>\n",
       "      <td>4467.33</td>\n",
       "    </tr>\n",
       "  </tbody>\n",
       "</table>\n",
       "</div>"
      ],
      "text/plain": [
       "       Country  avg_wage\n",
       "0  Afghanistan    172.00\n",
       "1      Albania    493.90\n",
       "2    Argentina    514.35\n",
       "3      Armenia    238.32\n",
       "4    Australia   4467.33"
      ]
     },
     "execution_count": 339,
     "metadata": {},
     "output_type": "execute_result"
    }
   ],
   "source": [
    "data_wages.head()"
   ]
  },
  {
   "cell_type": "code",
   "execution_count": 341,
   "metadata": {
    "ExecuteTime": {
     "end_time": "2022-02-01T18:39:53.037071Z",
     "start_time": "2022-02-01T18:39:53.032085Z"
    }
   },
   "outputs": [
    {
     "data": {
      "text/plain": [
       "{'Canada',\n",
       " 'Gibraltar',\n",
       " 'Hong Kong',\n",
       " 'Liechtenstein',\n",
       " 'Moldova',\n",
       " 'Monaco',\n",
       " 'Peru',\n",
       " 'Switzerland',\n",
       " 'Taiwan',\n",
       " 'Venezuela'}"
      ]
     },
     "execution_count": 341,
     "metadata": {},
     "output_type": "execute_result"
    }
   ],
   "source": [
    "set(df_subscriptions.Country) - set(data_wages.Country.unique())"
   ]
  },
  {
   "cell_type": "markdown",
   "metadata": {},
   "source": [
    "Данных не хватает, поэтому возьмем с двух источников мануально из  https://ru.wikipedia.org/wiki/%D0%A1%D0%BF%D0%B8%D1%81%D0%BE%D0%BA_%D1%81%D1%82%D1%80%D0%B0%D0%BD_%D0%BF%D0%BE_%D1%81%D1%80%D0%B5%D0%B4%D0%BD%D0%B5%D0%B9_%D0%B7%D0%B0%D1%80%D0%B0%D0%B1%D0%BE%D1%82%D0%BD%D0%BE%D0%B9_%D0%BF%D0%BB%D0%B0%D1%82%D0%B5\n",
    "\n",
    "и \n",
    "https://data.oecd.org/earnwage/average-wages.htm"
   ]
  },
  {
   "cell_type": "code",
   "execution_count": 342,
   "metadata": {
    "ExecuteTime": {
     "end_time": "2022-02-01T18:48:09.414343Z",
     "start_time": "2022-02-01T18:48:09.407392Z"
    }
   },
   "outputs": [],
   "source": [
    "add_countries_list = ['Canada', 'Gibraltar', 'Hong Kong', \n",
    "                      'Liechtenstein', 'Moldova', 'Monaco',\n",
    "                      'Peru', 'Switzerland', 'Taiwan', 'Venezuela']\n",
    "add_wages_list = [2785, 3198, 2015,\n",
    "                  5480, 502, 6165, \n",
    "                 520, 6270, 1802, 24]"
   ]
  },
  {
   "cell_type": "code",
   "execution_count": 343,
   "metadata": {
    "ExecuteTime": {
     "end_time": "2022-02-01T18:49:08.995892Z",
     "start_time": "2022-02-01T18:49:08.983895Z"
    }
   },
   "outputs": [],
   "source": [
    "df_add_wages = pd.DataFrame({'Country': add_countries_list,\n",
    "                            'avg_wage': add_wages_list})"
   ]
  },
  {
   "cell_type": "code",
   "execution_count": 344,
   "metadata": {
    "ExecuteTime": {
     "end_time": "2022-02-01T18:49:13.013513Z",
     "start_time": "2022-02-01T18:49:12.999523Z"
    }
   },
   "outputs": [
    {
     "data": {
      "text/html": [
       "<div>\n",
       "<style scoped>\n",
       "    .dataframe tbody tr th:only-of-type {\n",
       "        vertical-align: middle;\n",
       "    }\n",
       "\n",
       "    .dataframe tbody tr th {\n",
       "        vertical-align: top;\n",
       "    }\n",
       "\n",
       "    .dataframe thead th {\n",
       "        text-align: right;\n",
       "    }\n",
       "</style>\n",
       "<table border=\"1\" class=\"dataframe\">\n",
       "  <thead>\n",
       "    <tr style=\"text-align: right;\">\n",
       "      <th></th>\n",
       "      <th>Country</th>\n",
       "      <th>avg_wage</th>\n",
       "    </tr>\n",
       "  </thead>\n",
       "  <tbody>\n",
       "    <tr>\n",
       "      <th>0</th>\n",
       "      <td>Canada</td>\n",
       "      <td>2785</td>\n",
       "    </tr>\n",
       "    <tr>\n",
       "      <th>1</th>\n",
       "      <td>Gibraltar</td>\n",
       "      <td>3198</td>\n",
       "    </tr>\n",
       "    <tr>\n",
       "      <th>2</th>\n",
       "      <td>Hong Kong</td>\n",
       "      <td>2015</td>\n",
       "    </tr>\n",
       "    <tr>\n",
       "      <th>3</th>\n",
       "      <td>Liechtenstein</td>\n",
       "      <td>5480</td>\n",
       "    </tr>\n",
       "    <tr>\n",
       "      <th>4</th>\n",
       "      <td>Moldova</td>\n",
       "      <td>502</td>\n",
       "    </tr>\n",
       "  </tbody>\n",
       "</table>\n",
       "</div>"
      ],
      "text/plain": [
       "         Country  avg_wage\n",
       "0         Canada      2785\n",
       "1      Gibraltar      3198\n",
       "2      Hong Kong      2015\n",
       "3  Liechtenstein      5480\n",
       "4        Moldova       502"
      ]
     },
     "execution_count": 344,
     "metadata": {},
     "output_type": "execute_result"
    }
   ],
   "source": [
    "df_add_wages.head()"
   ]
  },
  {
   "cell_type": "code",
   "execution_count": 345,
   "metadata": {
    "ExecuteTime": {
     "end_time": "2022-02-01T18:49:39.708645Z",
     "start_time": "2022-02-01T18:49:39.703658Z"
    }
   },
   "outputs": [],
   "source": [
    "df_wages = pd.concat([data_wages, df_add_wages])"
   ]
  },
  {
   "cell_type": "code",
   "execution_count": 346,
   "metadata": {
    "ExecuteTime": {
     "end_time": "2022-02-01T18:49:49.356307Z",
     "start_time": "2022-02-01T18:49:49.335340Z"
    }
   },
   "outputs": [
    {
     "data": {
      "text/html": [
       "<div>\n",
       "<style scoped>\n",
       "    .dataframe tbody tr th:only-of-type {\n",
       "        vertical-align: middle;\n",
       "    }\n",
       "\n",
       "    .dataframe tbody tr th {\n",
       "        vertical-align: top;\n",
       "    }\n",
       "\n",
       "    .dataframe thead th {\n",
       "        text-align: right;\n",
       "    }\n",
       "</style>\n",
       "<table border=\"1\" class=\"dataframe\">\n",
       "  <thead>\n",
       "    <tr style=\"text-align: right;\">\n",
       "      <th></th>\n",
       "      <th>Country</th>\n",
       "      <th>avg_wage</th>\n",
       "    </tr>\n",
       "  </thead>\n",
       "  <tbody>\n",
       "    <tr>\n",
       "      <th>0</th>\n",
       "      <td>Afghanistan</td>\n",
       "      <td>172.00</td>\n",
       "    </tr>\n",
       "    <tr>\n",
       "      <th>1</th>\n",
       "      <td>Albania</td>\n",
       "      <td>493.90</td>\n",
       "    </tr>\n",
       "    <tr>\n",
       "      <th>2</th>\n",
       "      <td>Argentina</td>\n",
       "      <td>514.35</td>\n",
       "    </tr>\n",
       "    <tr>\n",
       "      <th>3</th>\n",
       "      <td>Armenia</td>\n",
       "      <td>238.32</td>\n",
       "    </tr>\n",
       "    <tr>\n",
       "      <th>4</th>\n",
       "      <td>Australia</td>\n",
       "      <td>4467.33</td>\n",
       "    </tr>\n",
       "  </tbody>\n",
       "</table>\n",
       "</div>"
      ],
      "text/plain": [
       "       Country  avg_wage\n",
       "0  Afghanistan    172.00\n",
       "1      Albania    493.90\n",
       "2    Argentina    514.35\n",
       "3      Armenia    238.32\n",
       "4    Australia   4467.33"
      ]
     },
     "execution_count": 346,
     "metadata": {},
     "output_type": "execute_result"
    }
   ],
   "source": [
    "df_wages.head()"
   ]
  },
  {
   "cell_type": "code",
   "execution_count": 351,
   "metadata": {
    "ExecuteTime": {
     "end_time": "2022-02-01T18:50:24.903433Z",
     "start_time": "2022-02-01T18:50:24.895460Z"
    }
   },
   "outputs": [
    {
     "data": {
      "text/plain": [
       "set()"
      ]
     },
     "execution_count": 351,
     "metadata": {},
     "output_type": "execute_result"
    }
   ],
   "source": [
    "set(df_subscriptions.Country) - set(df_wages.Country.unique())"
   ]
  },
  {
   "cell_type": "markdown",
   "metadata": {},
   "source": [
    "Окей, теперь необходимо заняться данными для валют, поэтому посмотрим на них."
   ]
  },
  {
   "cell_type": "code",
   "execution_count": 352,
   "metadata": {
    "ExecuteTime": {
     "end_time": "2022-02-01T18:50:46.559987Z",
     "start_time": "2022-02-01T18:50:46.544052Z"
    }
   },
   "outputs": [],
   "source": [
    "url_currencies = 'https://gist.githubusercontent.com/HarishChaudhari/4680482/raw/'\\\n",
    "                 'b61a5bdf5f3d5c69399f9d9e592c4896fd0dc53c/country-code-to-currency-code-mapping.csv'"
   ]
  },
  {
   "cell_type": "code",
   "execution_count": 353,
   "metadata": {
    "ExecuteTime": {
     "end_time": "2022-02-01T18:50:47.046251Z",
     "start_time": "2022-02-01T18:50:46.704516Z"
    }
   },
   "outputs": [],
   "source": [
    "df_currencies_by_countries = pd.read_csv(url_currencies)"
   ]
  },
  {
   "cell_type": "code",
   "execution_count": 354,
   "metadata": {
    "ExecuteTime": {
     "end_time": "2022-02-01T18:50:47.062221Z",
     "start_time": "2022-02-01T18:50:47.048246Z"
    }
   },
   "outputs": [
    {
     "data": {
      "text/plain": [
       "{'Australia',\n",
       " 'Croatia',\n",
       " 'Czechia',\n",
       " 'Moldova',\n",
       " 'Russia',\n",
       " 'Slovakia',\n",
       " 'South Korea'}"
      ]
     },
     "execution_count": 354,
     "metadata": {},
     "output_type": "execute_result"
    }
   ],
   "source": [
    "set(df_subscriptions.Country.unique()) -set(df_currencies_by_countries.Country.unique()) "
   ]
  },
  {
   "cell_type": "markdown",
   "metadata": {},
   "source": [
    "Опять связано с наименованием, сделаем нужный маппинг."
   ]
  },
  {
   "cell_type": "code",
   "execution_count": 355,
   "metadata": {
    "ExecuteTime": {
     "end_time": "2022-02-01T18:50:51.685694Z",
     "start_time": "2022-02-01T18:50:51.679683Z"
    }
   },
   "outputs": [],
   "source": [
    "wrong_country_mapper = {\n",
    "    'Slovakia (Slovak Republic)': 'Slovakia',\n",
    "    'Korea South': 'South Korea',\n",
    "    'Russian Federation': 'Russia',\n",
    "    'Moldova Republic of': 'Moldova',\n",
    "    'Czech Republic': 'Czechia',\n",
    "    'Croatia (Hrvatska)': 'Croatia',\n",
    "    'Australian': 'Australia'\n",
    "}"
   ]
  },
  {
   "cell_type": "code",
   "execution_count": 356,
   "metadata": {
    "ExecuteTime": {
     "end_time": "2022-02-01T18:50:52.768959Z",
     "start_time": "2022-02-01T18:50:52.751976Z"
    }
   },
   "outputs": [],
   "source": [
    "def map_wrong_countries(country_name: str):\n",
    "    wrong_country_mapper = {\n",
    "        'Slovakia (Slovak Republic)': 'Slovakia',\n",
    "        'Korea South': 'South Korea',\n",
    "        'Russian Federation': 'Russia',\n",
    "        'Moldova Republic of': 'Moldova',\n",
    "        'Czech Republic': 'Czechia',\n",
    "        'Croatia (Hrvatska)': 'Croatia',\n",
    "        'Australian': 'Australia'\n",
    "    }\n",
    "    mapped_country = wrong_country_mapper.get(country_name, 0)\n",
    "    if not mapped_country:\n",
    "        mapped_country = country_name\n",
    "    return mapped_country"
   ]
  },
  {
   "cell_type": "code",
   "execution_count": 357,
   "metadata": {
    "ExecuteTime": {
     "end_time": "2022-02-01T18:50:53.913842Z",
     "start_time": "2022-02-01T18:50:53.903882Z"
    }
   },
   "outputs": [],
   "source": [
    "df_currencies_by_countries.Country = df_currencies_by_countries.Country.map(map_wrong_countries)"
   ]
  },
  {
   "cell_type": "code",
   "execution_count": 358,
   "metadata": {
    "ExecuteTime": {
     "end_time": "2022-02-01T18:50:56.087172Z",
     "start_time": "2022-02-01T18:50:56.071217Z"
    }
   },
   "outputs": [],
   "source": [
    "df = pd.merge(df_subscriptions, df_currencies_by_countries, how='left')"
   ]
  },
  {
   "cell_type": "code",
   "execution_count": 359,
   "metadata": {
    "ExecuteTime": {
     "end_time": "2022-02-01T18:50:56.308031Z",
     "start_time": "2022-02-01T18:50:56.294040Z"
    }
   },
   "outputs": [
    {
     "data": {
      "text/html": [
       "<div>\n",
       "<style scoped>\n",
       "    .dataframe tbody tr th:only-of-type {\n",
       "        vertical-align: middle;\n",
       "    }\n",
       "\n",
       "    .dataframe tbody tr th {\n",
       "        vertical-align: top;\n",
       "    }\n",
       "\n",
       "    .dataframe thead th {\n",
       "        text-align: right;\n",
       "    }\n",
       "</style>\n",
       "<table border=\"1\" class=\"dataframe\">\n",
       "  <thead>\n",
       "    <tr style=\"text-align: right;\">\n",
       "      <th></th>\n",
       "      <th>Country_code</th>\n",
       "      <th>Country</th>\n",
       "      <th>Total Library Size</th>\n",
       "      <th>No. of TV Shows</th>\n",
       "      <th>No. of Movies</th>\n",
       "      <th>Cost Per Month - Basic ($)</th>\n",
       "      <th>Cost Per Month - Standard ($)</th>\n",
       "      <th>Cost Per Month - Premium ($)</th>\n",
       "      <th>CountryCode</th>\n",
       "      <th>Currency</th>\n",
       "      <th>Code</th>\n",
       "    </tr>\n",
       "  </thead>\n",
       "  <tbody>\n",
       "    <tr>\n",
       "      <th>0</th>\n",
       "      <td>ar</td>\n",
       "      <td>Argentina</td>\n",
       "      <td>4760</td>\n",
       "      <td>3154</td>\n",
       "      <td>1606</td>\n",
       "      <td>3.74</td>\n",
       "      <td>6.30</td>\n",
       "      <td>9.26</td>\n",
       "      <td>AR</td>\n",
       "      <td>Peso</td>\n",
       "      <td>ARS</td>\n",
       "    </tr>\n",
       "    <tr>\n",
       "      <th>1</th>\n",
       "      <td>au</td>\n",
       "      <td>Australia</td>\n",
       "      <td>6114</td>\n",
       "      <td>4050</td>\n",
       "      <td>2064</td>\n",
       "      <td>7.84</td>\n",
       "      <td>12.12</td>\n",
       "      <td>16.39</td>\n",
       "      <td>AU</td>\n",
       "      <td>Australian Dollars</td>\n",
       "      <td>AUD</td>\n",
       "    </tr>\n",
       "    <tr>\n",
       "      <th>2</th>\n",
       "      <td>at</td>\n",
       "      <td>Austria</td>\n",
       "      <td>5640</td>\n",
       "      <td>3779</td>\n",
       "      <td>1861</td>\n",
       "      <td>9.03</td>\n",
       "      <td>14.67</td>\n",
       "      <td>20.32</td>\n",
       "      <td>AT</td>\n",
       "      <td>Euros</td>\n",
       "      <td>EUR</td>\n",
       "    </tr>\n",
       "    <tr>\n",
       "      <th>3</th>\n",
       "      <td>be</td>\n",
       "      <td>Belgium</td>\n",
       "      <td>4990</td>\n",
       "      <td>3374</td>\n",
       "      <td>1616</td>\n",
       "      <td>10.16</td>\n",
       "      <td>15.24</td>\n",
       "      <td>20.32</td>\n",
       "      <td>BE</td>\n",
       "      <td>Euros</td>\n",
       "      <td>EUR</td>\n",
       "    </tr>\n",
       "    <tr>\n",
       "      <th>4</th>\n",
       "      <td>bo</td>\n",
       "      <td>Bolivia</td>\n",
       "      <td>4991</td>\n",
       "      <td>3155</td>\n",
       "      <td>1836</td>\n",
       "      <td>7.99</td>\n",
       "      <td>10.99</td>\n",
       "      <td>13.99</td>\n",
       "      <td>BO</td>\n",
       "      <td>Boliviano</td>\n",
       "      <td>BOB</td>\n",
       "    </tr>\n",
       "  </tbody>\n",
       "</table>\n",
       "</div>"
      ],
      "text/plain": [
       "  Country_code    Country  Total Library Size  No. of TV Shows  No. of Movies  \\\n",
       "0           ar  Argentina                4760             3154           1606   \n",
       "1           au  Australia                6114             4050           2064   \n",
       "2           at    Austria                5640             3779           1861   \n",
       "3           be    Belgium                4990             3374           1616   \n",
       "4           bo    Bolivia                4991             3155           1836   \n",
       "\n",
       "   Cost Per Month - Basic ($)  Cost Per Month - Standard ($)  \\\n",
       "0                        3.74                           6.30   \n",
       "1                        7.84                          12.12   \n",
       "2                        9.03                          14.67   \n",
       "3                       10.16                          15.24   \n",
       "4                        7.99                          10.99   \n",
       "\n",
       "   Cost Per Month - Premium ($) CountryCode            Currency Code  \n",
       "0                          9.26          AR                Peso  ARS  \n",
       "1                         16.39          AU  Australian Dollars  AUD  \n",
       "2                         20.32          AT               Euros  EUR  \n",
       "3                         20.32          BE               Euros  EUR  \n",
       "4                         13.99          BO           Boliviano  BOB  "
      ]
     },
     "execution_count": 359,
     "metadata": {},
     "output_type": "execute_result"
    }
   ],
   "source": [
    "df.head()"
   ]
  },
  {
   "cell_type": "code",
   "execution_count": 360,
   "metadata": {
    "ExecuteTime": {
     "end_time": "2022-02-01T18:50:59.470542Z",
     "start_time": "2022-02-01T18:50:59.463561Z"
    }
   },
   "outputs": [],
   "source": [
    "df.Country_code = df.Country_code.apply(str.upper)"
   ]
  },
  {
   "cell_type": "code",
   "execution_count": 362,
   "metadata": {
    "ExecuteTime": {
     "end_time": "2022-02-01T18:52:06.837471Z",
     "start_time": "2022-02-01T18:52:06.823482Z"
    }
   },
   "outputs": [],
   "source": [
    "df = df.merge(df_wages, how='left', on='Country')"
   ]
  },
  {
   "cell_type": "code",
   "execution_count": 363,
   "metadata": {
    "ExecuteTime": {
     "end_time": "2022-02-01T18:52:09.858695Z",
     "start_time": "2022-02-01T18:52:09.847741Z"
    }
   },
   "outputs": [
    {
     "data": {
      "text/html": [
       "<div>\n",
       "<style scoped>\n",
       "    .dataframe tbody tr th:only-of-type {\n",
       "        vertical-align: middle;\n",
       "    }\n",
       "\n",
       "    .dataframe tbody tr th {\n",
       "        vertical-align: top;\n",
       "    }\n",
       "\n",
       "    .dataframe thead th {\n",
       "        text-align: right;\n",
       "    }\n",
       "</style>\n",
       "<table border=\"1\" class=\"dataframe\">\n",
       "  <thead>\n",
       "    <tr style=\"text-align: right;\">\n",
       "      <th></th>\n",
       "      <th>Country_code</th>\n",
       "      <th>Country</th>\n",
       "      <th>Total Library Size</th>\n",
       "      <th>No. of TV Shows</th>\n",
       "      <th>No. of Movies</th>\n",
       "      <th>Cost Per Month - Basic ($)</th>\n",
       "      <th>Cost Per Month - Standard ($)</th>\n",
       "      <th>Cost Per Month - Premium ($)</th>\n",
       "      <th>CountryCode</th>\n",
       "      <th>Currency</th>\n",
       "      <th>Code</th>\n",
       "      <th>avg_wage</th>\n",
       "    </tr>\n",
       "  </thead>\n",
       "  <tbody>\n",
       "    <tr>\n",
       "      <th>0</th>\n",
       "      <td>AR</td>\n",
       "      <td>Argentina</td>\n",
       "      <td>4760</td>\n",
       "      <td>3154</td>\n",
       "      <td>1606</td>\n",
       "      <td>3.74</td>\n",
       "      <td>6.30</td>\n",
       "      <td>9.26</td>\n",
       "      <td>AR</td>\n",
       "      <td>Peso</td>\n",
       "      <td>ARS</td>\n",
       "      <td>514.35</td>\n",
       "    </tr>\n",
       "    <tr>\n",
       "      <th>1</th>\n",
       "      <td>AU</td>\n",
       "      <td>Australia</td>\n",
       "      <td>6114</td>\n",
       "      <td>4050</td>\n",
       "      <td>2064</td>\n",
       "      <td>7.84</td>\n",
       "      <td>12.12</td>\n",
       "      <td>16.39</td>\n",
       "      <td>AU</td>\n",
       "      <td>Australian Dollars</td>\n",
       "      <td>AUD</td>\n",
       "      <td>4467.33</td>\n",
       "    </tr>\n",
       "    <tr>\n",
       "      <th>2</th>\n",
       "      <td>AT</td>\n",
       "      <td>Austria</td>\n",
       "      <td>5640</td>\n",
       "      <td>3779</td>\n",
       "      <td>1861</td>\n",
       "      <td>9.03</td>\n",
       "      <td>14.67</td>\n",
       "      <td>20.32</td>\n",
       "      <td>AT</td>\n",
       "      <td>Euros</td>\n",
       "      <td>EUR</td>\n",
       "      <td>3187.14</td>\n",
       "    </tr>\n",
       "    <tr>\n",
       "      <th>3</th>\n",
       "      <td>BE</td>\n",
       "      <td>Belgium</td>\n",
       "      <td>4990</td>\n",
       "      <td>3374</td>\n",
       "      <td>1616</td>\n",
       "      <td>10.16</td>\n",
       "      <td>15.24</td>\n",
       "      <td>20.32</td>\n",
       "      <td>BE</td>\n",
       "      <td>Euros</td>\n",
       "      <td>EUR</td>\n",
       "      <td>3793.23</td>\n",
       "    </tr>\n",
       "    <tr>\n",
       "      <th>4</th>\n",
       "      <td>BO</td>\n",
       "      <td>Bolivia</td>\n",
       "      <td>4991</td>\n",
       "      <td>3155</td>\n",
       "      <td>1836</td>\n",
       "      <td>7.99</td>\n",
       "      <td>10.99</td>\n",
       "      <td>13.99</td>\n",
       "      <td>BO</td>\n",
       "      <td>Boliviano</td>\n",
       "      <td>BOB</td>\n",
       "      <td>483.22</td>\n",
       "    </tr>\n",
       "  </tbody>\n",
       "</table>\n",
       "</div>"
      ],
      "text/plain": [
       "  Country_code    Country  Total Library Size  No. of TV Shows  No. of Movies  \\\n",
       "0           AR  Argentina                4760             3154           1606   \n",
       "1           AU  Australia                6114             4050           2064   \n",
       "2           AT    Austria                5640             3779           1861   \n",
       "3           BE    Belgium                4990             3374           1616   \n",
       "4           BO    Bolivia                4991             3155           1836   \n",
       "\n",
       "   Cost Per Month - Basic ($)  Cost Per Month - Standard ($)  \\\n",
       "0                        3.74                           6.30   \n",
       "1                        7.84                          12.12   \n",
       "2                        9.03                          14.67   \n",
       "3                       10.16                          15.24   \n",
       "4                        7.99                          10.99   \n",
       "\n",
       "   Cost Per Month - Premium ($) CountryCode            Currency Code  avg_wage  \n",
       "0                          9.26          AR                Peso  ARS    514.35  \n",
       "1                         16.39          AU  Australian Dollars  AUD   4467.33  \n",
       "2                         20.32          AT               Euros  EUR   3187.14  \n",
       "3                         20.32          BE               Euros  EUR   3793.23  \n",
       "4                         13.99          BO           Boliviano  BOB    483.22  "
      ]
     },
     "execution_count": 363,
     "metadata": {},
     "output_type": "execute_result"
    }
   ],
   "source": [
    "df.head()"
   ]
  },
  {
   "cell_type": "code",
   "execution_count": 364,
   "metadata": {
    "ExecuteTime": {
     "end_time": "2022-02-01T18:52:26.560030Z",
     "start_time": "2022-02-01T18:52:26.552052Z"
    }
   },
   "outputs": [
    {
     "data": {
      "text/plain": [
       "Country_code                     0\n",
       "Country                          0\n",
       "Total Library Size               0\n",
       "No. of TV Shows                  0\n",
       "No. of Movies                    0\n",
       "Cost Per Month - Basic ($)       0\n",
       "Cost Per Month - Standard ($)    0\n",
       "Cost Per Month - Premium ($)     0\n",
       "CountryCode                      0\n",
       "Currency                         0\n",
       "Code                             0\n",
       "avg_wage                         0\n",
       "dtype: int64"
      ]
     },
     "execution_count": 364,
     "metadata": {},
     "output_type": "execute_result"
    }
   ],
   "source": [
    "df.isna().sum().sort_values(ascending=False)"
   ]
  },
  {
   "cell_type": "markdown",
   "metadata": {},
   "source": [
    "Осталось лишь найти континент, чтобы по нему потом группировать! Для этого воспользуемся специальной библиотекой pycountry_convert"
   ]
  },
  {
   "cell_type": "code",
   "execution_count": 366,
   "metadata": {
    "ExecuteTime": {
     "end_time": "2022-02-01T18:53:59.775480Z",
     "start_time": "2022-02-01T18:53:59.760493Z"
    }
   },
   "outputs": [
    {
     "ename": "TypeError",
     "evalue": "'module' object is not callable",
     "output_type": "error",
     "traceback": [
      "\u001b[1;31m---------------------------------------------------------------------------\u001b[0m",
      "\u001b[1;31mTypeError\u001b[0m                                 Traceback (most recent call last)",
      "\u001b[1;32m<ipython-input-366-8bea1c729e79>\u001b[0m in \u001b[0;36m<module>\u001b[1;34m\u001b[0m\n\u001b[1;32m----> 1\u001b[1;33m \u001b[0mpc\u001b[0m\u001b[1;33m.\u001b[0m\u001b[0mconvert_country_alpha2_to_continent_code\u001b[0m\u001b[1;33m(\u001b[0m\u001b[0mdf\u001b[0m\u001b[1;33m.\u001b[0m\u001b[0mCountryCode\u001b[0m\u001b[1;33m)\u001b[0m\u001b[1;33m\u001b[0m\u001b[1;33m\u001b[0m\u001b[0m\n\u001b[0m",
      "\u001b[1;31mTypeError\u001b[0m: 'module' object is not callable"
     ]
    }
   ],
   "source": [
    "pc.convert_country_alpha2_to_continent_code(df.CountryCode)"
   ]
  },
  {
   "cell_type": "code",
   "execution_count": 367,
   "metadata": {
    "ExecuteTime": {
     "end_time": "2022-02-01T18:55:05.811298Z",
     "start_time": "2022-02-01T18:55:05.601180Z"
    }
   },
   "outputs": [
    {
     "name": "stdout",
     "output_type": "stream",
     "text": [
      "CN\n",
      "AS\n"
     ]
    }
   ],
   "source": [
    "country_code = pc.country_name_to_country_alpha2(\"China\", cn_name_format=\"default\")\n",
    "print(country_code)\n",
    "continent_name = pc.country_alpha2_to_continent_code(country_code)\n",
    "print(continent_name)"
   ]
  },
  {
   "cell_type": "code",
   "execution_count": 380,
   "metadata": {
    "ExecuteTime": {
     "end_time": "2022-02-01T19:02:36.413915Z",
     "start_time": "2022-02-01T19:02:36.400951Z"
    }
   },
   "outputs": [],
   "source": [
    "def map_country_code_2_continent_code(country_code: str):\n",
    "    continent_code = pc.country_alpha2_to_continent_code(country_code)\n",
    "    continents = {\n",
    "    'NA': 'North America',\n",
    "    'SA': 'South America', \n",
    "    'AS': 'Asia',\n",
    "    'OC': 'Australia',\n",
    "    'AF': 'Africa',\n",
    "    'EU': 'Europe'\n",
    "    }\n",
    "    return continents.get(continent_code, np.nan)"
   ]
  },
  {
   "cell_type": "code",
   "execution_count": 381,
   "metadata": {
    "ExecuteTime": {
     "end_time": "2022-02-01T19:02:37.667843Z",
     "start_time": "2022-02-01T19:02:37.656872Z"
    }
   },
   "outputs": [],
   "source": [
    "df['Continent_name'] = df['Country_code'].apply(map_country_code_2_continent_code)"
   ]
  },
  {
   "cell_type": "code",
   "execution_count": 382,
   "metadata": {
    "ExecuteTime": {
     "end_time": "2022-02-01T19:02:39.348626Z",
     "start_time": "2022-02-01T19:02:39.344635Z"
    }
   },
   "outputs": [
    {
     "data": {
      "text/plain": [
       "0"
      ]
     },
     "execution_count": 382,
     "metadata": {},
     "output_type": "execute_result"
    }
   ],
   "source": [
    "df.Continent_code.isna().sum()"
   ]
  },
  {
   "cell_type": "code",
   "execution_count": 384,
   "metadata": {
    "ExecuteTime": {
     "end_time": "2022-02-01T19:02:43.329185Z",
     "start_time": "2022-02-01T19:02:43.320181Z"
    }
   },
   "outputs": [
    {
     "data": {
      "text/plain": [
       "array(['South America', 'Australia', 'Europe', 'North America', 'Asia',\n",
       "       'Africa'], dtype=object)"
      ]
     },
     "execution_count": 384,
     "metadata": {},
     "output_type": "execute_result"
    }
   ],
   "source": [
    "df.Continent_name.unique()"
   ]
  },
  {
   "cell_type": "markdown",
   "metadata": {},
   "source": [
    "### Data Analysis"
   ]
  },
  {
   "cell_type": "code",
   "execution_count": 385,
   "metadata": {
    "ExecuteTime": {
     "end_time": "2022-02-01T19:03:28.960546Z",
     "start_time": "2022-02-01T19:03:28.944561Z"
    }
   },
   "outputs": [],
   "source": [
    "import matplotlib.pyplot as plt"
   ]
  },
  {
   "cell_type": "code",
   "execution_count": 386,
   "metadata": {
    "ExecuteTime": {
     "end_time": "2022-02-01T19:04:29.039125Z",
     "start_time": "2022-02-01T19:04:29.024166Z"
    }
   },
   "outputs": [
    {
     "data": {
      "text/html": [
       "<div>\n",
       "<style scoped>\n",
       "    .dataframe tbody tr th:only-of-type {\n",
       "        vertical-align: middle;\n",
       "    }\n",
       "\n",
       "    .dataframe tbody tr th {\n",
       "        vertical-align: top;\n",
       "    }\n",
       "\n",
       "    .dataframe thead th {\n",
       "        text-align: right;\n",
       "    }\n",
       "</style>\n",
       "<table border=\"1\" class=\"dataframe\">\n",
       "  <thead>\n",
       "    <tr style=\"text-align: right;\">\n",
       "      <th></th>\n",
       "      <th>Country_code</th>\n",
       "      <th>Country</th>\n",
       "      <th>Total Library Size</th>\n",
       "      <th>No. of TV Shows</th>\n",
       "      <th>No. of Movies</th>\n",
       "      <th>Cost Per Month - Basic ($)</th>\n",
       "      <th>Cost Per Month - Standard ($)</th>\n",
       "      <th>Cost Per Month - Premium ($)</th>\n",
       "      <th>CountryCode</th>\n",
       "      <th>Currency</th>\n",
       "      <th>Code</th>\n",
       "      <th>avg_wage</th>\n",
       "      <th>Continent_code</th>\n",
       "      <th>Continent_name</th>\n",
       "    </tr>\n",
       "  </thead>\n",
       "  <tbody>\n",
       "    <tr>\n",
       "      <th>0</th>\n",
       "      <td>AR</td>\n",
       "      <td>Argentina</td>\n",
       "      <td>4760</td>\n",
       "      <td>3154</td>\n",
       "      <td>1606</td>\n",
       "      <td>3.74</td>\n",
       "      <td>6.30</td>\n",
       "      <td>9.26</td>\n",
       "      <td>AR</td>\n",
       "      <td>Peso</td>\n",
       "      <td>ARS</td>\n",
       "      <td>514.35</td>\n",
       "      <td>SA</td>\n",
       "      <td>South America</td>\n",
       "    </tr>\n",
       "    <tr>\n",
       "      <th>1</th>\n",
       "      <td>AU</td>\n",
       "      <td>Australia</td>\n",
       "      <td>6114</td>\n",
       "      <td>4050</td>\n",
       "      <td>2064</td>\n",
       "      <td>7.84</td>\n",
       "      <td>12.12</td>\n",
       "      <td>16.39</td>\n",
       "      <td>AU</td>\n",
       "      <td>Australian Dollars</td>\n",
       "      <td>AUD</td>\n",
       "      <td>4467.33</td>\n",
       "      <td>OC</td>\n",
       "      <td>Australia</td>\n",
       "    </tr>\n",
       "    <tr>\n",
       "      <th>2</th>\n",
       "      <td>AT</td>\n",
       "      <td>Austria</td>\n",
       "      <td>5640</td>\n",
       "      <td>3779</td>\n",
       "      <td>1861</td>\n",
       "      <td>9.03</td>\n",
       "      <td>14.67</td>\n",
       "      <td>20.32</td>\n",
       "      <td>AT</td>\n",
       "      <td>Euros</td>\n",
       "      <td>EUR</td>\n",
       "      <td>3187.14</td>\n",
       "      <td>EU</td>\n",
       "      <td>Europe</td>\n",
       "    </tr>\n",
       "    <tr>\n",
       "      <th>3</th>\n",
       "      <td>BE</td>\n",
       "      <td>Belgium</td>\n",
       "      <td>4990</td>\n",
       "      <td>3374</td>\n",
       "      <td>1616</td>\n",
       "      <td>10.16</td>\n",
       "      <td>15.24</td>\n",
       "      <td>20.32</td>\n",
       "      <td>BE</td>\n",
       "      <td>Euros</td>\n",
       "      <td>EUR</td>\n",
       "      <td>3793.23</td>\n",
       "      <td>EU</td>\n",
       "      <td>Europe</td>\n",
       "    </tr>\n",
       "    <tr>\n",
       "      <th>4</th>\n",
       "      <td>BO</td>\n",
       "      <td>Bolivia</td>\n",
       "      <td>4991</td>\n",
       "      <td>3155</td>\n",
       "      <td>1836</td>\n",
       "      <td>7.99</td>\n",
       "      <td>10.99</td>\n",
       "      <td>13.99</td>\n",
       "      <td>BO</td>\n",
       "      <td>Boliviano</td>\n",
       "      <td>BOB</td>\n",
       "      <td>483.22</td>\n",
       "      <td>SA</td>\n",
       "      <td>South America</td>\n",
       "    </tr>\n",
       "  </tbody>\n",
       "</table>\n",
       "</div>"
      ],
      "text/plain": [
       "  Country_code    Country  Total Library Size  No. of TV Shows  No. of Movies  \\\n",
       "0           AR  Argentina                4760             3154           1606   \n",
       "1           AU  Australia                6114             4050           2064   \n",
       "2           AT    Austria                5640             3779           1861   \n",
       "3           BE    Belgium                4990             3374           1616   \n",
       "4           BO    Bolivia                4991             3155           1836   \n",
       "\n",
       "   Cost Per Month - Basic ($)  Cost Per Month - Standard ($)  \\\n",
       "0                        3.74                           6.30   \n",
       "1                        7.84                          12.12   \n",
       "2                        9.03                          14.67   \n",
       "3                       10.16                          15.24   \n",
       "4                        7.99                          10.99   \n",
       "\n",
       "   Cost Per Month - Premium ($) CountryCode            Currency Code  \\\n",
       "0                          9.26          AR                Peso  ARS   \n",
       "1                         16.39          AU  Australian Dollars  AUD   \n",
       "2                         20.32          AT               Euros  EUR   \n",
       "3                         20.32          BE               Euros  EUR   \n",
       "4                         13.99          BO           Boliviano  BOB   \n",
       "\n",
       "   avg_wage Continent_code Continent_name  \n",
       "0    514.35             SA  South America  \n",
       "1   4467.33             OC      Australia  \n",
       "2   3187.14             EU         Europe  \n",
       "3   3793.23             EU         Europe  \n",
       "4    483.22             SA  South America  "
      ]
     },
     "execution_count": 386,
     "metadata": {},
     "output_type": "execute_result"
    }
   ],
   "source": [
    "df.head()"
   ]
  },
  {
   "cell_type": "code",
   "execution_count": 389,
   "metadata": {
    "ExecuteTime": {
     "end_time": "2022-02-01T19:05:48.211779Z",
     "start_time": "2022-02-01T19:05:48.191827Z"
    }
   },
   "outputs": [
    {
     "data": {
      "text/plain": [
       "0.6017729644079642"
      ]
     },
     "execution_count": 389,
     "metadata": {},
     "output_type": "execute_result"
    }
   ],
   "source": [
    "df['Cost Per Month - Basic ($)'].corr(df['avg_wage'])"
   ]
  },
  {
   "cell_type": "code",
   "execution_count": 399,
   "metadata": {
    "ExecuteTime": {
     "end_time": "2022-02-01T19:13:50.612171Z",
     "start_time": "2022-02-01T19:13:50.465562Z"
    },
    "scrolled": false
   },
   "outputs": [
    {
     "data": {
      "image/png": "[encoded data removed]",
      "text/plain": [
       "<Figure size 864x864 with 1 Axes>"
      ]
     },
     "metadata": {
      "needs_background": "light"
     },
     "output_type": "display_data"
    }
   ],
   "source": [
    "plt.figure(figsize=(12, 12))\n",
    "plt.title('Зависимость стоимости базовой подписки от средней зарплаты')\n",
    "plt.xlabel('Зарплата, USD')\n",
    "plt.ylabel('Стоимость базовой подписки, USD')\n",
    "plt.scatter(y=df['Cost Per Month - Basic ($)'], x=df['avg_wage'])\n",
    "plt.show()"
   ]
  },
  {
   "cell_type": "code",
   "execution_count": 396,
   "metadata": {
    "ExecuteTime": {
     "end_time": "2022-02-01T19:13:07.755827Z",
     "start_time": "2022-02-01T19:13:07.743829Z"
    }
   },
   "outputs": [],
   "source": [
    "df['mean_price'] = df[['Cost Per Month - Basic ($)', 'Cost Per Month - Standard ($)',\n",
    "                      'Cost Per Month - Premium ($)']].mean(axis=1)"
   ]
  },
  {
   "cell_type": "code",
   "execution_count": 400,
   "metadata": {
    "ExecuteTime": {
     "end_time": "2022-02-01T19:13:51.905327Z",
     "start_time": "2022-02-01T19:13:51.721818Z"
    }
   },
   "outputs": [
    {
     "data": {
      "image/png": "[encoded data removed]",
      "text/plain": [
       "<Figure size 864x864 with 1 Axes>"
      ]
     },
     "metadata": {
      "needs_background": "light"
     },
     "output_type": "display_data"
    }
   ],
   "source": [
    "plt.figure(figsize=(12, 12))\n",
    "plt.title('Зависимость средней стоимости подписки от средней зарплаты')\n",
    "plt.xlabel('Зарплата, USD')\n",
    "plt.ylabel('Средняя стоимость подписки, USD')\n",
    "plt.scatter(y=df['mean_price'], x=df['avg_wage'])\n",
    "plt.show()"
   ]
  },
  {
   "cell_type": "code",
   "execution_count": 401,
   "metadata": {
    "ExecuteTime": {
     "end_time": "2022-02-01T19:14:22.351585Z",
     "start_time": "2022-02-01T19:14:22.337602Z"
    }
   },
   "outputs": [
    {
     "data": {
      "text/plain": [
       "0.7450533532784581"
      ]
     },
     "execution_count": 401,
     "metadata": {},
     "output_type": "execute_result"
    }
   ],
   "source": [
    "df['mean_price'].corr(df['avg_wage'])"
   ]
  },
  {
   "cell_type": "markdown",
   "metadata": {},
   "source": [
    "#### Средняя цена подписки в зависимости от валюты"
   ]
  },
  {
   "cell_type": "code",
   "execution_count": 394,
   "metadata": {
    "ExecuteTime": {
     "end_time": "2022-02-01T19:11:40.674793Z",
     "start_time": "2022-02-01T19:11:40.647865Z"
    }
   },
   "outputs": [],
   "source": [
    "df['mean_price'] = df[['Cost Per Month - Basic ($)', 'Cost Per Month - Standard ($)',\n",
    "                      'Cost Per Month - Premium ($)']].mean(axis=1)"
   ]
  },
  {
   "cell_type": "code",
   "execution_count": 436,
   "metadata": {
    "ExecuteTime": {
     "end_time": "2022-02-01T19:35:13.828450Z",
     "start_time": "2022-02-01T19:35:13.345635Z"
    },
    "scrolled": false
   },
   "outputs": [
    {
     "data": {
      "image/png": "[encoded data removed]",
      "text/plain": [
       "<Figure size 720x720 with 1 Axes>"
      ]
     },
     "metadata": {
      "needs_background": "light"
     },
     "output_type": "display_data"
    }
   ],
   "source": [
    "groupped_basic = df[['Cost Per Month - Basic ($)', 'Code']].groupby(by='Code')\\\n",
    "                                                           .agg(mean_value_basic=('Cost Per Month - Basic ($)','mean'))\n",
    "groupped_basic.plot.bar(figsize=(10, 10))\n",
    "plt.show()"
   ]
  },
  {
   "cell_type": "code",
   "execution_count": 421,
   "metadata": {
    "ExecuteTime": {
     "end_time": "2022-02-01T19:22:43.280275Z",
     "start_time": "2022-02-01T19:22:43.266279Z"
    },
    "scrolled": true
   },
   "outputs": [
    {
     "data": {
      "text/html": [
       "<div>\n",
       "<style scoped>\n",
       "    .dataframe tbody tr th:only-of-type {\n",
       "        vertical-align: middle;\n",
       "    }\n",
       "\n",
       "    .dataframe tbody tr th {\n",
       "        vertical-align: top;\n",
       "    }\n",
       "\n",
       "    .dataframe thead th {\n",
       "        text-align: right;\n",
       "    }\n",
       "</style>\n",
       "<table border=\"1\" class=\"dataframe\">\n",
       "  <thead>\n",
       "    <tr style=\"text-align: right;\">\n",
       "      <th></th>\n",
       "      <th>mean_value_basic</th>\n",
       "    </tr>\n",
       "    <tr>\n",
       "      <th>Code</th>\n",
       "      <th></th>\n",
       "    </tr>\n",
       "  </thead>\n",
       "  <tbody>\n",
       "    <tr>\n",
       "      <th>ARS</th>\n",
       "      <td>3.740000</td>\n",
       "    </tr>\n",
       "    <tr>\n",
       "      <th>AUD</th>\n",
       "      <td>7.840000</td>\n",
       "    </tr>\n",
       "    <tr>\n",
       "      <th>BGN</th>\n",
       "      <td>9.030000</td>\n",
       "    </tr>\n",
       "    <tr>\n",
       "      <th>BOB</th>\n",
       "      <td>7.990000</td>\n",
       "    </tr>\n",
       "    <tr>\n",
       "      <th>BRL</th>\n",
       "      <td>4.610000</td>\n",
       "    </tr>\n",
       "    <tr>\n",
       "      <th>CAD</th>\n",
       "      <td>7.910000</td>\n",
       "    </tr>\n",
       "    <tr>\n",
       "      <th>CHF</th>\n",
       "      <td>12.880000</td>\n",
       "    </tr>\n",
       "    <tr>\n",
       "      <th>CLP</th>\n",
       "      <td>7.070000</td>\n",
       "    </tr>\n",
       "    <tr>\n",
       "      <th>COP</th>\n",
       "      <td>4.310000</td>\n",
       "    </tr>\n",
       "    <tr>\n",
       "      <th>CRC</th>\n",
       "      <td>8.990000</td>\n",
       "    </tr>\n",
       "    <tr>\n",
       "      <th>CZK</th>\n",
       "      <td>8.830000</td>\n",
       "    </tr>\n",
       "    <tr>\n",
       "      <th>DKK</th>\n",
       "      <td>12.000000</td>\n",
       "    </tr>\n",
       "    <tr>\n",
       "      <th>ECS</th>\n",
       "      <td>7.990000</td>\n",
       "    </tr>\n",
       "    <tr>\n",
       "      <th>EEK</th>\n",
       "      <td>9.030000</td>\n",
       "    </tr>\n",
       "    <tr>\n",
       "      <th>EUR</th>\n",
       "      <td>9.203846</td>\n",
       "    </tr>\n",
       "    <tr>\n",
       "      <th>GBP</th>\n",
       "      <td>7.910000</td>\n",
       "    </tr>\n",
       "    <tr>\n",
       "      <th>GIP</th>\n",
       "      <td>9.030000</td>\n",
       "    </tr>\n",
       "    <tr>\n",
       "      <th>GTQ</th>\n",
       "      <td>7.990000</td>\n",
       "    </tr>\n",
       "    <tr>\n",
       "      <th>HKD</th>\n",
       "      <td>8.080000</td>\n",
       "    </tr>\n",
       "    <tr>\n",
       "      <th>HNL</th>\n",
       "      <td>7.990000</td>\n",
       "    </tr>\n",
       "    <tr>\n",
       "      <th>HRK</th>\n",
       "      <td>9.030000</td>\n",
       "    </tr>\n",
       "    <tr>\n",
       "      <th>HUF</th>\n",
       "      <td>7.640000</td>\n",
       "    </tr>\n",
       "    <tr>\n",
       "      <th>IDR</th>\n",
       "      <td>8.360000</td>\n",
       "    </tr>\n",
       "    <tr>\n",
       "      <th>ILS</th>\n",
       "      <td>10.560000</td>\n",
       "    </tr>\n",
       "    <tr>\n",
       "      <th>INR</th>\n",
       "      <td>2.640000</td>\n",
       "    </tr>\n",
       "    <tr>\n",
       "      <th>ISK</th>\n",
       "      <td>9.030000</td>\n",
       "    </tr>\n",
       "    <tr>\n",
       "      <th>JPY</th>\n",
       "      <td>8.730000</td>\n",
       "    </tr>\n",
       "    <tr>\n",
       "      <th>KRW</th>\n",
       "      <td>8.070000</td>\n",
       "    </tr>\n",
       "    <tr>\n",
       "      <th>LTL</th>\n",
       "      <td>9.030000</td>\n",
       "    </tr>\n",
       "    <tr>\n",
       "      <th>LVL</th>\n",
       "      <td>9.030000</td>\n",
       "    </tr>\n",
       "    <tr>\n",
       "      <th>MDL</th>\n",
       "      <td>9.030000</td>\n",
       "    </tr>\n",
       "    <tr>\n",
       "      <th>MXN</th>\n",
       "      <td>6.620000</td>\n",
       "    </tr>\n",
       "    <tr>\n",
       "      <th>MYR</th>\n",
       "      <td>8.290000</td>\n",
       "    </tr>\n",
       "    <tr>\n",
       "      <th>NOK</th>\n",
       "      <td>9.940000</td>\n",
       "    </tr>\n",
       "    <tr>\n",
       "      <th>NZD</th>\n",
       "      <td>8.800000</td>\n",
       "    </tr>\n",
       "    <tr>\n",
       "      <th>PEN</th>\n",
       "      <td>6.110000</td>\n",
       "    </tr>\n",
       "    <tr>\n",
       "      <th>PHP</th>\n",
       "      <td>7.350000</td>\n",
       "    </tr>\n",
       "    <tr>\n",
       "      <th>PLN</th>\n",
       "      <td>7.130000</td>\n",
       "    </tr>\n",
       "    <tr>\n",
       "      <th>PYG</th>\n",
       "      <td>8.290000</td>\n",
       "    </tr>\n",
       "    <tr>\n",
       "      <th>RON</th>\n",
       "      <td>9.030000</td>\n",
       "    </tr>\n",
       "    <tr>\n",
       "      <th>RUB</th>\n",
       "      <td>8.130000</td>\n",
       "    </tr>\n",
       "    <tr>\n",
       "      <th>SEK</th>\n",
       "      <td>10.900000</td>\n",
       "    </tr>\n",
       "    <tr>\n",
       "      <th>SGD</th>\n",
       "      <td>9.510000</td>\n",
       "    </tr>\n",
       "    <tr>\n",
       "      <th>SKK</th>\n",
       "      <td>9.030000</td>\n",
       "    </tr>\n",
       "    <tr>\n",
       "      <th>THB</th>\n",
       "      <td>8.340000</td>\n",
       "    </tr>\n",
       "    <tr>\n",
       "      <th>TRY</th>\n",
       "      <td>1.970000</td>\n",
       "    </tr>\n",
       "    <tr>\n",
       "      <th>TWD</th>\n",
       "      <td>9.740000</td>\n",
       "    </tr>\n",
       "    <tr>\n",
       "      <th>UAH</th>\n",
       "      <td>5.640000</td>\n",
       "    </tr>\n",
       "    <tr>\n",
       "      <th>USD</th>\n",
       "      <td>8.990000</td>\n",
       "    </tr>\n",
       "    <tr>\n",
       "      <th>UYU</th>\n",
       "      <td>8.990000</td>\n",
       "    </tr>\n",
       "    <tr>\n",
       "      <th>VEF</th>\n",
       "      <td>7.990000</td>\n",
       "    </tr>\n",
       "    <tr>\n",
       "      <th>ZAR</th>\n",
       "      <td>6.260000</td>\n",
       "    </tr>\n",
       "  </tbody>\n",
       "</table>\n",
       "</div>"
      ],
      "text/plain": [
       "      mean_value_basic\n",
       "Code                  \n",
       "ARS           3.740000\n",
       "AUD           7.840000\n",
       "BGN           9.030000\n",
       "BOB           7.990000\n",
       "BRL           4.610000\n",
       "CAD           7.910000\n",
       "CHF          12.880000\n",
       "CLP           7.070000\n",
       "COP           4.310000\n",
       "CRC           8.990000\n",
       "CZK           8.830000\n",
       "DKK          12.000000\n",
       "ECS           7.990000\n",
       "EEK           9.030000\n",
       "EUR           9.203846\n",
       "GBP           7.910000\n",
       "GIP           9.030000\n",
       "GTQ           7.990000\n",
       "HKD           8.080000\n",
       "HNL           7.990000\n",
       "HRK           9.030000\n",
       "HUF           7.640000\n",
       "IDR           8.360000\n",
       "ILS          10.560000\n",
       "INR           2.640000\n",
       "ISK           9.030000\n",
       "JPY           8.730000\n",
       "KRW           8.070000\n",
       "LTL           9.030000\n",
       "LVL           9.030000\n",
       "MDL           9.030000\n",
       "MXN           6.620000\n",
       "MYR           8.290000\n",
       "NOK           9.940000\n",
       "NZD           8.800000\n",
       "PEN           6.110000\n",
       "PHP           7.350000\n",
       "PLN           7.130000\n",
       "PYG           8.290000\n",
       "RON           9.030000\n",
       "RUB           8.130000\n",
       "SEK          10.900000\n",
       "SGD           9.510000\n",
       "SKK           9.030000\n",
       "THB           8.340000\n",
       "TRY           1.970000\n",
       "TWD           9.740000\n",
       "UAH           5.640000\n",
       "USD           8.990000\n",
       "UYU           8.990000\n",
       "VEF           7.990000\n",
       "ZAR           6.260000"
      ]
     },
     "execution_count": 421,
     "metadata": {},
     "output_type": "execute_result"
    }
   ],
   "source": [
    "groupped_basic"
   ]
  },
  {
   "cell_type": "code",
   "execution_count": 427,
   "metadata": {
    "ExecuteTime": {
     "end_time": "2022-02-01T19:26:20.839795Z",
     "start_time": "2022-02-01T19:26:20.297247Z"
    }
   },
   "outputs": [
    {
     "data": {
      "image/png": "[encoded data removed]",
      "text/plain": [
       "<Figure size 720x720 with 1 Axes>"
      ]
     },
     "metadata": {
      "needs_background": "light"
     },
     "output_type": "display_data"
    }
   ],
   "source": [
    "groupped_premium = df[['Cost Per Month - Premium ($)', 'Code']].groupby(by='Code')\\\n",
    "                                                               .agg(mean_value_premium=('Cost Per Month - Premium ($)',\n",
    "                                                                                        'mean'))\n",
    "groupped_premium.plot.bar(figsize=(10,10))\n",
    "plt.show()"
   ]
  },
  {
   "cell_type": "code",
   "execution_count": 418,
   "metadata": {
    "ExecuteTime": {
     "end_time": "2022-02-01T19:21:55.545406Z",
     "start_time": "2022-02-01T19:21:55.536430Z"
    },
    "scrolled": true
   },
   "outputs": [
    {
     "data": {
      "text/html": [
       "<div>\n",
       "<style scoped>\n",
       "    .dataframe tbody tr th:only-of-type {\n",
       "        vertical-align: middle;\n",
       "    }\n",
       "\n",
       "    .dataframe tbody tr th {\n",
       "        vertical-align: top;\n",
       "    }\n",
       "\n",
       "    .dataframe thead th {\n",
       "        text-align: right;\n",
       "    }\n",
       "</style>\n",
       "<table border=\"1\" class=\"dataframe\">\n",
       "  <thead>\n",
       "    <tr style=\"text-align: right;\">\n",
       "      <th></th>\n",
       "      <th>mean_value_premium</th>\n",
       "    </tr>\n",
       "    <tr>\n",
       "      <th>Code</th>\n",
       "      <th></th>\n",
       "    </tr>\n",
       "  </thead>\n",
       "  <tbody>\n",
       "    <tr>\n",
       "      <th>ARS</th>\n",
       "      <td>9.260000</td>\n",
       "    </tr>\n",
       "    <tr>\n",
       "      <th>AUD</th>\n",
       "      <td>16.390000</td>\n",
       "    </tr>\n",
       "    <tr>\n",
       "      <th>BGN</th>\n",
       "      <td>13.540000</td>\n",
       "    </tr>\n",
       "    <tr>\n",
       "      <th>BOB</th>\n",
       "      <td>13.990000</td>\n",
       "    </tr>\n",
       "    <tr>\n",
       "      <th>BRL</th>\n",
       "      <td>9.960000</td>\n",
       "    </tr>\n",
       "    <tr>\n",
       "      <th>CAD</th>\n",
       "      <td>15.030000</td>\n",
       "    </tr>\n",
       "    <tr>\n",
       "      <th>CHF</th>\n",
       "      <td>26.960000</td>\n",
       "    </tr>\n",
       "    <tr>\n",
       "      <th>CLP</th>\n",
       "      <td>12.740000</td>\n",
       "    </tr>\n",
       "    <tr>\n",
       "      <th>COP</th>\n",
       "      <td>9.930000</td>\n",
       "    </tr>\n",
       "    <tr>\n",
       "      <th>CRC</th>\n",
       "      <td>15.990000</td>\n",
       "    </tr>\n",
       "    <tr>\n",
       "      <th>CZK</th>\n",
       "      <td>14.150000</td>\n",
       "    </tr>\n",
       "    <tr>\n",
       "      <th>DKK</th>\n",
       "      <td>19.600000</td>\n",
       "    </tr>\n",
       "    <tr>\n",
       "      <th>ECS</th>\n",
       "      <td>13.990000</td>\n",
       "    </tr>\n",
       "    <tr>\n",
       "      <th>EEK</th>\n",
       "      <td>13.540000</td>\n",
       "    </tr>\n",
       "    <tr>\n",
       "      <th>EUR</th>\n",
       "      <td>19.276923</td>\n",
       "    </tr>\n",
       "    <tr>\n",
       "      <th>GBP</th>\n",
       "      <td>18.480000</td>\n",
       "    </tr>\n",
       "    <tr>\n",
       "      <th>GIP</th>\n",
       "      <td>20.320000</td>\n",
       "    </tr>\n",
       "    <tr>\n",
       "      <th>GTQ</th>\n",
       "      <td>13.990000</td>\n",
       "    </tr>\n",
       "    <tr>\n",
       "      <th>HKD</th>\n",
       "      <td>11.930000</td>\n",
       "    </tr>\n",
       "    <tr>\n",
       "      <th>HNL</th>\n",
       "      <td>13.990000</td>\n",
       "    </tr>\n",
       "    <tr>\n",
       "      <th>HRK</th>\n",
       "      <td>13.540000</td>\n",
       "    </tr>\n",
       "    <tr>\n",
       "      <th>HUF</th>\n",
       "      <td>13.780000</td>\n",
       "    </tr>\n",
       "    <tr>\n",
       "      <th>IDR</th>\n",
       "      <td>12.960000</td>\n",
       "    </tr>\n",
       "    <tr>\n",
       "      <th>ILS</th>\n",
       "      <td>19.540000</td>\n",
       "    </tr>\n",
       "    <tr>\n",
       "      <th>INR</th>\n",
       "      <td>8.600000</td>\n",
       "    </tr>\n",
       "    <tr>\n",
       "      <th>ISK</th>\n",
       "      <td>20.320000</td>\n",
       "    </tr>\n",
       "    <tr>\n",
       "      <th>JPY</th>\n",
       "      <td>17.450000</td>\n",
       "    </tr>\n",
       "    <tr>\n",
       "      <th>KRW</th>\n",
       "      <td>14.450000</td>\n",
       "    </tr>\n",
       "    <tr>\n",
       "      <th>LTL</th>\n",
       "      <td>13.540000</td>\n",
       "    </tr>\n",
       "    <tr>\n",
       "      <th>LVL</th>\n",
       "      <td>13.540000</td>\n",
       "    </tr>\n",
       "    <tr>\n",
       "      <th>MDL</th>\n",
       "      <td>13.540000</td>\n",
       "    </tr>\n",
       "    <tr>\n",
       "      <th>MXN</th>\n",
       "      <td>14.240000</td>\n",
       "    </tr>\n",
       "    <tr>\n",
       "      <th>MYR</th>\n",
       "      <td>13.020000</td>\n",
       "    </tr>\n",
       "    <tr>\n",
       "      <th>NOK</th>\n",
       "      <td>17.750000</td>\n",
       "    </tr>\n",
       "    <tr>\n",
       "      <th>NZD</th>\n",
       "      <td>16.940000</td>\n",
       "    </tr>\n",
       "    <tr>\n",
       "      <th>PEN</th>\n",
       "      <td>11.010000</td>\n",
       "    </tr>\n",
       "    <tr>\n",
       "      <th>PHP</th>\n",
       "      <td>10.930000</td>\n",
       "    </tr>\n",
       "    <tr>\n",
       "      <th>PLN</th>\n",
       "      <td>14.760000</td>\n",
       "    </tr>\n",
       "    <tr>\n",
       "      <th>PYG</th>\n",
       "      <td>14.690000</td>\n",
       "    </tr>\n",
       "    <tr>\n",
       "      <th>RON</th>\n",
       "      <td>13.540000</td>\n",
       "    </tr>\n",
       "    <tr>\n",
       "      <th>RUB</th>\n",
       "      <td>13.560000</td>\n",
       "    </tr>\n",
       "    <tr>\n",
       "      <th>SEK</th>\n",
       "      <td>19.700000</td>\n",
       "    </tr>\n",
       "    <tr>\n",
       "      <th>SGD</th>\n",
       "      <td>16.110000</td>\n",
       "    </tr>\n",
       "    <tr>\n",
       "      <th>SKK</th>\n",
       "      <td>13.540000</td>\n",
       "    </tr>\n",
       "    <tr>\n",
       "      <th>THB</th>\n",
       "      <td>12.520000</td>\n",
       "    </tr>\n",
       "    <tr>\n",
       "      <th>TRY</th>\n",
       "      <td>4.020000</td>\n",
       "    </tr>\n",
       "    <tr>\n",
       "      <th>TWD</th>\n",
       "      <td>14.070000</td>\n",
       "    </tr>\n",
       "    <tr>\n",
       "      <th>UAH</th>\n",
       "      <td>11.290000</td>\n",
       "    </tr>\n",
       "    <tr>\n",
       "      <th>USD</th>\n",
       "      <td>17.990000</td>\n",
       "    </tr>\n",
       "    <tr>\n",
       "      <th>UYU</th>\n",
       "      <td>15.990000</td>\n",
       "    </tr>\n",
       "    <tr>\n",
       "      <th>VEF</th>\n",
       "      <td>13.990000</td>\n",
       "    </tr>\n",
       "    <tr>\n",
       "      <th>ZAR</th>\n",
       "      <td>12.580000</td>\n",
       "    </tr>\n",
       "  </tbody>\n",
       "</table>\n",
       "</div>"
      ],
      "text/plain": [
       "      mean_value_premium\n",
       "Code                    \n",
       "ARS             9.260000\n",
       "AUD            16.390000\n",
       "BGN            13.540000\n",
       "BOB            13.990000\n",
       "BRL             9.960000\n",
       "CAD            15.030000\n",
       "CHF            26.960000\n",
       "CLP            12.740000\n",
       "COP             9.930000\n",
       "CRC            15.990000\n",
       "CZK            14.150000\n",
       "DKK            19.600000\n",
       "ECS            13.990000\n",
       "EEK            13.540000\n",
       "EUR            19.276923\n",
       "GBP            18.480000\n",
       "GIP            20.320000\n",
       "GTQ            13.990000\n",
       "HKD            11.930000\n",
       "HNL            13.990000\n",
       "HRK            13.540000\n",
       "HUF            13.780000\n",
       "IDR            12.960000\n",
       "ILS            19.540000\n",
       "INR             8.600000\n",
       "ISK            20.320000\n",
       "JPY            17.450000\n",
       "KRW            14.450000\n",
       "LTL            13.540000\n",
       "LVL            13.540000\n",
       "MDL            13.540000\n",
       "MXN            14.240000\n",
       "MYR            13.020000\n",
       "NOK            17.750000\n",
       "NZD            16.940000\n",
       "PEN            11.010000\n",
       "PHP            10.930000\n",
       "PLN            14.760000\n",
       "PYG            14.690000\n",
       "RON            13.540000\n",
       "RUB            13.560000\n",
       "SEK            19.700000\n",
       "SGD            16.110000\n",
       "SKK            13.540000\n",
       "THB            12.520000\n",
       "TRY             4.020000\n",
       "TWD            14.070000\n",
       "UAH            11.290000\n",
       "USD            17.990000\n",
       "UYU            15.990000\n",
       "VEF            13.990000\n",
       "ZAR            12.580000"
      ]
     },
     "execution_count": 418,
     "metadata": {},
     "output_type": "execute_result"
    }
   ],
   "source": [
    "groupped_premium"
   ]
  },
  {
   "cell_type": "code",
   "execution_count": 428,
   "metadata": {
    "ExecuteTime": {
     "end_time": "2022-02-01T19:26:24.195547Z",
     "start_time": "2022-02-01T19:26:23.578197Z"
    },
    "scrolled": false
   },
   "outputs": [
    {
     "data": {
      "image/png": "[encoded data removed]",
      "text/plain": [
       "<Figure size 720x720 with 1 Axes>"
      ]
     },
     "metadata": {
      "needs_background": "light"
     },
     "output_type": "display_data"
    }
   ],
   "source": [
    "groupped_standard = df[['Cost Per Month - Standard ($)', 'Code']].groupby(by='Code').agg(mean_value_standard=\\\n",
    "                                                                                    ('Cost Per Month - Standard ($)',\n",
    "                                                                                     'mean'))\n",
    "groupped_standard.plot.bar(figsize=(10,10))\n",
    "plt.show()"
   ]
  },
  {
   "cell_type": "code",
   "execution_count": 424,
   "metadata": {
    "ExecuteTime": {
     "end_time": "2022-02-01T19:25:28.791701Z",
     "start_time": "2022-02-01T19:25:28.768766Z"
    },
    "scrolled": true
   },
   "outputs": [
    {
     "data": {
      "text/html": [
       "<div>\n",
       "<style scoped>\n",
       "    .dataframe tbody tr th:only-of-type {\n",
       "        vertical-align: middle;\n",
       "    }\n",
       "\n",
       "    .dataframe tbody tr th {\n",
       "        vertical-align: top;\n",
       "    }\n",
       "\n",
       "    .dataframe thead th {\n",
       "        text-align: right;\n",
       "    }\n",
       "</style>\n",
       "<table border=\"1\" class=\"dataframe\">\n",
       "  <thead>\n",
       "    <tr style=\"text-align: right;\">\n",
       "      <th></th>\n",
       "      <th>mean_value_standard</th>\n",
       "    </tr>\n",
       "    <tr>\n",
       "      <th>Code</th>\n",
       "      <th></th>\n",
       "    </tr>\n",
       "  </thead>\n",
       "  <tbody>\n",
       "    <tr>\n",
       "      <th>ARS</th>\n",
       "      <td>6.300000</td>\n",
       "    </tr>\n",
       "    <tr>\n",
       "      <th>AUD</th>\n",
       "      <td>12.120000</td>\n",
       "    </tr>\n",
       "    <tr>\n",
       "      <th>BGN</th>\n",
       "      <td>11.290000</td>\n",
       "    </tr>\n",
       "    <tr>\n",
       "      <th>BOB</th>\n",
       "      <td>10.990000</td>\n",
       "    </tr>\n",
       "    <tr>\n",
       "      <th>BRL</th>\n",
       "      <td>7.110000</td>\n",
       "    </tr>\n",
       "    <tr>\n",
       "      <th>CAD</th>\n",
       "      <td>11.870000</td>\n",
       "    </tr>\n",
       "    <tr>\n",
       "      <th>CHF</th>\n",
       "      <td>20.460000</td>\n",
       "    </tr>\n",
       "    <tr>\n",
       "      <th>CLP</th>\n",
       "      <td>9.910000</td>\n",
       "    </tr>\n",
       "    <tr>\n",
       "      <th>COP</th>\n",
       "      <td>6.860000</td>\n",
       "    </tr>\n",
       "    <tr>\n",
       "      <th>CRC</th>\n",
       "      <td>12.990000</td>\n",
       "    </tr>\n",
       "    <tr>\n",
       "      <th>CZK</th>\n",
       "      <td>11.490000</td>\n",
       "    </tr>\n",
       "    <tr>\n",
       "      <th>DKK</th>\n",
       "      <td>15.040000</td>\n",
       "    </tr>\n",
       "    <tr>\n",
       "      <th>ECS</th>\n",
       "      <td>10.990000</td>\n",
       "    </tr>\n",
       "    <tr>\n",
       "      <th>EEK</th>\n",
       "      <td>11.290000</td>\n",
       "    </tr>\n",
       "    <tr>\n",
       "      <th>EUR</th>\n",
       "      <td>14.236923</td>\n",
       "    </tr>\n",
       "    <tr>\n",
       "      <th>GBP</th>\n",
       "      <td>13.200000</td>\n",
       "    </tr>\n",
       "    <tr>\n",
       "      <th>GIP</th>\n",
       "      <td>14.670000</td>\n",
       "    </tr>\n",
       "    <tr>\n",
       "      <th>GTQ</th>\n",
       "      <td>10.990000</td>\n",
       "    </tr>\n",
       "    <tr>\n",
       "      <th>HKD</th>\n",
       "      <td>10.000000</td>\n",
       "    </tr>\n",
       "    <tr>\n",
       "      <th>HNL</th>\n",
       "      <td>10.990000</td>\n",
       "    </tr>\n",
       "    <tr>\n",
       "      <th>HRK</th>\n",
       "      <td>11.290000</td>\n",
       "    </tr>\n",
       "    <tr>\n",
       "      <th>HUF</th>\n",
       "      <td>10.710000</td>\n",
       "    </tr>\n",
       "    <tr>\n",
       "      <th>IDR</th>\n",
       "      <td>10.660000</td>\n",
       "    </tr>\n",
       "    <tr>\n",
       "      <th>ILS</th>\n",
       "      <td>15.050000</td>\n",
       "    </tr>\n",
       "    <tr>\n",
       "      <th>INR</th>\n",
       "      <td>6.610000</td>\n",
       "    </tr>\n",
       "    <tr>\n",
       "      <th>ISK</th>\n",
       "      <td>14.670000</td>\n",
       "    </tr>\n",
       "    <tr>\n",
       "      <th>JPY</th>\n",
       "      <td>13.130000</td>\n",
       "    </tr>\n",
       "    <tr>\n",
       "      <th>KRW</th>\n",
       "      <td>11.470000</td>\n",
       "    </tr>\n",
       "    <tr>\n",
       "      <th>LTL</th>\n",
       "      <td>11.290000</td>\n",
       "    </tr>\n",
       "    <tr>\n",
       "      <th>LVL</th>\n",
       "      <td>11.290000</td>\n",
       "    </tr>\n",
       "    <tr>\n",
       "      <th>MDL</th>\n",
       "      <td>11.290000</td>\n",
       "    </tr>\n",
       "    <tr>\n",
       "      <th>MXN</th>\n",
       "      <td>10.430000</td>\n",
       "    </tr>\n",
       "    <tr>\n",
       "      <th>MYR</th>\n",
       "      <td>10.650000</td>\n",
       "    </tr>\n",
       "    <tr>\n",
       "      <th>NOK</th>\n",
       "      <td>12.170000</td>\n",
       "    </tr>\n",
       "    <tr>\n",
       "      <th>NZD</th>\n",
       "      <td>12.530000</td>\n",
       "    </tr>\n",
       "    <tr>\n",
       "      <th>PEN</th>\n",
       "      <td>8.560000</td>\n",
       "    </tr>\n",
       "    <tr>\n",
       "      <th>PHP</th>\n",
       "      <td>9.140000</td>\n",
       "    </tr>\n",
       "    <tr>\n",
       "      <th>PLN</th>\n",
       "      <td>10.580000</td>\n",
       "    </tr>\n",
       "    <tr>\n",
       "      <th>PYG</th>\n",
       "      <td>11.490000</td>\n",
       "    </tr>\n",
       "    <tr>\n",
       "      <th>RON</th>\n",
       "      <td>11.290000</td>\n",
       "    </tr>\n",
       "    <tr>\n",
       "      <th>RUB</th>\n",
       "      <td>10.840000</td>\n",
       "    </tr>\n",
       "    <tr>\n",
       "      <th>SEK</th>\n",
       "      <td>14.200000</td>\n",
       "    </tr>\n",
       "    <tr>\n",
       "      <th>SGD</th>\n",
       "      <td>12.810000</td>\n",
       "    </tr>\n",
       "    <tr>\n",
       "      <th>SKK</th>\n",
       "      <td>11.290000</td>\n",
       "    </tr>\n",
       "    <tr>\n",
       "      <th>THB</th>\n",
       "      <td>10.430000</td>\n",
       "    </tr>\n",
       "    <tr>\n",
       "      <th>TRY</th>\n",
       "      <td>3.000000</td>\n",
       "    </tr>\n",
       "    <tr>\n",
       "      <th>TWD</th>\n",
       "      <td>11.900000</td>\n",
       "    </tr>\n",
       "    <tr>\n",
       "      <th>UAH</th>\n",
       "      <td>8.460000</td>\n",
       "    </tr>\n",
       "    <tr>\n",
       "      <th>USD</th>\n",
       "      <td>13.990000</td>\n",
       "    </tr>\n",
       "    <tr>\n",
       "      <th>UYU</th>\n",
       "      <td>12.990000</td>\n",
       "    </tr>\n",
       "    <tr>\n",
       "      <th>VEF</th>\n",
       "      <td>10.990000</td>\n",
       "    </tr>\n",
       "    <tr>\n",
       "      <th>ZAR</th>\n",
       "      <td>10.050000</td>\n",
       "    </tr>\n",
       "  </tbody>\n",
       "</table>\n",
       "</div>"
      ],
      "text/plain": [
       "      mean_value_standard\n",
       "Code                     \n",
       "ARS              6.300000\n",
       "AUD             12.120000\n",
       "BGN             11.290000\n",
       "BOB             10.990000\n",
       "BRL              7.110000\n",
       "CAD             11.870000\n",
       "CHF             20.460000\n",
       "CLP              9.910000\n",
       "COP              6.860000\n",
       "CRC             12.990000\n",
       "CZK             11.490000\n",
       "DKK             15.040000\n",
       "ECS             10.990000\n",
       "EEK             11.290000\n",
       "EUR             14.236923\n",
       "GBP             13.200000\n",
       "GIP             14.670000\n",
       "GTQ             10.990000\n",
       "HKD             10.000000\n",
       "HNL             10.990000\n",
       "HRK             11.290000\n",
       "HUF             10.710000\n",
       "IDR             10.660000\n",
       "ILS             15.050000\n",
       "INR              6.610000\n",
       "ISK             14.670000\n",
       "JPY             13.130000\n",
       "KRW             11.470000\n",
       "LTL             11.290000\n",
       "LVL             11.290000\n",
       "MDL             11.290000\n",
       "MXN             10.430000\n",
       "MYR             10.650000\n",
       "NOK             12.170000\n",
       "NZD             12.530000\n",
       "PEN              8.560000\n",
       "PHP              9.140000\n",
       "PLN             10.580000\n",
       "PYG             11.490000\n",
       "RON             11.290000\n",
       "RUB             10.840000\n",
       "SEK             14.200000\n",
       "SGD             12.810000\n",
       "SKK             11.290000\n",
       "THB             10.430000\n",
       "TRY              3.000000\n",
       "TWD             11.900000\n",
       "UAH              8.460000\n",
       "USD             13.990000\n",
       "UYU             12.990000\n",
       "VEF             10.990000\n",
       "ZAR             10.050000"
      ]
     },
     "execution_count": 424,
     "metadata": {},
     "output_type": "execute_result"
    }
   ],
   "source": [
    "groupped_standard"
   ]
  },
  {
   "cell_type": "code",
   "execution_count": 426,
   "metadata": {
    "ExecuteTime": {
     "end_time": "2022-02-01T19:26:05.294147Z",
     "start_time": "2022-02-01T19:26:04.769297Z"
    },
    "scrolled": false
   },
   "outputs": [
    {
     "data": {
      "image/png": "[encoded data removed]",
      "text/plain": [
       "<Figure size 864x864 with 1 Axes>"
      ]
     },
     "metadata": {
      "needs_background": "light"
     },
     "output_type": "display_data"
    }
   ],
   "source": [
    "groupped_mean_price = df[['mean_price', 'Code']].groupby(by='Code').agg(mean_value_mean_price=('mean_price', 'mean'))\n",
    "groupped_mean_price.plot.bar(figsize=(12,12))\n",
    "plt.show()"
   ]
  },
  {
   "cell_type": "code",
   "execution_count": 431,
   "metadata": {
    "ExecuteTime": {
     "end_time": "2022-02-01T19:28:04.794189Z",
     "start_time": "2022-02-01T19:28:04.785207Z"
    },
    "scrolled": true
   },
   "outputs": [
    {
     "data": {
      "text/html": [
       "<div>\n",
       "<style scoped>\n",
       "    .dataframe tbody tr th:only-of-type {\n",
       "        vertical-align: middle;\n",
       "    }\n",
       "\n",
       "    .dataframe tbody tr th {\n",
       "        vertical-align: top;\n",
       "    }\n",
       "\n",
       "    .dataframe thead th {\n",
       "        text-align: right;\n",
       "    }\n",
       "</style>\n",
       "<table border=\"1\" class=\"dataframe\">\n",
       "  <thead>\n",
       "    <tr style=\"text-align: right;\">\n",
       "      <th></th>\n",
       "      <th>mean_value_mean_price</th>\n",
       "    </tr>\n",
       "    <tr>\n",
       "      <th>Code</th>\n",
       "      <th></th>\n",
       "    </tr>\n",
       "  </thead>\n",
       "  <tbody>\n",
       "    <tr>\n",
       "      <th>ARS</th>\n",
       "      <td>6.433333</td>\n",
       "    </tr>\n",
       "    <tr>\n",
       "      <th>AUD</th>\n",
       "      <td>12.116667</td>\n",
       "    </tr>\n",
       "    <tr>\n",
       "      <th>BGN</th>\n",
       "      <td>11.286667</td>\n",
       "    </tr>\n",
       "    <tr>\n",
       "      <th>BOB</th>\n",
       "      <td>10.990000</td>\n",
       "    </tr>\n",
       "    <tr>\n",
       "      <th>BRL</th>\n",
       "      <td>7.226667</td>\n",
       "    </tr>\n",
       "    <tr>\n",
       "      <th>CAD</th>\n",
       "      <td>11.603333</td>\n",
       "    </tr>\n",
       "    <tr>\n",
       "      <th>CHF</th>\n",
       "      <td>20.100000</td>\n",
       "    </tr>\n",
       "    <tr>\n",
       "      <th>CLP</th>\n",
       "      <td>9.906667</td>\n",
       "    </tr>\n",
       "    <tr>\n",
       "      <th>COP</th>\n",
       "      <td>7.033333</td>\n",
       "    </tr>\n",
       "    <tr>\n",
       "      <th>CRC</th>\n",
       "      <td>12.656667</td>\n",
       "    </tr>\n",
       "    <tr>\n",
       "      <th>CZK</th>\n",
       "      <td>11.490000</td>\n",
       "    </tr>\n",
       "    <tr>\n",
       "      <th>DKK</th>\n",
       "      <td>15.546667</td>\n",
       "    </tr>\n",
       "    <tr>\n",
       "      <th>ECS</th>\n",
       "      <td>10.990000</td>\n",
       "    </tr>\n",
       "    <tr>\n",
       "      <th>EEK</th>\n",
       "      <td>11.286667</td>\n",
       "    </tr>\n",
       "    <tr>\n",
       "      <th>EUR</th>\n",
       "      <td>14.239231</td>\n",
       "    </tr>\n",
       "    <tr>\n",
       "      <th>GBP</th>\n",
       "      <td>13.196667</td>\n",
       "    </tr>\n",
       "    <tr>\n",
       "      <th>GIP</th>\n",
       "      <td>14.673333</td>\n",
       "    </tr>\n",
       "    <tr>\n",
       "      <th>GTQ</th>\n",
       "      <td>10.990000</td>\n",
       "    </tr>\n",
       "    <tr>\n",
       "      <th>HKD</th>\n",
       "      <td>10.003333</td>\n",
       "    </tr>\n",
       "    <tr>\n",
       "      <th>HNL</th>\n",
       "      <td>10.990000</td>\n",
       "    </tr>\n",
       "    <tr>\n",
       "      <th>HRK</th>\n",
       "      <td>11.286667</td>\n",
       "    </tr>\n",
       "    <tr>\n",
       "      <th>HUF</th>\n",
       "      <td>10.710000</td>\n",
       "    </tr>\n",
       "    <tr>\n",
       "      <th>IDR</th>\n",
       "      <td>10.660000</td>\n",
       "    </tr>\n",
       "    <tr>\n",
       "      <th>ILS</th>\n",
       "      <td>15.050000</td>\n",
       "    </tr>\n",
       "    <tr>\n",
       "      <th>INR</th>\n",
       "      <td>5.950000</td>\n",
       "    </tr>\n",
       "    <tr>\n",
       "      <th>ISK</th>\n",
       "      <td>14.673333</td>\n",
       "    </tr>\n",
       "    <tr>\n",
       "      <th>JPY</th>\n",
       "      <td>13.103333</td>\n",
       "    </tr>\n",
       "    <tr>\n",
       "      <th>KRW</th>\n",
       "      <td>11.330000</td>\n",
       "    </tr>\n",
       "    <tr>\n",
       "      <th>LTL</th>\n",
       "      <td>11.286667</td>\n",
       "    </tr>\n",
       "    <tr>\n",
       "      <th>LVL</th>\n",
       "      <td>11.286667</td>\n",
       "    </tr>\n",
       "    <tr>\n",
       "      <th>MDL</th>\n",
       "      <td>11.286667</td>\n",
       "    </tr>\n",
       "    <tr>\n",
       "      <th>MXN</th>\n",
       "      <td>10.430000</td>\n",
       "    </tr>\n",
       "    <tr>\n",
       "      <th>MYR</th>\n",
       "      <td>10.653333</td>\n",
       "    </tr>\n",
       "    <tr>\n",
       "      <th>NOK</th>\n",
       "      <td>13.286667</td>\n",
       "    </tr>\n",
       "    <tr>\n",
       "      <th>NZD</th>\n",
       "      <td>12.756667</td>\n",
       "    </tr>\n",
       "    <tr>\n",
       "      <th>PEN</th>\n",
       "      <td>8.560000</td>\n",
       "    </tr>\n",
       "    <tr>\n",
       "      <th>PHP</th>\n",
       "      <td>9.140000</td>\n",
       "    </tr>\n",
       "    <tr>\n",
       "      <th>PLN</th>\n",
       "      <td>10.823333</td>\n",
       "    </tr>\n",
       "    <tr>\n",
       "      <th>PYG</th>\n",
       "      <td>11.490000</td>\n",
       "    </tr>\n",
       "    <tr>\n",
       "      <th>RON</th>\n",
       "      <td>11.286667</td>\n",
       "    </tr>\n",
       "    <tr>\n",
       "      <th>RUB</th>\n",
       "      <td>10.843333</td>\n",
       "    </tr>\n",
       "    <tr>\n",
       "      <th>SEK</th>\n",
       "      <td>14.933333</td>\n",
       "    </tr>\n",
       "    <tr>\n",
       "      <th>SGD</th>\n",
       "      <td>12.810000</td>\n",
       "    </tr>\n",
       "    <tr>\n",
       "      <th>SKK</th>\n",
       "      <td>11.286667</td>\n",
       "    </tr>\n",
       "    <tr>\n",
       "      <th>THB</th>\n",
       "      <td>10.430000</td>\n",
       "    </tr>\n",
       "    <tr>\n",
       "      <th>TRY</th>\n",
       "      <td>2.996667</td>\n",
       "    </tr>\n",
       "    <tr>\n",
       "      <th>TWD</th>\n",
       "      <td>11.903333</td>\n",
       "    </tr>\n",
       "    <tr>\n",
       "      <th>UAH</th>\n",
       "      <td>8.463333</td>\n",
       "    </tr>\n",
       "    <tr>\n",
       "      <th>USD</th>\n",
       "      <td>13.656667</td>\n",
       "    </tr>\n",
       "    <tr>\n",
       "      <th>UYU</th>\n",
       "      <td>12.656667</td>\n",
       "    </tr>\n",
       "    <tr>\n",
       "      <th>VEF</th>\n",
       "      <td>10.990000</td>\n",
       "    </tr>\n",
       "    <tr>\n",
       "      <th>ZAR</th>\n",
       "      <td>9.630000</td>\n",
       "    </tr>\n",
       "  </tbody>\n",
       "</table>\n",
       "</div>"
      ],
      "text/plain": [
       "      mean_value_mean_price\n",
       "Code                       \n",
       "ARS                6.433333\n",
       "AUD               12.116667\n",
       "BGN               11.286667\n",
       "BOB               10.990000\n",
       "BRL                7.226667\n",
       "CAD               11.603333\n",
       "CHF               20.100000\n",
       "CLP                9.906667\n",
       "COP                7.033333\n",
       "CRC               12.656667\n",
       "CZK               11.490000\n",
       "DKK               15.546667\n",
       "ECS               10.990000\n",
       "EEK               11.286667\n",
       "EUR               14.239231\n",
       "GBP               13.196667\n",
       "GIP               14.673333\n",
       "GTQ               10.990000\n",
       "HKD               10.003333\n",
       "HNL               10.990000\n",
       "HRK               11.286667\n",
       "HUF               10.710000\n",
       "IDR               10.660000\n",
       "ILS               15.050000\n",
       "INR                5.950000\n",
       "ISK               14.673333\n",
       "JPY               13.103333\n",
       "KRW               11.330000\n",
       "LTL               11.286667\n",
       "LVL               11.286667\n",
       "MDL               11.286667\n",
       "MXN               10.430000\n",
       "MYR               10.653333\n",
       "NOK               13.286667\n",
       "NZD               12.756667\n",
       "PEN                8.560000\n",
       "PHP                9.140000\n",
       "PLN               10.823333\n",
       "PYG               11.490000\n",
       "RON               11.286667\n",
       "RUB               10.843333\n",
       "SEK               14.933333\n",
       "SGD               12.810000\n",
       "SKK               11.286667\n",
       "THB               10.430000\n",
       "TRY                2.996667\n",
       "TWD               11.903333\n",
       "UAH                8.463333\n",
       "USD               13.656667\n",
       "UYU               12.656667\n",
       "VEF               10.990000\n",
       "ZAR                9.630000"
      ]
     },
     "execution_count": 431,
     "metadata": {},
     "output_type": "execute_result"
    }
   ],
   "source": [
    "groupped_mean_price"
   ]
  },
  {
   "cell_type": "markdown",
   "metadata": {},
   "source": [
    "#### Зависимость от континента"
   ]
  },
  {
   "cell_type": "code",
   "execution_count": 434,
   "metadata": {
    "ExecuteTime": {
     "end_time": "2022-02-01T19:30:09.372190Z",
     "start_time": "2022-02-01T19:30:09.233975Z"
    }
   },
   "outputs": [
    {
     "data": {
      "image/png": "[encoded data removed]",
      "text/plain": [
       "<Figure size 864x864 with 1 Axes>"
      ]
     },
     "metadata": {
      "needs_background": "light"
     },
     "output_type": "display_data"
    }
   ],
   "source": [
    "groupped_mean_price_by_continent = df[['mean_price', 'Continent_name']].groupby(by='Continent_name')\\\n",
    "                                                          .agg(mean_value_mean_price=('mean_price', 'mean'))\n",
    "groupped_mean_price_by_continent.plot.bar(figsize=(12,12), color='r')\n",
    "plt.show()"
   ]
  },
  {
   "cell_type": "markdown",
   "metadata": {},
   "source": [
    "#### Стоимость подписки относительно среднего дохода за месяц в Чехии "
   ]
  },
  {
   "cell_type": "markdown",
   "metadata": {},
   "source": [
    "##### Standard"
   ]
  },
  {
   "cell_type": "code",
   "execution_count": 445,
   "metadata": {
    "ExecuteTime": {
     "end_time": "2022-02-01T19:38:25.727866Z",
     "start_time": "2022-02-01T19:38:25.713875Z"
    }
   },
   "outputs": [
    {
     "data": {
      "text/plain": [
       "12    0.006922\n",
       "dtype: float64"
      ]
     },
     "execution_count": 445,
     "metadata": {},
     "output_type": "execute_result"
    }
   ],
   "source": [
    "df[df['Country_code'] == 'CZ']['Cost Per Month - Standard ($)'] / df[df['Country_code'] == 'CZ']['avg_wage']"
   ]
  },
  {
   "cell_type": "markdown",
   "metadata": {},
   "source": [
    "##### Basic"
   ]
  },
  {
   "cell_type": "code",
   "execution_count": 446,
   "metadata": {
    "ExecuteTime": {
     "end_time": "2022-02-01T19:38:36.038525Z",
     "start_time": "2022-02-01T19:38:36.017580Z"
    }
   },
   "outputs": [
    {
     "data": {
      "text/plain": [
       "12    0.00532\n",
       "dtype: float64"
      ]
     },
     "execution_count": 446,
     "metadata": {},
     "output_type": "execute_result"
    }
   ],
   "source": [
    "df[df['Country_code'] == 'CZ']['Cost Per Month - Basic ($)'] / df[df['Country_code'] == 'CZ']['avg_wage']"
   ]
  },
  {
   "cell_type": "markdown",
   "metadata": {},
   "source": [
    "##### Premium"
   ]
  },
  {
   "cell_type": "code",
   "execution_count": 447,
   "metadata": {
    "ExecuteTime": {
     "end_time": "2022-02-01T19:38:43.595496Z",
     "start_time": "2022-02-01T19:38:43.586520Z"
    }
   },
   "outputs": [
    {
     "data": {
      "text/plain": [
       "12    0.008525\n",
       "dtype: float64"
      ]
     },
     "execution_count": 447,
     "metadata": {},
     "output_type": "execute_result"
    }
   ],
   "source": [
    "df[df['Country_code'] == 'CZ']['Cost Per Month - Premium ($)'] / df[df['Country_code'] == 'CZ']['avg_wage']"
   ]
  },
  {
   "cell_type": "markdown",
   "metadata": {},
   "source": [
    "#### Какие топ-5 стран имеют самую большую доступную коллекцию сериалов"
   ]
  },
  {
   "cell_type": "code",
   "execution_count": 448,
   "metadata": {
    "ExecuteTime": {
     "end_time": "2022-02-01T19:39:33.527301Z",
     "start_time": "2022-02-01T19:39:33.507328Z"
    }
   },
   "outputs": [
    {
     "data": {
      "text/html": [
       "<div>\n",
       "<style scoped>\n",
       "    .dataframe tbody tr th:only-of-type {\n",
       "        vertical-align: middle;\n",
       "    }\n",
       "\n",
       "    .dataframe tbody tr th {\n",
       "        vertical-align: top;\n",
       "    }\n",
       "\n",
       "    .dataframe thead th {\n",
       "        text-align: right;\n",
       "    }\n",
       "</style>\n",
       "<table border=\"1\" class=\"dataframe\">\n",
       "  <thead>\n",
       "    <tr style=\"text-align: right;\">\n",
       "      <th></th>\n",
       "      <th>Country_code</th>\n",
       "      <th>Country</th>\n",
       "      <th>Total Library Size</th>\n",
       "      <th>No. of TV Shows</th>\n",
       "      <th>No. of Movies</th>\n",
       "      <th>Cost Per Month - Basic ($)</th>\n",
       "      <th>Cost Per Month - Standard ($)</th>\n",
       "      <th>Cost Per Month - Premium ($)</th>\n",
       "      <th>CountryCode</th>\n",
       "      <th>Currency</th>\n",
       "      <th>Code</th>\n",
       "      <th>avg_wage</th>\n",
       "      <th>Continent_code</th>\n",
       "      <th>Continent_name</th>\n",
       "      <th>mean_price</th>\n",
       "    </tr>\n",
       "  </thead>\n",
       "  <tbody>\n",
       "    <tr>\n",
       "      <th>0</th>\n",
       "      <td>AR</td>\n",
       "      <td>Argentina</td>\n",
       "      <td>4760</td>\n",
       "      <td>3154</td>\n",
       "      <td>1606</td>\n",
       "      <td>3.74</td>\n",
       "      <td>6.30</td>\n",
       "      <td>9.26</td>\n",
       "      <td>AR</td>\n",
       "      <td>Peso</td>\n",
       "      <td>ARS</td>\n",
       "      <td>514.35</td>\n",
       "      <td>SA</td>\n",
       "      <td>South America</td>\n",
       "      <td>6.433333</td>\n",
       "    </tr>\n",
       "    <tr>\n",
       "      <th>1</th>\n",
       "      <td>AU</td>\n",
       "      <td>Australia</td>\n",
       "      <td>6114</td>\n",
       "      <td>4050</td>\n",
       "      <td>2064</td>\n",
       "      <td>7.84</td>\n",
       "      <td>12.12</td>\n",
       "      <td>16.39</td>\n",
       "      <td>AU</td>\n",
       "      <td>Australian Dollars</td>\n",
       "      <td>AUD</td>\n",
       "      <td>4467.33</td>\n",
       "      <td>OC</td>\n",
       "      <td>Australia</td>\n",
       "      <td>12.116667</td>\n",
       "    </tr>\n",
       "    <tr>\n",
       "      <th>2</th>\n",
       "      <td>AT</td>\n",
       "      <td>Austria</td>\n",
       "      <td>5640</td>\n",
       "      <td>3779</td>\n",
       "      <td>1861</td>\n",
       "      <td>9.03</td>\n",
       "      <td>14.67</td>\n",
       "      <td>20.32</td>\n",
       "      <td>AT</td>\n",
       "      <td>Euros</td>\n",
       "      <td>EUR</td>\n",
       "      <td>3187.14</td>\n",
       "      <td>EU</td>\n",
       "      <td>Europe</td>\n",
       "      <td>14.673333</td>\n",
       "    </tr>\n",
       "    <tr>\n",
       "      <th>3</th>\n",
       "      <td>BE</td>\n",
       "      <td>Belgium</td>\n",
       "      <td>4990</td>\n",
       "      <td>3374</td>\n",
       "      <td>1616</td>\n",
       "      <td>10.16</td>\n",
       "      <td>15.24</td>\n",
       "      <td>20.32</td>\n",
       "      <td>BE</td>\n",
       "      <td>Euros</td>\n",
       "      <td>EUR</td>\n",
       "      <td>3793.23</td>\n",
       "      <td>EU</td>\n",
       "      <td>Europe</td>\n",
       "      <td>15.240000</td>\n",
       "    </tr>\n",
       "    <tr>\n",
       "      <th>4</th>\n",
       "      <td>BO</td>\n",
       "      <td>Bolivia</td>\n",
       "      <td>4991</td>\n",
       "      <td>3155</td>\n",
       "      <td>1836</td>\n",
       "      <td>7.99</td>\n",
       "      <td>10.99</td>\n",
       "      <td>13.99</td>\n",
       "      <td>BO</td>\n",
       "      <td>Boliviano</td>\n",
       "      <td>BOB</td>\n",
       "      <td>483.22</td>\n",
       "      <td>SA</td>\n",
       "      <td>South America</td>\n",
       "      <td>10.990000</td>\n",
       "    </tr>\n",
       "  </tbody>\n",
       "</table>\n",
       "</div>"
      ],
      "text/plain": [
       "  Country_code    Country  Total Library Size  No. of TV Shows  No. of Movies  \\\n",
       "0           AR  Argentina                4760             3154           1606   \n",
       "1           AU  Australia                6114             4050           2064   \n",
       "2           AT    Austria                5640             3779           1861   \n",
       "3           BE    Belgium                4990             3374           1616   \n",
       "4           BO    Bolivia                4991             3155           1836   \n",
       "\n",
       "   Cost Per Month - Basic ($)  Cost Per Month - Standard ($)  \\\n",
       "0                        3.74                           6.30   \n",
       "1                        7.84                          12.12   \n",
       "2                        9.03                          14.67   \n",
       "3                       10.16                          15.24   \n",
       "4                        7.99                          10.99   \n",
       "\n",
       "   Cost Per Month - Premium ($) CountryCode            Currency Code  \\\n",
       "0                          9.26          AR                Peso  ARS   \n",
       "1                         16.39          AU  Australian Dollars  AUD   \n",
       "2                         20.32          AT               Euros  EUR   \n",
       "3                         20.32          BE               Euros  EUR   \n",
       "4                         13.99          BO           Boliviano  BOB   \n",
       "\n",
       "   avg_wage Continent_code Continent_name  mean_price  \n",
       "0    514.35             SA  South America    6.433333  \n",
       "1   4467.33             OC      Australia   12.116667  \n",
       "2   3187.14             EU         Europe   14.673333  \n",
       "3   3793.23             EU         Europe   15.240000  \n",
       "4    483.22             SA  South America   10.990000  "
      ]
     },
     "execution_count": 448,
     "metadata": {},
     "output_type": "execute_result"
    }
   ],
   "source": [
    "df.head()"
   ]
  },
  {
   "cell_type": "code",
   "execution_count": 456,
   "metadata": {
    "ExecuteTime": {
     "end_time": "2022-02-01T19:41:41.231235Z",
     "start_time": "2022-02-01T19:41:41.209266Z"
    }
   },
   "outputs": [
    {
     "data": {
      "text/html": [
       "<div>\n",
       "<style scoped>\n",
       "    .dataframe tbody tr th:only-of-type {\n",
       "        vertical-align: middle;\n",
       "    }\n",
       "\n",
       "    .dataframe tbody tr th {\n",
       "        vertical-align: top;\n",
       "    }\n",
       "\n",
       "    .dataframe thead th {\n",
       "        text-align: right;\n",
       "    }\n",
       "</style>\n",
       "<table border=\"1\" class=\"dataframe\">\n",
       "  <thead>\n",
       "    <tr style=\"text-align: right;\">\n",
       "      <th></th>\n",
       "      <th>Country</th>\n",
       "      <th>No. of TV Shows</th>\n",
       "    </tr>\n",
       "  </thead>\n",
       "  <tbody>\n",
       "    <tr>\n",
       "      <th>12</th>\n",
       "      <td>Czechia</td>\n",
       "      <td>5234</td>\n",
       "    </tr>\n",
       "    <tr>\n",
       "      <th>51</th>\n",
       "      <td>Slovakia</td>\n",
       "      <td>5055</td>\n",
       "    </tr>\n",
       "    <tr>\n",
       "      <th>6</th>\n",
       "      <td>Bulgaria</td>\n",
       "      <td>4819</td>\n",
       "    </tr>\n",
       "    <tr>\n",
       "      <th>24</th>\n",
       "      <td>Hungary</td>\n",
       "      <td>4802</td>\n",
       "    </tr>\n",
       "    <tr>\n",
       "      <th>61</th>\n",
       "      <td>United Kingdom</td>\n",
       "      <td>4551</td>\n",
       "    </tr>\n",
       "  </tbody>\n",
       "</table>\n",
       "</div>"
      ],
      "text/plain": [
       "           Country  No. of TV Shows\n",
       "12         Czechia             5234\n",
       "51        Slovakia             5055\n",
       "6         Bulgaria             4819\n",
       "24         Hungary             4802\n",
       "61  United Kingdom             4551"
      ]
     },
     "execution_count": 456,
     "metadata": {},
     "output_type": "execute_result"
    }
   ],
   "source": [
    "df.sort_values(by='No. of TV Shows', ascending=False)[['Country', 'No. of TV Shows']].head()"
   ]
  },
  {
   "cell_type": "markdown",
   "metadata": {},
   "source": [
    "#### Какой процент среднего дохода россиянина будет составлять подписка Netflix?"
   ]
  },
  {
   "cell_type": "markdown",
   "metadata": {},
   "source": [
    "Посчитаем для трех случаев отдельно"
   ]
  },
  {
   "cell_type": "markdown",
   "metadata": {},
   "source": [
    "#### Basic"
   ]
  },
  {
   "cell_type": "code",
   "execution_count": 481,
   "metadata": {
    "ExecuteTime": {
     "end_time": "2022-02-01T19:50:41.924279Z",
     "start_time": "2022-02-01T19:50:41.915304Z"
    }
   },
   "outputs": [
    {
     "name": "stdout",
     "output_type": "stream",
     "text": [
      "Процент среднего дохода 1.18%\n"
     ]
    }
   ],
   "source": [
    "percent_of_avg_wage_by_basic = (df[df['Country_code'] == 'RU']['Cost Per Month - Basic ($)'] / \\\n",
    "                                df[df['Country_code'] == 'RU']['avg_wage']).values[0]\n",
    "print(f'Процент среднего дохода для basic {percent_of_avg_wage_by_basic * 100:.2f}%')"
   ]
  },
  {
   "cell_type": "markdown",
   "metadata": {},
   "source": [
    "#### Standard"
   ]
  },
  {
   "cell_type": "code",
   "execution_count": 482,
   "metadata": {
    "ExecuteTime": {
     "end_time": "2022-02-01T19:51:26.185870Z",
     "start_time": "2022-02-01T19:51:26.178889Z"
    }
   },
   "outputs": [
    {
     "name": "stdout",
     "output_type": "stream",
     "text": [
      "Процент среднего дохода для standard 1.57%\n"
     ]
    }
   ],
   "source": [
    "percent_of_avg_wage_by_standard = (df[df['Country_code'] == 'RU']['Cost Per Month - Standard ($)'] / \\\n",
    "                                df[df['Country_code'] == 'RU']['avg_wage']).values[0]\n",
    "print(f'Процент среднего дохода для standard {percent_of_avg_wage_by_standard * 100:.2f}%')"
   ]
  },
  {
   "cell_type": "markdown",
   "metadata": {},
   "source": [
    "#### Premium"
   ]
  },
  {
   "cell_type": "code",
   "execution_count": 483,
   "metadata": {
    "ExecuteTime": {
     "end_time": "2022-02-01T19:52:00.637819Z",
     "start_time": "2022-02-01T19:52:00.618869Z"
    }
   },
   "outputs": [
    {
     "name": "stdout",
     "output_type": "stream",
     "text": [
      "Процент среднего дохода для premium 1.96%\n"
     ]
    }
   ],
   "source": [
    "percent_of_avg_wage_by_standard = (df[df['Country_code'] == 'RU']['Cost Per Month - Premium ($)'] / \\\n",
    "                                df[df['Country_code'] == 'RU']['avg_wage']).values[0]\n",
    "print(f'Процент среднего дохода для premium {percent_of_avg_wage_by_standard * 100:.2f}%')"
   ]
  },
  {
   "cell_type": "markdown",
   "metadata": {},
   "source": [
    "#### На каком месте будет Россия, если отсортировать страны по эффективности подписки (Cost Per Title)"
   ]
  },
  {
   "cell_type": "markdown",
   "metadata": {},
   "source": [
    "Сначала посчитаем cost per title"
   ]
  },
  {
   "cell_type": "code",
   "execution_count": 484,
   "metadata": {
    "ExecuteTime": {
     "end_time": "2022-02-01T19:56:06.186076Z",
     "start_time": "2022-02-01T19:56:06.170119Z"
    }
   },
   "outputs": [],
   "source": [
    "for col in ['Basic', 'Standard', 'Premium']:\n",
    "    df[f'cost_by_title_{col}'] = df[f'Cost Per Month - {col} ($)'] / df['Total Library Size']\n"
   ]
  },
  {
   "cell_type": "code",
   "execution_count": 486,
   "metadata": {
    "ExecuteTime": {
     "end_time": "2022-02-01T19:56:55.691033Z",
     "start_time": "2022-02-01T19:56:55.659149Z"
    },
    "scrolled": false
   },
   "outputs": [
    {
     "data": {
      "text/html": [
       "<div>\n",
       "<style scoped>\n",
       "    .dataframe tbody tr th:only-of-type {\n",
       "        vertical-align: middle;\n",
       "    }\n",
       "\n",
       "    .dataframe tbody tr th {\n",
       "        vertical-align: top;\n",
       "    }\n",
       "\n",
       "    .dataframe thead th {\n",
       "        text-align: right;\n",
       "    }\n",
       "</style>\n",
       "<table border=\"1\" class=\"dataframe\">\n",
       "  <thead>\n",
       "    <tr style=\"text-align: right;\">\n",
       "      <th></th>\n",
       "      <th>Country_code</th>\n",
       "      <th>Country</th>\n",
       "      <th>Total Library Size</th>\n",
       "      <th>No. of TV Shows</th>\n",
       "      <th>No. of Movies</th>\n",
       "      <th>Cost Per Month - Basic ($)</th>\n",
       "      <th>Cost Per Month - Standard ($)</th>\n",
       "      <th>Cost Per Month - Premium ($)</th>\n",
       "      <th>CountryCode</th>\n",
       "      <th>Currency</th>\n",
       "      <th>Code</th>\n",
       "      <th>avg_wage</th>\n",
       "      <th>Continent_code</th>\n",
       "      <th>Continent_name</th>\n",
       "      <th>mean_price</th>\n",
       "      <th>cost_by_title_Basic</th>\n",
       "      <th>cost_by_title_Standard</th>\n",
       "      <th>cost_by_title_Premium</th>\n",
       "    </tr>\n",
       "  </thead>\n",
       "  <tbody>\n",
       "    <tr>\n",
       "      <th>59</th>\n",
       "      <td>TR</td>\n",
       "      <td>Turkey</td>\n",
       "      <td>4639</td>\n",
       "      <td>2930</td>\n",
       "      <td>1709</td>\n",
       "      <td>1.97</td>\n",
       "      <td>3.00</td>\n",
       "      <td>4.02</td>\n",
       "      <td>TR</td>\n",
       "      <td>Lira</td>\n",
       "      <td>TRY</td>\n",
       "      <td>706.53</td>\n",
       "      <td>AS</td>\n",
       "      <td>Asia</td>\n",
       "      <td>2.996667</td>\n",
       "      <td>0.000425</td>\n",
       "      <td>0.000647</td>\n",
       "      <td>0.000867</td>\n",
       "    </tr>\n",
       "    <tr>\n",
       "      <th>26</th>\n",
       "      <td>IN</td>\n",
       "      <td>India</td>\n",
       "      <td>5843</td>\n",
       "      <td>3718</td>\n",
       "      <td>2125</td>\n",
       "      <td>2.64</td>\n",
       "      <td>6.61</td>\n",
       "      <td>8.60</td>\n",
       "      <td>IN</td>\n",
       "      <td>Indian Rupee</td>\n",
       "      <td>INR</td>\n",
       "      <td>222.53</td>\n",
       "      <td>AS</td>\n",
       "      <td>Asia</td>\n",
       "      <td>5.950000</td>\n",
       "      <td>0.000452</td>\n",
       "      <td>0.001131</td>\n",
       "      <td>0.001472</td>\n",
       "    </tr>\n",
       "    <tr>\n",
       "      <th>0</th>\n",
       "      <td>AR</td>\n",
       "      <td>Argentina</td>\n",
       "      <td>4760</td>\n",
       "      <td>3154</td>\n",
       "      <td>1606</td>\n",
       "      <td>3.74</td>\n",
       "      <td>6.30</td>\n",
       "      <td>9.26</td>\n",
       "      <td>AR</td>\n",
       "      <td>Peso</td>\n",
       "      <td>ARS</td>\n",
       "      <td>514.35</td>\n",
       "      <td>SA</td>\n",
       "      <td>South America</td>\n",
       "      <td>6.433333</td>\n",
       "      <td>0.000786</td>\n",
       "      <td>0.001324</td>\n",
       "      <td>0.001945</td>\n",
       "    </tr>\n",
       "    <tr>\n",
       "      <th>9</th>\n",
       "      <td>CO</td>\n",
       "      <td>Colombia</td>\n",
       "      <td>4991</td>\n",
       "      <td>3156</td>\n",
       "      <td>1835</td>\n",
       "      <td>4.31</td>\n",
       "      <td>6.86</td>\n",
       "      <td>9.93</td>\n",
       "      <td>CO</td>\n",
       "      <td>Peso</td>\n",
       "      <td>COP</td>\n",
       "      <td>398.07</td>\n",
       "      <td>SA</td>\n",
       "      <td>South America</td>\n",
       "      <td>7.033333</td>\n",
       "      <td>0.000864</td>\n",
       "      <td>0.001374</td>\n",
       "      <td>0.001990</td>\n",
       "    </tr>\n",
       "    <tr>\n",
       "      <th>5</th>\n",
       "      <td>BR</td>\n",
       "      <td>Brazil</td>\n",
       "      <td>4972</td>\n",
       "      <td>3162</td>\n",
       "      <td>1810</td>\n",
       "      <td>4.61</td>\n",
       "      <td>7.11</td>\n",
       "      <td>9.96</td>\n",
       "      <td>BR</td>\n",
       "      <td>Brazil</td>\n",
       "      <td>BRL</td>\n",
       "      <td>493.00</td>\n",
       "      <td>SA</td>\n",
       "      <td>South America</td>\n",
       "      <td>7.226667</td>\n",
       "      <td>0.000927</td>\n",
       "      <td>0.001430</td>\n",
       "      <td>0.002003</td>\n",
       "    </tr>\n",
       "    <tr>\n",
       "      <th>...</th>\n",
       "      <td>...</td>\n",
       "      <td>...</td>\n",
       "      <td>...</td>\n",
       "      <td>...</td>\n",
       "      <td>...</td>\n",
       "      <td>...</td>\n",
       "      <td>...</td>\n",
       "      <td>...</td>\n",
       "      <td>...</td>\n",
       "      <td>...</td>\n",
       "      <td>...</td>\n",
       "      <td>...</td>\n",
       "      <td>...</td>\n",
       "      <td>...</td>\n",
       "      <td>...</td>\n",
       "      <td>...</td>\n",
       "      <td>...</td>\n",
       "      <td>...</td>\n",
       "    </tr>\n",
       "    <tr>\n",
       "      <th>55</th>\n",
       "      <td>SE</td>\n",
       "      <td>Sweden</td>\n",
       "      <td>4361</td>\n",
       "      <td>2973</td>\n",
       "      <td>1388</td>\n",
       "      <td>10.90</td>\n",
       "      <td>14.20</td>\n",
       "      <td>19.70</td>\n",
       "      <td>SE</td>\n",
       "      <td>Krona</td>\n",
       "      <td>SEK</td>\n",
       "      <td>3919.52</td>\n",
       "      <td>EU</td>\n",
       "      <td>Europe</td>\n",
       "      <td>14.933333</td>\n",
       "      <td>0.002499</td>\n",
       "      <td>0.003256</td>\n",
       "      <td>0.004517</td>\n",
       "    </tr>\n",
       "    <tr>\n",
       "      <th>13</th>\n",
       "      <td>DK</td>\n",
       "      <td>Denmark</td>\n",
       "      <td>4558</td>\n",
       "      <td>2978</td>\n",
       "      <td>1580</td>\n",
       "      <td>12.00</td>\n",
       "      <td>15.04</td>\n",
       "      <td>19.60</td>\n",
       "      <td>DK</td>\n",
       "      <td>Danish Krone</td>\n",
       "      <td>DKK</td>\n",
       "      <td>5279.18</td>\n",
       "      <td>EU</td>\n",
       "      <td>Europe</td>\n",
       "      <td>15.546667</td>\n",
       "      <td>0.002633</td>\n",
       "      <td>0.003300</td>\n",
       "      <td>0.004300</td>\n",
       "    </tr>\n",
       "    <tr>\n",
       "      <th>49</th>\n",
       "      <td>SM</td>\n",
       "      <td>San Marino</td>\n",
       "      <td>2310</td>\n",
       "      <td>1937</td>\n",
       "      <td>373</td>\n",
       "      <td>9.03</td>\n",
       "      <td>14.67</td>\n",
       "      <td>20.32</td>\n",
       "      <td>SM</td>\n",
       "      <td>Euros</td>\n",
       "      <td>EUR</td>\n",
       "      <td>2340.36</td>\n",
       "      <td>EU</td>\n",
       "      <td>Europe</td>\n",
       "      <td>14.673333</td>\n",
       "      <td>0.003909</td>\n",
       "      <td>0.006351</td>\n",
       "      <td>0.008797</td>\n",
       "    </tr>\n",
       "    <tr>\n",
       "      <th>11</th>\n",
       "      <td>HR</td>\n",
       "      <td>Croatia</td>\n",
       "      <td>2274</td>\n",
       "      <td>1675</td>\n",
       "      <td>599</td>\n",
       "      <td>9.03</td>\n",
       "      <td>11.29</td>\n",
       "      <td>13.54</td>\n",
       "      <td>HR</td>\n",
       "      <td>Croatian Dinar</td>\n",
       "      <td>HRK</td>\n",
       "      <td>1393.37</td>\n",
       "      <td>EU</td>\n",
       "      <td>Europe</td>\n",
       "      <td>11.286667</td>\n",
       "      <td>0.003971</td>\n",
       "      <td>0.004965</td>\n",
       "      <td>0.005954</td>\n",
       "    </tr>\n",
       "    <tr>\n",
       "      <th>33</th>\n",
       "      <td>LI</td>\n",
       "      <td>Liechtenstein</td>\n",
       "      <td>3048</td>\n",
       "      <td>1712</td>\n",
       "      <td>1336</td>\n",
       "      <td>12.88</td>\n",
       "      <td>20.46</td>\n",
       "      <td>26.96</td>\n",
       "      <td>LI</td>\n",
       "      <td>Swiss Franc</td>\n",
       "      <td>CHF</td>\n",
       "      <td>5480.00</td>\n",
       "      <td>EU</td>\n",
       "      <td>Europe</td>\n",
       "      <td>20.100000</td>\n",
       "      <td>0.004226</td>\n",
       "      <td>0.006713</td>\n",
       "      <td>0.008845</td>\n",
       "    </tr>\n",
       "  </tbody>\n",
       "</table>\n",
       "<p>65 rows × 18 columns</p>\n",
       "</div>"
      ],
      "text/plain": [
       "   Country_code        Country  Total Library Size  No. of TV Shows  \\\n",
       "59           TR         Turkey                4639             2930   \n",
       "26           IN          India                5843             3718   \n",
       "0            AR      Argentina                4760             3154   \n",
       "9            CO       Colombia                4991             3156   \n",
       "5            BR         Brazil                4972             3162   \n",
       "..          ...            ...                 ...              ...   \n",
       "55           SE         Sweden                4361             2973   \n",
       "13           DK        Denmark                4558             2978   \n",
       "49           SM     San Marino                2310             1937   \n",
       "11           HR        Croatia                2274             1675   \n",
       "33           LI  Liechtenstein                3048             1712   \n",
       "\n",
       "    No. of Movies  Cost Per Month - Basic ($)  Cost Per Month - Standard ($)  \\\n",
       "59           1709                        1.97                           3.00   \n",
       "26           2125                        2.64                           6.61   \n",
       "0            1606                        3.74                           6.30   \n",
       "9            1835                        4.31                           6.86   \n",
       "5            1810                        4.61                           7.11   \n",
       "..            ...                         ...                            ...   \n",
       "55           1388                       10.90                          14.20   \n",
       "13           1580                       12.00                          15.04   \n",
       "49            373                        9.03                          14.67   \n",
       "11            599                        9.03                          11.29   \n",
       "33           1336                       12.88                          20.46   \n",
       "\n",
       "    Cost Per Month - Premium ($) CountryCode        Currency Code  avg_wage  \\\n",
       "59                          4.02          TR            Lira  TRY    706.53   \n",
       "26                          8.60          IN    Indian Rupee  INR    222.53   \n",
       "0                           9.26          AR            Peso  ARS    514.35   \n",
       "9                           9.93          CO            Peso  COP    398.07   \n",
       "5                           9.96          BR          Brazil  BRL    493.00   \n",
       "..                           ...         ...             ...  ...       ...   \n",
       "55                         19.70          SE           Krona  SEK   3919.52   \n",
       "13                         19.60          DK    Danish Krone  DKK   5279.18   \n",
       "49                         20.32          SM           Euros  EUR   2340.36   \n",
       "11                         13.54          HR  Croatian Dinar  HRK   1393.37   \n",
       "33                         26.96          LI     Swiss Franc  CHF   5480.00   \n",
       "\n",
       "   Continent_code Continent_name  mean_price  cost_by_title_Basic  \\\n",
       "59             AS           Asia    2.996667             0.000425   \n",
       "26             AS           Asia    5.950000             0.000452   \n",
       "0              SA  South America    6.433333             0.000786   \n",
       "9              SA  South America    7.033333             0.000864   \n",
       "5              SA  South America    7.226667             0.000927   \n",
       "..            ...            ...         ...                  ...   \n",
       "55             EU         Europe   14.933333             0.002499   \n",
       "13             EU         Europe   15.546667             0.002633   \n",
       "49             EU         Europe   14.673333             0.003909   \n",
       "11             EU         Europe   11.286667             0.003971   \n",
       "33             EU         Europe   20.100000             0.004226   \n",
       "\n",
       "    cost_by_title_Standard  cost_by_title_Premium  \n",
       "59                0.000647               0.000867  \n",
       "26                0.001131               0.001472  \n",
       "0                 0.001324               0.001945  \n",
       "9                 0.001374               0.001990  \n",
       "5                 0.001430               0.002003  \n",
       "..                     ...                    ...  \n",
       "55                0.003256               0.004517  \n",
       "13                0.003300               0.004300  \n",
       "49                0.006351               0.008797  \n",
       "11                0.004965               0.005954  \n",
       "33                0.006713               0.008845  \n",
       "\n",
       "[65 rows x 18 columns]"
      ]
     },
     "execution_count": 486,
     "metadata": {},
     "output_type": "execute_result"
    }
   ],
   "source": [
    "df.sort_values(by=['cost_by_title_Basic', 'cost_by_title_Standard', 'cost_by_title_Premium'])"
   ]
  },
  {
   "cell_type": "code",
   "execution_count": 497,
   "metadata": {
    "ExecuteTime": {
     "end_time": "2022-02-01T20:39:07.445351Z",
     "start_time": "2022-02-01T20:39:07.434379Z"
    }
   },
   "outputs": [],
   "source": [
    "for col in ['Basic', 'Standard', 'Premium']:\n",
    "    df[f'rank_by_{col}'] = df[f'cost_by_title_{col}'].rank(axis=0, method='dense')"
   ]
  },
  {
   "cell_type": "code",
   "execution_count": 506,
   "metadata": {
    "ExecuteTime": {
     "end_time": "2022-02-01T20:41:17.204449Z",
     "start_time": "2022-02-01T20:41:17.188493Z"
    }
   },
   "outputs": [
    {
     "data": {
      "text/html": [
       "<div>\n",
       "<style scoped>\n",
       "    .dataframe tbody tr th:only-of-type {\n",
       "        vertical-align: middle;\n",
       "    }\n",
       "\n",
       "    .dataframe tbody tr th {\n",
       "        vertical-align: top;\n",
       "    }\n",
       "\n",
       "    .dataframe thead th {\n",
       "        text-align: right;\n",
       "    }\n",
       "</style>\n",
       "<table border=\"1\" class=\"dataframe\">\n",
       "  <thead>\n",
       "    <tr style=\"text-align: right;\">\n",
       "      <th></th>\n",
       "      <th>Country</th>\n",
       "      <th>cost_by_title_Basic</th>\n",
       "      <th>rank_by_Basic</th>\n",
       "    </tr>\n",
       "  </thead>\n",
       "  <tbody>\n",
       "    <tr>\n",
       "      <th>59</th>\n",
       "      <td>Turkey</td>\n",
       "      <td>0.000425</td>\n",
       "      <td>1.0</td>\n",
       "    </tr>\n",
       "    <tr>\n",
       "      <th>26</th>\n",
       "      <td>India</td>\n",
       "      <td>0.000452</td>\n",
       "      <td>2.0</td>\n",
       "    </tr>\n",
       "    <tr>\n",
       "      <th>0</th>\n",
       "      <td>Argentina</td>\n",
       "      <td>0.000786</td>\n",
       "      <td>3.0</td>\n",
       "    </tr>\n",
       "    <tr>\n",
       "      <th>9</th>\n",
       "      <td>Colombia</td>\n",
       "      <td>0.000864</td>\n",
       "      <td>4.0</td>\n",
       "    </tr>\n",
       "    <tr>\n",
       "      <th>5</th>\n",
       "      <td>Brazil</td>\n",
       "      <td>0.000927</td>\n",
       "      <td>5.0</td>\n",
       "    </tr>\n",
       "    <tr>\n",
       "      <th>...</th>\n",
       "      <td>...</td>\n",
       "      <td>...</td>\n",
       "      <td>...</td>\n",
       "    </tr>\n",
       "    <tr>\n",
       "      <th>55</th>\n",
       "      <td>Sweden</td>\n",
       "      <td>0.002499</td>\n",
       "      <td>61.0</td>\n",
       "    </tr>\n",
       "    <tr>\n",
       "      <th>13</th>\n",
       "      <td>Denmark</td>\n",
       "      <td>0.002633</td>\n",
       "      <td>62.0</td>\n",
       "    </tr>\n",
       "    <tr>\n",
       "      <th>49</th>\n",
       "      <td>San Marino</td>\n",
       "      <td>0.003909</td>\n",
       "      <td>63.0</td>\n",
       "    </tr>\n",
       "    <tr>\n",
       "      <th>11</th>\n",
       "      <td>Croatia</td>\n",
       "      <td>0.003971</td>\n",
       "      <td>64.0</td>\n",
       "    </tr>\n",
       "    <tr>\n",
       "      <th>33</th>\n",
       "      <td>Liechtenstein</td>\n",
       "      <td>0.004226</td>\n",
       "      <td>65.0</td>\n",
       "    </tr>\n",
       "  </tbody>\n",
       "</table>\n",
       "<p>65 rows × 3 columns</p>\n",
       "</div>"
      ],
      "text/plain": [
       "          Country  cost_by_title_Basic  rank_by_Basic\n",
       "59         Turkey             0.000425            1.0\n",
       "26          India             0.000452            2.0\n",
       "0       Argentina             0.000786            3.0\n",
       "9        Colombia             0.000864            4.0\n",
       "5          Brazil             0.000927            5.0\n",
       "..            ...                  ...            ...\n",
       "55         Sweden             0.002499           61.0\n",
       "13        Denmark             0.002633           62.0\n",
       "49     San Marino             0.003909           63.0\n",
       "11        Croatia             0.003971           64.0\n",
       "33  Liechtenstein             0.004226           65.0\n",
       "\n",
       "[65 rows x 3 columns]"
      ]
     },
     "execution_count": 506,
     "metadata": {},
     "output_type": "execute_result"
    }
   ],
   "source": [
    "df[['Country', 'cost_by_title_Basic', 'rank_by_Basic']].sort_values(by='cost_by_title_Basic')"
   ]
  },
  {
   "cell_type": "code",
   "execution_count": 503,
   "metadata": {
    "ExecuteTime": {
     "end_time": "2022-02-01T20:40:06.508935Z",
     "start_time": "2022-02-01T20:40:06.491953Z"
    }
   },
   "outputs": [
    {
     "data": {
      "text/html": [
       "<div>\n",
       "<style scoped>\n",
       "    .dataframe tbody tr th:only-of-type {\n",
       "        vertical-align: middle;\n",
       "    }\n",
       "\n",
       "    .dataframe tbody tr th {\n",
       "        vertical-align: top;\n",
       "    }\n",
       "\n",
       "    .dataframe thead th {\n",
       "        text-align: right;\n",
       "    }\n",
       "</style>\n",
       "<table border=\"1\" class=\"dataframe\">\n",
       "  <thead>\n",
       "    <tr style=\"text-align: right;\">\n",
       "      <th></th>\n",
       "      <th>rank_by_Basic</th>\n",
       "      <th>rank_by_Standard</th>\n",
       "      <th>rank_by_Premium</th>\n",
       "    </tr>\n",
       "  </thead>\n",
       "  <tbody>\n",
       "    <tr>\n",
       "      <th>48</th>\n",
       "      <td>26.0</td>\n",
       "      <td>18.0</td>\n",
       "      <td>18.0</td>\n",
       "    </tr>\n",
       "  </tbody>\n",
       "</table>\n",
       "</div>"
      ],
      "text/plain": [
       "    rank_by_Basic  rank_by_Standard  rank_by_Premium\n",
       "48           26.0              18.0             18.0"
      ]
     },
     "execution_count": 503,
     "metadata": {},
     "output_type": "execute_result"
    }
   ],
   "source": [
    "df[df.Country_code == 'RU'][['rank_by_Basic', 'rank_by_Standard', 'rank_by_Premium']]"
   ]
  },
  {
   "cell_type": "markdown",
   "metadata": {},
   "source": [
    "Итого, Россия на 26, 18, 18 местах для базовой, стандартной и Премиум подписок соответственно!"
   ]
  },
  {
   "cell_type": "markdown",
   "metadata": {},
   "source": [
    "#### В какой стране лучше всего брать VPN для того, чтобы платить за Netflix меньше всего?"
   ]
  },
  {
   "cell_type": "markdown",
   "metadata": {},
   "source": [
    "Сделаем вывод на основании "
   ]
  },
  {
   "cell_type": "code",
   "execution_count": 513,
   "metadata": {
    "ExecuteTime": {
     "end_time": "2022-02-01T20:48:57.464020Z",
     "start_time": "2022-02-01T20:48:57.429141Z"
    }
   },
   "outputs": [
    {
     "data": {
      "text/html": [
       "<div>\n",
       "<style scoped>\n",
       "    .dataframe tbody tr th:only-of-type {\n",
       "        vertical-align: middle;\n",
       "    }\n",
       "\n",
       "    .dataframe tbody tr th {\n",
       "        vertical-align: top;\n",
       "    }\n",
       "\n",
       "    .dataframe thead th {\n",
       "        text-align: right;\n",
       "    }\n",
       "</style>\n",
       "<table border=\"1\" class=\"dataframe\">\n",
       "  <thead>\n",
       "    <tr style=\"text-align: right;\">\n",
       "      <th></th>\n",
       "      <th>Country_code</th>\n",
       "      <th>Country</th>\n",
       "      <th>Total Library Size</th>\n",
       "      <th>No. of TV Shows</th>\n",
       "      <th>No. of Movies</th>\n",
       "      <th>Cost Per Month - Basic ($)</th>\n",
       "      <th>Cost Per Month - Standard ($)</th>\n",
       "      <th>Cost Per Month - Premium ($)</th>\n",
       "      <th>CountryCode</th>\n",
       "      <th>Currency</th>\n",
       "      <th>...</th>\n",
       "      <th>avg_wage</th>\n",
       "      <th>Continent_code</th>\n",
       "      <th>Continent_name</th>\n",
       "      <th>mean_price</th>\n",
       "      <th>cost_by_title_Basic</th>\n",
       "      <th>cost_by_title_Standard</th>\n",
       "      <th>cost_by_title_Premium</th>\n",
       "      <th>rank_by_Basic</th>\n",
       "      <th>rank_by_Standard</th>\n",
       "      <th>rank_by_Premium</th>\n",
       "    </tr>\n",
       "  </thead>\n",
       "  <tbody>\n",
       "    <tr>\n",
       "      <th>24</th>\n",
       "      <td>HU</td>\n",
       "      <td>Hungary</td>\n",
       "      <td>6884</td>\n",
       "      <td>4802</td>\n",
       "      <td>2082</td>\n",
       "      <td>7.64</td>\n",
       "      <td>10.71</td>\n",
       "      <td>13.78</td>\n",
       "      <td>HU</td>\n",
       "      <td>Forint</td>\n",
       "      <td>...</td>\n",
       "      <td>1175.85</td>\n",
       "      <td>EU</td>\n",
       "      <td>Europe</td>\n",
       "      <td>10.710000</td>\n",
       "      <td>0.001110</td>\n",
       "      <td>0.001556</td>\n",
       "      <td>0.002002</td>\n",
       "      <td>8.0</td>\n",
       "      <td>7.0</td>\n",
       "      <td>9.0</td>\n",
       "    </tr>\n",
       "    <tr>\n",
       "      <th>44</th>\n",
       "      <td>PH</td>\n",
       "      <td>Philippines</td>\n",
       "      <td>6362</td>\n",
       "      <td>4154</td>\n",
       "      <td>2208</td>\n",
       "      <td>7.35</td>\n",
       "      <td>9.14</td>\n",
       "      <td>10.93</td>\n",
       "      <td>PH</td>\n",
       "      <td>Peso</td>\n",
       "      <td>...</td>\n",
       "      <td>308.80</td>\n",
       "      <td>AS</td>\n",
       "      <td>Asia</td>\n",
       "      <td>9.140000</td>\n",
       "      <td>0.001155</td>\n",
       "      <td>0.001437</td>\n",
       "      <td>0.001718</td>\n",
       "      <td>9.0</td>\n",
       "      <td>6.0</td>\n",
       "      <td>3.0</td>\n",
       "    </tr>\n",
       "    <tr>\n",
       "      <th>61</th>\n",
       "      <td>GB</td>\n",
       "      <td>United Kingdom</td>\n",
       "      <td>6643</td>\n",
       "      <td>4551</td>\n",
       "      <td>2092</td>\n",
       "      <td>7.91</td>\n",
       "      <td>13.20</td>\n",
       "      <td>18.48</td>\n",
       "      <td>GB</td>\n",
       "      <td>Sterling</td>\n",
       "      <td>...</td>\n",
       "      <td>3142.31</td>\n",
       "      <td>EU</td>\n",
       "      <td>Europe</td>\n",
       "      <td>13.196667</td>\n",
       "      <td>0.001191</td>\n",
       "      <td>0.001987</td>\n",
       "      <td>0.002782</td>\n",
       "      <td>10.0</td>\n",
       "      <td>22.0</td>\n",
       "      <td>28.0</td>\n",
       "    </tr>\n",
       "    <tr>\n",
       "      <th>12</th>\n",
       "      <td>CZ</td>\n",
       "      <td>Czechia</td>\n",
       "      <td>7325</td>\n",
       "      <td>5234</td>\n",
       "      <td>2091</td>\n",
       "      <td>8.83</td>\n",
       "      <td>11.49</td>\n",
       "      <td>14.15</td>\n",
       "      <td>CZ</td>\n",
       "      <td>Koruna</td>\n",
       "      <td>...</td>\n",
       "      <td>1659.91</td>\n",
       "      <td>EU</td>\n",
       "      <td>Europe</td>\n",
       "      <td>11.490000</td>\n",
       "      <td>0.001205</td>\n",
       "      <td>0.001569</td>\n",
       "      <td>0.001932</td>\n",
       "      <td>11.0</td>\n",
       "      <td>8.0</td>\n",
       "      <td>5.0</td>\n",
       "    </tr>\n",
       "    <tr>\n",
       "      <th>7</th>\n",
       "      <td>CA</td>\n",
       "      <td>Canada</td>\n",
       "      <td>6239</td>\n",
       "      <td>4311</td>\n",
       "      <td>1928</td>\n",
       "      <td>7.91</td>\n",
       "      <td>11.87</td>\n",
       "      <td>15.03</td>\n",
       "      <td>CA</td>\n",
       "      <td>Canadian Dollar</td>\n",
       "      <td>...</td>\n",
       "      <td>2785.00</td>\n",
       "      <td>NA</td>\n",
       "      <td>North America</td>\n",
       "      <td>11.603333</td>\n",
       "      <td>0.001268</td>\n",
       "      <td>0.001903</td>\n",
       "      <td>0.002409</td>\n",
       "      <td>13.0</td>\n",
       "      <td>19.0</td>\n",
       "      <td>19.0</td>\n",
       "    </tr>\n",
       "    <tr>\n",
       "      <th>1</th>\n",
       "      <td>AU</td>\n",
       "      <td>Australia</td>\n",
       "      <td>6114</td>\n",
       "      <td>4050</td>\n",
       "      <td>2064</td>\n",
       "      <td>7.84</td>\n",
       "      <td>12.12</td>\n",
       "      <td>16.39</td>\n",
       "      <td>AU</td>\n",
       "      <td>Australian Dollars</td>\n",
       "      <td>...</td>\n",
       "      <td>4467.33</td>\n",
       "      <td>OC</td>\n",
       "      <td>Australia</td>\n",
       "      <td>12.116667</td>\n",
       "      <td>0.001282</td>\n",
       "      <td>0.001982</td>\n",
       "      <td>0.002681</td>\n",
       "      <td>14.0</td>\n",
       "      <td>20.0</td>\n",
       "      <td>25.0</td>\n",
       "    </tr>\n",
       "    <tr>\n",
       "      <th>51</th>\n",
       "      <td>SK</td>\n",
       "      <td>Slovakia</td>\n",
       "      <td>7035</td>\n",
       "      <td>5055</td>\n",
       "      <td>1980</td>\n",
       "      <td>9.03</td>\n",
       "      <td>11.29</td>\n",
       "      <td>13.54</td>\n",
       "      <td>SK</td>\n",
       "      <td>Koruna</td>\n",
       "      <td>...</td>\n",
       "      <td>1412.78</td>\n",
       "      <td>EU</td>\n",
       "      <td>Europe</td>\n",
       "      <td>11.286667</td>\n",
       "      <td>0.001284</td>\n",
       "      <td>0.001605</td>\n",
       "      <td>0.001925</td>\n",
       "      <td>15.0</td>\n",
       "      <td>10.0</td>\n",
       "      <td>4.0</td>\n",
       "    </tr>\n",
       "    <tr>\n",
       "      <th>6</th>\n",
       "      <td>BG</td>\n",
       "      <td>Bulgaria</td>\n",
       "      <td>6797</td>\n",
       "      <td>4819</td>\n",
       "      <td>1978</td>\n",
       "      <td>9.03</td>\n",
       "      <td>11.29</td>\n",
       "      <td>13.54</td>\n",
       "      <td>BG</td>\n",
       "      <td>Lev</td>\n",
       "      <td>...</td>\n",
       "      <td>691.59</td>\n",
       "      <td>EU</td>\n",
       "      <td>Europe</td>\n",
       "      <td>11.286667</td>\n",
       "      <td>0.001329</td>\n",
       "      <td>0.001661</td>\n",
       "      <td>0.001992</td>\n",
       "      <td>17.0</td>\n",
       "      <td>11.0</td>\n",
       "      <td>8.0</td>\n",
       "    </tr>\n",
       "    <tr>\n",
       "      <th>28</th>\n",
       "      <td>IE</td>\n",
       "      <td>Ireland</td>\n",
       "      <td>6486</td>\n",
       "      <td>4515</td>\n",
       "      <td>1971</td>\n",
       "      <td>9.03</td>\n",
       "      <td>14.67</td>\n",
       "      <td>20.32</td>\n",
       "      <td>IE</td>\n",
       "      <td>Euros</td>\n",
       "      <td>...</td>\n",
       "      <td>4105.28</td>\n",
       "      <td>EU</td>\n",
       "      <td>Europe</td>\n",
       "      <td>14.673333</td>\n",
       "      <td>0.001392</td>\n",
       "      <td>0.002262</td>\n",
       "      <td>0.003133</td>\n",
       "      <td>18.0</td>\n",
       "      <td>34.0</td>\n",
       "      <td>40.0</td>\n",
       "    </tr>\n",
       "    <tr>\n",
       "      <th>34</th>\n",
       "      <td>LT</td>\n",
       "      <td>Lithuania</td>\n",
       "      <td>6462</td>\n",
       "      <td>4490</td>\n",
       "      <td>1972</td>\n",
       "      <td>9.03</td>\n",
       "      <td>11.29</td>\n",
       "      <td>13.54</td>\n",
       "      <td>LT</td>\n",
       "      <td>Lita</td>\n",
       "      <td>...</td>\n",
       "      <td>1631.74</td>\n",
       "      <td>EU</td>\n",
       "      <td>Europe</td>\n",
       "      <td>11.286667</td>\n",
       "      <td>0.001397</td>\n",
       "      <td>0.001747</td>\n",
       "      <td>0.002095</td>\n",
       "      <td>21.0</td>\n",
       "      <td>13.0</td>\n",
       "      <td>11.0</td>\n",
       "    </tr>\n",
       "    <tr>\n",
       "      <th>15</th>\n",
       "      <td>EE</td>\n",
       "      <td>Estonia</td>\n",
       "      <td>6456</td>\n",
       "      <td>4486</td>\n",
       "      <td>1970</td>\n",
       "      <td>9.03</td>\n",
       "      <td>11.29</td>\n",
       "      <td>13.54</td>\n",
       "      <td>EE</td>\n",
       "      <td>Estonian Kroon</td>\n",
       "      <td>...</td>\n",
       "      <td>1653.90</td>\n",
       "      <td>EU</td>\n",
       "      <td>Europe</td>\n",
       "      <td>11.286667</td>\n",
       "      <td>0.001399</td>\n",
       "      <td>0.001749</td>\n",
       "      <td>0.002097</td>\n",
       "      <td>22.0</td>\n",
       "      <td>14.0</td>\n",
       "      <td>12.0</td>\n",
       "    </tr>\n",
       "    <tr>\n",
       "      <th>32</th>\n",
       "      <td>LV</td>\n",
       "      <td>Latvia</td>\n",
       "      <td>6450</td>\n",
       "      <td>4479</td>\n",
       "      <td>1971</td>\n",
       "      <td>9.03</td>\n",
       "      <td>11.29</td>\n",
       "      <td>13.54</td>\n",
       "      <td>LV</td>\n",
       "      <td>Lat</td>\n",
       "      <td>...</td>\n",
       "      <td>1258.70</td>\n",
       "      <td>EU</td>\n",
       "      <td>Europe</td>\n",
       "      <td>11.286667</td>\n",
       "      <td>0.001400</td>\n",
       "      <td>0.001750</td>\n",
       "      <td>0.002099</td>\n",
       "      <td>23.0</td>\n",
       "      <td>15.0</td>\n",
       "      <td>13.0</td>\n",
       "    </tr>\n",
       "    <tr>\n",
       "      <th>25</th>\n",
       "      <td>IS</td>\n",
       "      <td>Iceland</td>\n",
       "      <td>6387</td>\n",
       "      <td>4426</td>\n",
       "      <td>1961</td>\n",
       "      <td>9.03</td>\n",
       "      <td>14.67</td>\n",
       "      <td>20.32</td>\n",
       "      <td>IS</td>\n",
       "      <td>Icelandic Krona</td>\n",
       "      <td>...</td>\n",
       "      <td>6190.52</td>\n",
       "      <td>EU</td>\n",
       "      <td>Europe</td>\n",
       "      <td>14.673333</td>\n",
       "      <td>0.001414</td>\n",
       "      <td>0.002297</td>\n",
       "      <td>0.003181</td>\n",
       "      <td>24.0</td>\n",
       "      <td>36.0</td>\n",
       "      <td>41.0</td>\n",
       "    </tr>\n",
       "    <tr>\n",
       "      <th>40</th>\n",
       "      <td>NZ</td>\n",
       "      <td>New Zealand</td>\n",
       "      <td>6084</td>\n",
       "      <td>4003</td>\n",
       "      <td>2081</td>\n",
       "      <td>8.80</td>\n",
       "      <td>12.53</td>\n",
       "      <td>16.94</td>\n",
       "      <td>NZ</td>\n",
       "      <td>New Zealand Dollars</td>\n",
       "      <td>...</td>\n",
       "      <td>3373.14</td>\n",
       "      <td>OC</td>\n",
       "      <td>Australia</td>\n",
       "      <td>12.756667</td>\n",
       "      <td>0.001446</td>\n",
       "      <td>0.002060</td>\n",
       "      <td>0.002784</td>\n",
       "      <td>27.0</td>\n",
       "      <td>24.0</td>\n",
       "      <td>29.0</td>\n",
       "    </tr>\n",
       "    <tr>\n",
       "      <th>19</th>\n",
       "      <td>GI</td>\n",
       "      <td>Gibraltar</td>\n",
       "      <td>6167</td>\n",
       "      <td>4079</td>\n",
       "      <td>2088</td>\n",
       "      <td>9.03</td>\n",
       "      <td>14.67</td>\n",
       "      <td>20.32</td>\n",
       "      <td>GI</td>\n",
       "      <td>Gibraltar Pound</td>\n",
       "      <td>...</td>\n",
       "      <td>3198.00</td>\n",
       "      <td>EU</td>\n",
       "      <td>Europe</td>\n",
       "      <td>14.673333</td>\n",
       "      <td>0.001464</td>\n",
       "      <td>0.002379</td>\n",
       "      <td>0.003295</td>\n",
       "      <td>28.0</td>\n",
       "      <td>40.0</td>\n",
       "      <td>45.0</td>\n",
       "    </tr>\n",
       "    <tr>\n",
       "      <th>50</th>\n",
       "      <td>SG</td>\n",
       "      <td>Singapore</td>\n",
       "      <td>6303</td>\n",
       "      <td>4109</td>\n",
       "      <td>2194</td>\n",
       "      <td>9.51</td>\n",
       "      <td>12.81</td>\n",
       "      <td>16.11</td>\n",
       "      <td>SG</td>\n",
       "      <td>Dollar</td>\n",
       "      <td>...</td>\n",
       "      <td>3286.12</td>\n",
       "      <td>AS</td>\n",
       "      <td>Asia</td>\n",
       "      <td>12.810000</td>\n",
       "      <td>0.001509</td>\n",
       "      <td>0.002032</td>\n",
       "      <td>0.002556</td>\n",
       "      <td>29.0</td>\n",
       "      <td>23.0</td>\n",
       "      <td>24.0</td>\n",
       "    </tr>\n",
       "  </tbody>\n",
       "</table>\n",
       "<p>16 rows × 21 columns</p>\n",
       "</div>"
      ],
      "text/plain": [
       "   Country_code         Country  Total Library Size  No. of TV Shows  \\\n",
       "24           HU         Hungary                6884             4802   \n",
       "44           PH     Philippines                6362             4154   \n",
       "61           GB  United Kingdom                6643             4551   \n",
       "12           CZ         Czechia                7325             5234   \n",
       "7            CA          Canada                6239             4311   \n",
       "1            AU       Australia                6114             4050   \n",
       "51           SK        Slovakia                7035             5055   \n",
       "6            BG        Bulgaria                6797             4819   \n",
       "28           IE         Ireland                6486             4515   \n",
       "34           LT       Lithuania                6462             4490   \n",
       "15           EE         Estonia                6456             4486   \n",
       "32           LV          Latvia                6450             4479   \n",
       "25           IS         Iceland                6387             4426   \n",
       "40           NZ     New Zealand                6084             4003   \n",
       "19           GI       Gibraltar                6167             4079   \n",
       "50           SG       Singapore                6303             4109   \n",
       "\n",
       "    No. of Movies  Cost Per Month - Basic ($)  Cost Per Month - Standard ($)  \\\n",
       "24           2082                        7.64                          10.71   \n",
       "44           2208                        7.35                           9.14   \n",
       "61           2092                        7.91                          13.20   \n",
       "12           2091                        8.83                          11.49   \n",
       "7            1928                        7.91                          11.87   \n",
       "1            2064                        7.84                          12.12   \n",
       "51           1980                        9.03                          11.29   \n",
       "6            1978                        9.03                          11.29   \n",
       "28           1971                        9.03                          14.67   \n",
       "34           1972                        9.03                          11.29   \n",
       "15           1970                        9.03                          11.29   \n",
       "32           1971                        9.03                          11.29   \n",
       "25           1961                        9.03                          14.67   \n",
       "40           2081                        8.80                          12.53   \n",
       "19           2088                        9.03                          14.67   \n",
       "50           2194                        9.51                          12.81   \n",
       "\n",
       "    Cost Per Month - Premium ($) CountryCode             Currency  ...  \\\n",
       "24                         13.78          HU               Forint  ...   \n",
       "44                         10.93          PH                 Peso  ...   \n",
       "61                         18.48          GB             Sterling  ...   \n",
       "12                         14.15          CZ               Koruna  ...   \n",
       "7                          15.03          CA      Canadian Dollar  ...   \n",
       "1                          16.39          AU   Australian Dollars  ...   \n",
       "51                         13.54          SK               Koruna  ...   \n",
       "6                          13.54          BG                  Lev  ...   \n",
       "28                         20.32          IE                Euros  ...   \n",
       "34                         13.54          LT                 Lita  ...   \n",
       "15                         13.54          EE       Estonian Kroon  ...   \n",
       "32                         13.54          LV                  Lat  ...   \n",
       "25                         20.32          IS      Icelandic Krona  ...   \n",
       "40                         16.94          NZ  New Zealand Dollars  ...   \n",
       "19                         20.32          GI      Gibraltar Pound  ...   \n",
       "50                         16.11          SG               Dollar  ...   \n",
       "\n",
       "   avg_wage  Continent_code Continent_name mean_price  cost_by_title_Basic  \\\n",
       "24  1175.85              EU         Europe  10.710000             0.001110   \n",
       "44   308.80              AS           Asia   9.140000             0.001155   \n",
       "61  3142.31              EU         Europe  13.196667             0.001191   \n",
       "12  1659.91              EU         Europe  11.490000             0.001205   \n",
       "7   2785.00              NA  North America  11.603333             0.001268   \n",
       "1   4467.33              OC      Australia  12.116667             0.001282   \n",
       "51  1412.78              EU         Europe  11.286667             0.001284   \n",
       "6    691.59              EU         Europe  11.286667             0.001329   \n",
       "28  4105.28              EU         Europe  14.673333             0.001392   \n",
       "34  1631.74              EU         Europe  11.286667             0.001397   \n",
       "15  1653.90              EU         Europe  11.286667             0.001399   \n",
       "32  1258.70              EU         Europe  11.286667             0.001400   \n",
       "25  6190.52              EU         Europe  14.673333             0.001414   \n",
       "40  3373.14              OC      Australia  12.756667             0.001446   \n",
       "19  3198.00              EU         Europe  14.673333             0.001464   \n",
       "50  3286.12              AS           Asia  12.810000             0.001509   \n",
       "\n",
       "    cost_by_title_Standard  cost_by_title_Premium  rank_by_Basic  \\\n",
       "24                0.001556               0.002002            8.0   \n",
       "44                0.001437               0.001718            9.0   \n",
       "61                0.001987               0.002782           10.0   \n",
       "12                0.001569               0.001932           11.0   \n",
       "7                 0.001903               0.002409           13.0   \n",
       "1                 0.001982               0.002681           14.0   \n",
       "51                0.001605               0.001925           15.0   \n",
       "6                 0.001661               0.001992           17.0   \n",
       "28                0.002262               0.003133           18.0   \n",
       "34                0.001747               0.002095           21.0   \n",
       "15                0.001749               0.002097           22.0   \n",
       "32                0.001750               0.002099           23.0   \n",
       "25                0.002297               0.003181           24.0   \n",
       "40                0.002060               0.002784           27.0   \n",
       "19                0.002379               0.003295           28.0   \n",
       "50                0.002032               0.002556           29.0   \n",
       "\n",
       "    rank_by_Standard  rank_by_Premium  \n",
       "24               7.0              9.0  \n",
       "44               6.0              3.0  \n",
       "61              22.0             28.0  \n",
       "12               8.0              5.0  \n",
       "7               19.0             19.0  \n",
       "1               20.0             25.0  \n",
       "51              10.0              4.0  \n",
       "6               11.0              8.0  \n",
       "28              34.0             40.0  \n",
       "34              13.0             11.0  \n",
       "15              14.0             12.0  \n",
       "32              15.0             13.0  \n",
       "25              36.0             41.0  \n",
       "40              24.0             29.0  \n",
       "19              40.0             45.0  \n",
       "50              23.0             24.0  \n",
       "\n",
       "[16 rows x 21 columns]"
      ]
     },
     "execution_count": 513,
     "metadata": {},
     "output_type": "execute_result"
    }
   ],
   "source": [
    "df[df['Total Library Size'] > 6000].sort_values(by=['rank_by_Basic', 'rank_by_Standard',\n",
    "                                                   'rank_by_Premium'])"
   ]
  },
  {
   "cell_type": "code",
   "execution_count": 512,
   "metadata": {
    "ExecuteTime": {
     "end_time": "2022-02-01T20:47:59.867997Z",
     "start_time": "2022-02-01T20:47:59.712412Z"
    }
   },
   "outputs": [
    {
     "data": {
      "text/plain": [
       "<AxesSubplot:>"
      ]
     },
     "execution_count": 512,
     "metadata": {},
     "output_type": "execute_result"
    },
    {
     "data": {
      "image/png": "[encoded data removed]",
      "text/plain": [
       "<Figure size 432x288 with 1 Axes>"
      ]
     },
     "metadata": {
      "needs_background": "light"
     },
     "output_type": "display_data"
    }
   ],
   "source": [
    "df['Total Library Size'].hist()"
   ]
  },
  {
   "cell_type": "markdown",
   "metadata": {},
   "source": [
    "Для принятия решения воспользуемся предположением, что мы хотим одновременно платить достаточно мало, при этом получив достаточно много контента. Поэтому просто введем некоторую границу, ниже которой мы не хотим иметь общее количество фильмов и сериалов, а затем посмотрим самые лучшие предложения (наименьшее cost per title) в разрезе подписок. Идея заключается в том, что если мы выбираем VPN другой страны, чтобы купить подписку, то наиболее вероятно, что мы захотим брать базовую (максимальная экономия) - в таком случае, лучшее предложение будет у пользователей из **Венгрии**.\n",
    "\n",
    "Если пользователь готов потратиться на премиум, то предложение из **Филиппин** окажется более выгодно. **Тем ни менее**, ниже показано, что разница не такая существенная, чтобы пытаться это реализовать в жизнь."
   ]
  },
  {
   "cell_type": "code",
   "execution_count": 526,
   "metadata": {
    "ExecuteTime": {
     "end_time": "2022-02-01T20:57:51.583336Z",
     "start_time": "2022-02-01T20:57:51.572339Z"
    }
   },
   "outputs": [
    {
     "data": {
      "text/plain": [
       "2.630000000000001"
      ]
     },
     "execution_count": 526,
     "metadata": {},
     "output_type": "execute_result"
    }
   ],
   "source": [
    "(df[df['Country_code'] == 'RU']['Cost Per Month - Premium ($)']).values[0] - \\\n",
    "    (df[df['Country_code'] == 'PH']['Cost Per Month - Premium ($)']).values[0]"
   ]
  },
  {
   "cell_type": "code",
   "execution_count": 528,
   "metadata": {
    "ExecuteTime": {
     "end_time": "2022-02-01T20:58:20.694240Z",
     "start_time": "2022-02-01T20:58:20.674294Z"
    }
   },
   "outputs": [
    {
     "data": {
      "text/plain": [
       "-0.2764326397795169"
      ]
     },
     "execution_count": 528,
     "metadata": {},
     "output_type": "execute_result"
    }
   ],
   "source": [
    "(-(df[df['Country_code'] == 'RU']['cost_by_title_Premium']).values[0] + \\\n",
    "    (df[df['Country_code'] == 'PH']['cost_by_title_Premium']).values[0] ) / \\\n",
    "    (df[df['Country_code'] == 'RU']['cost_by_title_Premium']).values[0]"
   ]
  },
  {
   "cell_type": "markdown",
   "metadata": {},
   "source": [
    "В относительных долях выгода получается 0.27 (в ценах за один фильм), что очень серьезно, в абсолютных значениях - 2.63$, вряд ли можно найти достаточно качественный ВПН за такую цену (Premium же нужен для высокого расширения)"
   ]
  }
 ],
 "metadata": {
  "kernelspec": {
   "display_name": "Python 3",
   "language": "python",
   "name": "python3"
  },
  "language_info": {
   "codemirror_mode": {
    "name": "ipython",
    "version": 3
   },
   "file_extension": ".py",
   "mimetype": "text/x-python",
   "name": "python",
   "nbconvert_exporter": "python",
   "pygments_lexer": "ipython3",
   "version": "3.7.9"
  },
  "latex_envs": {
   "LaTeX_envs_menu_present": true,
   "autoclose": false,
   "autocomplete": true,
   "bibliofile": "biblio.bib",
   "cite_by": "apalike",
   "current_citInitial": 1,
   "eqLabelWithNumbers": true,
   "eqNumInitial": 1,
   "hotkeys": {
    "equation": "ctrl-l"
   },
   "labels_anchors": false,
   "latex_user_defs": false,
   "report_style_numbering": false,
   "user_envs_cfg": false
  }
 },
 "nbformat": 4,
 "nbformat_minor": 4
}
